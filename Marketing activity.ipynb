{
 "cells": [
  {
   "cell_type": "markdown",
   "metadata": {},
   "source": [
    "# Проектная работа по теме: Принятие решений в бизнесе"
   ]
  },
  {
   "cell_type": "markdown",
   "metadata": {},
   "source": [
    "В данной проектной работе представляется 3 датасета с информацией о гипотезах, заказах и посетителях. Требуется проанализировать имеющиеся гипотезы и принять решение на основе использования A/B теста с целью увеличения выручки интернет-магазина. <br>\n",
    "Сама работа включает в себя 4 основных этапа: <br>\n",
    "1. Предобработка данных.\n",
    "2. Приоритизация гипотез.\n",
    "3. Анализ A/B теста.\n",
    "4. Выводы по результатам анализа"
   ]
  },
  {
   "cell_type": "markdown",
   "metadata": {},
   "source": [
    "## Предобработка данных"
   ]
  },
  {
   "cell_type": "code",
   "execution_count": 1,
   "metadata": {},
   "outputs": [],
   "source": [
    "import pandas as pd\n",
    "import seaborn as sns\n",
    "from matplotlib import pyplot as plt\n",
    "import numpy as np\n",
    "import datetime as dt\n",
    "import scipy.stats as stats"
   ]
  },
  {
   "cell_type": "code",
   "execution_count": 2,
   "metadata": {},
   "outputs": [
    {
     "name": "stdout",
     "output_type": "stream",
     "text": [
      "Collecting missingno\n",
      "  Downloading missingno-0.5.2-py3-none-any.whl (8.7 kB)\n",
      "Requirement already satisfied: numpy in /opt/conda/lib/python3.9/site-packages (from missingno) (1.21.1)\n",
      "Requirement already satisfied: scipy in /opt/conda/lib/python3.9/site-packages (from missingno) (1.9.1)\n",
      "Requirement already satisfied: seaborn in /opt/conda/lib/python3.9/site-packages (from missingno) (0.11.1)\n",
      "Requirement already satisfied: matplotlib in /opt/conda/lib/python3.9/site-packages (from missingno) (3.3.4)\n",
      "Requirement already satisfied: python-dateutil>=2.1 in /opt/conda/lib/python3.9/site-packages (from matplotlib->missingno) (2.8.1)\n",
      "Requirement already satisfied: pillow>=6.2.0 in /opt/conda/lib/python3.9/site-packages (from matplotlib->missingno) (8.4.0)\n",
      "Requirement already satisfied: pyparsing!=2.0.4,!=2.1.2,!=2.1.6,>=2.0.3 in /opt/conda/lib/python3.9/site-packages (from matplotlib->missingno) (2.4.7)\n",
      "Requirement already satisfied: kiwisolver>=1.0.1 in /opt/conda/lib/python3.9/site-packages (from matplotlib->missingno) (1.4.4)\n",
      "Requirement already satisfied: cycler>=0.10 in /opt/conda/lib/python3.9/site-packages (from matplotlib->missingno) (0.11.0)\n",
      "Requirement already satisfied: six>=1.5 in /opt/conda/lib/python3.9/site-packages (from python-dateutil>=2.1->matplotlib->missingno) (1.16.0)\n",
      "Requirement already satisfied: pandas>=0.23 in /opt/conda/lib/python3.9/site-packages (from seaborn->missingno) (1.2.4)\n",
      "Requirement already satisfied: pytz>=2017.3 in /opt/conda/lib/python3.9/site-packages (from pandas>=0.23->seaborn->missingno) (2021.1)\n",
      "Installing collected packages: missingno\n",
      "Successfully installed missingno-0.5.2\n",
      "Note: you may need to restart the kernel to use updated packages.\n"
     ]
    }
   ],
   "source": [
    "pip install missingno"
   ]
  },
  {
   "cell_type": "code",
   "execution_count": 3,
   "metadata": {},
   "outputs": [],
   "source": [
    "import missingno as msno"
   ]
  },
  {
   "cell_type": "code",
   "execution_count": 4,
   "metadata": {},
   "outputs": [
    {
     "name": "stdout",
     "output_type": "stream",
     "text": [
      "<class 'pandas.core.frame.DataFrame'>\n",
      "RangeIndex: 9 entries, 0 to 8\n",
      "Data columns (total 5 columns):\n",
      " #   Column      Non-Null Count  Dtype \n",
      "---  ------      --------------  ----- \n",
      " 0   Hypothesis  9 non-null      object\n",
      " 1   Reach       9 non-null      int64 \n",
      " 2   Impact      9 non-null      int64 \n",
      " 3   Confidence  9 non-null      int64 \n",
      " 4   Efforts     9 non-null      int64 \n",
      "dtypes: int64(4), object(1)\n",
      "memory usage: 488.0+ bytes\n"
     ]
    }
   ],
   "source": [
    "data = pd.read_csv('/datasets/hypothesis.csv')\n",
    "data.info()"
   ]
  },
  {
   "cell_type": "code",
   "execution_count": 5,
   "metadata": {},
   "outputs": [
    {
     "name": "stdout",
     "output_type": "stream",
     "text": [
      "<class 'pandas.core.frame.DataFrame'>\n",
      "RangeIndex: 1197 entries, 0 to 1196\n",
      "Data columns (total 5 columns):\n",
      " #   Column         Non-Null Count  Dtype \n",
      "---  ------         --------------  ----- \n",
      " 0   transactionId  1197 non-null   int64 \n",
      " 1   visitorId      1197 non-null   int64 \n",
      " 2   date           1197 non-null   object\n",
      " 3   revenue        1197 non-null   int64 \n",
      " 4   group          1197 non-null   object\n",
      "dtypes: int64(3), object(2)\n",
      "memory usage: 46.9+ KB\n"
     ]
    }
   ],
   "source": [
    "orders = pd.read_csv('/datasets/orders.csv')\n",
    "orders.info()\n",
    "#замечаем, что дату следует привести к нужному формату\n",
    "#также было бы неплохо привести столбцы к змеиному регистру"
   ]
  },
  {
   "cell_type": "code",
   "execution_count": 6,
   "metadata": {},
   "outputs": [
    {
     "name": "stdout",
     "output_type": "stream",
     "text": [
      "<class 'pandas.core.frame.DataFrame'>\n",
      "RangeIndex: 62 entries, 0 to 61\n",
      "Data columns (total 3 columns):\n",
      " #   Column    Non-Null Count  Dtype \n",
      "---  ------    --------------  ----- \n",
      " 0   date      62 non-null     object\n",
      " 1   group     62 non-null     object\n",
      " 2   visitors  62 non-null     int64 \n",
      "dtypes: int64(1), object(2)\n",
      "memory usage: 1.6+ KB\n"
     ]
    }
   ],
   "source": [
    "visitors = pd.read_csv('/datasets/visitors.csv')\n",
    "visitors.info()\n",
    "#замечаем, что дату следует привести к нужному формату"
   ]
  },
  {
   "cell_type": "code",
   "execution_count": 7,
   "metadata": {},
   "outputs": [],
   "source": [
    "orders['date'] = pd.to_datetime(orders['date'])\n",
    "visitors['date'] = pd.to_datetime(visitors['date'])\n",
    "#привели столбцы date из датафреймов orders и visitors к типу datetime"
   ]
  },
  {
   "cell_type": "code",
   "execution_count": 8,
   "metadata": {},
   "outputs": [
    {
     "data": {
      "image/png": "[encoded data removed]",
      "text/plain": [
       "<Figure size 1800x720 with 2 Axes>"
      ]
     },
     "metadata": {
      "needs_background": "light"
     },
     "output_type": "display_data"
    }
   ],
   "source": [
    "msno.matrix(data)\n",
    "plt.title('Матричный график визуализации пропусков в датафрейме data')\n",
    "plt.show()\n",
    "#убедились, что в датафрейме data отсутствуют пропуски"
   ]
  },
  {
   "cell_type": "code",
   "execution_count": 9,
   "metadata": {},
   "outputs": [
    {
     "data": {
      "image/png": "[encoded data removed]",
      "text/plain": [
       "<Figure size 1800x720 with 2 Axes>"
      ]
     },
     "metadata": {
      "needs_background": "light"
     },
     "output_type": "display_data"
    }
   ],
   "source": [
    "msno.matrix(orders)\n",
    "plt.title('Матричный график визуализации пропусков в датафрейме orders')\n",
    "plt.show()\n",
    "#убедились, что в датафрейме orders отсутствуют пропуски"
   ]
  },
  {
   "cell_type": "code",
   "execution_count": 10,
   "metadata": {},
   "outputs": [
    {
     "data": {
      "image/png": "[encoded data removed]",
      "text/plain": [
       "<Figure size 1800x720 with 2 Axes>"
      ]
     },
     "metadata": {
      "needs_background": "light"
     },
     "output_type": "display_data"
    }
   ],
   "source": [
    "msno.matrix(visitors)\n",
    "plt.title('Матричный график визуализации пропусков в датафрейме visitors')\n",
    "plt.show()\n",
    "#убедились, что в датафрейме visitors отсутствуют пропуски"
   ]
  },
  {
   "cell_type": "markdown",
   "metadata": {},
   "source": [
    "  Матричный график, который использовался в рамках библиотеки missingno является отличным инструментом для визуализации пропусков. Суть данного метода заключается в обеспечении цветной заливки для каждого столбца. Таким образом, когда данные присутствуют, график затеняется серым (или выбранным вами цветом), а когда они отсутствуют, график отображается белым цветом. Данный способ удобен тем, что можно визуально определить как сами пропуски, так и их долю от всех данных."
   ]
  },
  {
   "cell_type": "markdown",
   "metadata": {},
   "source": [
    "В качестве альтернативного подхода к определению пропусков, применим конструкцию isna().sum()."
   ]
  },
  {
   "cell_type": "code",
   "execution_count": 11,
   "metadata": {},
   "outputs": [
    {
     "data": {
      "text/plain": [
       "Hypothesis    0\n",
       "Reach         0\n",
       "Impact        0\n",
       "Confidence    0\n",
       "Efforts       0\n",
       "dtype: int64"
      ]
     },
     "execution_count": 11,
     "metadata": {},
     "output_type": "execute_result"
    }
   ],
   "source": [
    "data.isna().sum()"
   ]
  },
  {
   "cell_type": "code",
   "execution_count": 12,
   "metadata": {},
   "outputs": [
    {
     "data": {
      "text/plain": [
       "transactionId    0\n",
       "visitorId        0\n",
       "date             0\n",
       "revenue          0\n",
       "group            0\n",
       "dtype: int64"
      ]
     },
     "execution_count": 12,
     "metadata": {},
     "output_type": "execute_result"
    }
   ],
   "source": [
    "orders.isna().sum()"
   ]
  },
  {
   "cell_type": "code",
   "execution_count": 13,
   "metadata": {},
   "outputs": [
    {
     "data": {
      "text/plain": [
       "date        0\n",
       "group       0\n",
       "visitors    0\n",
       "dtype: int64"
      ]
     },
     "execution_count": 13,
     "metadata": {},
     "output_type": "execute_result"
    }
   ],
   "source": [
    "visitors.isna().sum()"
   ]
  },
  {
   "cell_type": "code",
   "execution_count": 14,
   "metadata": {},
   "outputs": [
    {
     "data": {
      "text/plain": [
       "0"
      ]
     },
     "execution_count": 14,
     "metadata": {},
     "output_type": "execute_result"
    }
   ],
   "source": [
    "data.duplicated().sum()\n",
    "#убедились, что в датафрейме data отсутствуют дубликаты"
   ]
  },
  {
   "cell_type": "code",
   "execution_count": 15,
   "metadata": {},
   "outputs": [
    {
     "data": {
      "text/plain": [
       "0"
      ]
     },
     "execution_count": 15,
     "metadata": {},
     "output_type": "execute_result"
    }
   ],
   "source": [
    "orders.duplicated().sum()\n",
    "#убедились, что в датафрейме orders отсутствуют дубликаты"
   ]
  },
  {
   "cell_type": "code",
   "execution_count": 16,
   "metadata": {},
   "outputs": [
    {
     "data": {
      "text/plain": [
       "0"
      ]
     },
     "execution_count": 16,
     "metadata": {},
     "output_type": "execute_result"
    }
   ],
   "source": [
    "visitors.duplicated().sum()\n",
    "#убедились, что в датафрейме visitors отсутствуют дубликаты"
   ]
  },
  {
   "cell_type": "markdown",
   "metadata": {},
   "source": [
    "<b> В результате предобработки была проведена проверка на дубликаты и пропуски - их не оказалось в исходных датафреймах.</b>"
   ]
  },
  {
   "cell_type": "markdown",
   "metadata": {},
   "source": [
    "## Приоритизация гипотез"
   ]
  },
  {
   "cell_type": "code",
   "execution_count": 17,
   "metadata": {},
   "outputs": [
    {
     "data": {
      "text/html": [
       "<div>\n",
       "<style scoped>\n",
       "    .dataframe tbody tr th:only-of-type {\n",
       "        vertical-align: middle;\n",
       "    }\n",
       "\n",
       "    .dataframe tbody tr th {\n",
       "        vertical-align: top;\n",
       "    }\n",
       "\n",
       "    .dataframe thead th {\n",
       "        text-align: right;\n",
       "    }\n",
       "</style>\n",
       "<table border=\"1\" class=\"dataframe\">\n",
       "  <thead>\n",
       "    <tr style=\"text-align: right;\">\n",
       "      <th></th>\n",
       "      <th>Hypothesis</th>\n",
       "      <th>Reach</th>\n",
       "      <th>Impact</th>\n",
       "      <th>Confidence</th>\n",
       "      <th>Efforts</th>\n",
       "    </tr>\n",
       "  </thead>\n",
       "  <tbody>\n",
       "    <tr>\n",
       "      <th>0</th>\n",
       "      <td>Добавить два новых канала привлечения трафика, что позволит привлекать на 30% больше пользователей</td>\n",
       "      <td>3</td>\n",
       "      <td>10</td>\n",
       "      <td>8</td>\n",
       "      <td>6</td>\n",
       "    </tr>\n",
       "    <tr>\n",
       "      <th>1</th>\n",
       "      <td>Запустить собственную службу доставки, что сократит срок доставки заказов</td>\n",
       "      <td>2</td>\n",
       "      <td>5</td>\n",
       "      <td>4</td>\n",
       "      <td>10</td>\n",
       "    </tr>\n",
       "    <tr>\n",
       "      <th>2</th>\n",
       "      <td>Добавить блоки рекомендаций товаров на сайт интернет магазина, чтобы повысить конверсию и средний чек заказа</td>\n",
       "      <td>8</td>\n",
       "      <td>3</td>\n",
       "      <td>7</td>\n",
       "      <td>3</td>\n",
       "    </tr>\n",
       "    <tr>\n",
       "      <th>3</th>\n",
       "      <td>Изменить структура категорий, что увеличит конверсию, т.к. пользователи быстрее найдут нужный товар</td>\n",
       "      <td>8</td>\n",
       "      <td>3</td>\n",
       "      <td>3</td>\n",
       "      <td>8</td>\n",
       "    </tr>\n",
       "    <tr>\n",
       "      <th>4</th>\n",
       "      <td>Изменить цвет фона главной страницы, чтобы увеличить вовлеченность пользователей</td>\n",
       "      <td>3</td>\n",
       "      <td>1</td>\n",
       "      <td>1</td>\n",
       "      <td>1</td>\n",
       "    </tr>\n",
       "    <tr>\n",
       "      <th>5</th>\n",
       "      <td>Добавить страницу отзывов клиентов о магазине, что позволит увеличить количество заказов</td>\n",
       "      <td>3</td>\n",
       "      <td>2</td>\n",
       "      <td>2</td>\n",
       "      <td>3</td>\n",
       "    </tr>\n",
       "    <tr>\n",
       "      <th>6</th>\n",
       "      <td>Показать на главной странице баннеры с актуальными акциями и распродажами, чтобы увеличить конверсию</td>\n",
       "      <td>5</td>\n",
       "      <td>3</td>\n",
       "      <td>8</td>\n",
       "      <td>3</td>\n",
       "    </tr>\n",
       "    <tr>\n",
       "      <th>7</th>\n",
       "      <td>Добавить форму подписки на все основные страницы, чтобы собрать базу клиентов для email-рассылок</td>\n",
       "      <td>10</td>\n",
       "      <td>7</td>\n",
       "      <td>8</td>\n",
       "      <td>5</td>\n",
       "    </tr>\n",
       "    <tr>\n",
       "      <th>8</th>\n",
       "      <td>Запустить акцию, дающую скидку на товар в день рождения</td>\n",
       "      <td>1</td>\n",
       "      <td>9</td>\n",
       "      <td>9</td>\n",
       "      <td>5</td>\n",
       "    </tr>\n",
       "  </tbody>\n",
       "</table>\n",
       "</div>"
      ],
      "text/plain": [
       "                                                                                                     Hypothesis  \\\n",
       "0            Добавить два новых канала привлечения трафика, что позволит привлекать на 30% больше пользователей   \n",
       "1                                     Запустить собственную службу доставки, что сократит срок доставки заказов   \n",
       "2  Добавить блоки рекомендаций товаров на сайт интернет магазина, чтобы повысить конверсию и средний чек заказа   \n",
       "3           Изменить структура категорий, что увеличит конверсию, т.к. пользователи быстрее найдут нужный товар   \n",
       "4                              Изменить цвет фона главной страницы, чтобы увеличить вовлеченность пользователей   \n",
       "5                      Добавить страницу отзывов клиентов о магазине, что позволит увеличить количество заказов   \n",
       "6          Показать на главной странице баннеры с актуальными акциями и распродажами, чтобы увеличить конверсию   \n",
       "7              Добавить форму подписки на все основные страницы, чтобы собрать базу клиентов для email-рассылок   \n",
       "8                                                       Запустить акцию, дающую скидку на товар в день рождения   \n",
       "\n",
       "   Reach  Impact  Confidence  Efforts  \n",
       "0      3      10           8        6  \n",
       "1      2       5           4       10  \n",
       "2      8       3           7        3  \n",
       "3      8       3           3        8  \n",
       "4      3       1           1        1  \n",
       "5      3       2           2        3  \n",
       "6      5       3           8        3  \n",
       "7     10       7           8        5  \n",
       "8      1       9           9        5  "
      ]
     },
     "execution_count": 17,
     "metadata": {},
     "output_type": "execute_result"
    }
   ],
   "source": [
    "pd.set_option('display.max_colwidth', None)\n",
    "#данная команда нужна для полного отображения строки\n",
    "data"
   ]
  },
  {
   "cell_type": "code",
   "execution_count": 18,
   "metadata": {},
   "outputs": [
    {
     "data": {
      "text/html": [
       "<div>\n",
       "<style scoped>\n",
       "    .dataframe tbody tr th:only-of-type {\n",
       "        vertical-align: middle;\n",
       "    }\n",
       "\n",
       "    .dataframe tbody tr th {\n",
       "        vertical-align: top;\n",
       "    }\n",
       "\n",
       "    .dataframe thead th {\n",
       "        text-align: right;\n",
       "    }\n",
       "</style>\n",
       "<table border=\"1\" class=\"dataframe\">\n",
       "  <thead>\n",
       "    <tr style=\"text-align: right;\">\n",
       "      <th></th>\n",
       "      <th>Hypothesis</th>\n",
       "      <th>ICE</th>\n",
       "    </tr>\n",
       "  </thead>\n",
       "  <tbody>\n",
       "    <tr>\n",
       "      <th>8</th>\n",
       "      <td>Запустить акцию, дающую скидку на товар в день рождения</td>\n",
       "      <td>16.20</td>\n",
       "    </tr>\n",
       "    <tr>\n",
       "      <th>0</th>\n",
       "      <td>Добавить два новых канала привлечения трафика, что позволит привлекать на 30% больше пользователей</td>\n",
       "      <td>13.33</td>\n",
       "    </tr>\n",
       "    <tr>\n",
       "      <th>7</th>\n",
       "      <td>Добавить форму подписки на все основные страницы, чтобы собрать базу клиентов для email-рассылок</td>\n",
       "      <td>11.20</td>\n",
       "    </tr>\n",
       "    <tr>\n",
       "      <th>6</th>\n",
       "      <td>Показать на главной странице баннеры с актуальными акциями и распродажами, чтобы увеличить конверсию</td>\n",
       "      <td>8.00</td>\n",
       "    </tr>\n",
       "    <tr>\n",
       "      <th>2</th>\n",
       "      <td>Добавить блоки рекомендаций товаров на сайт интернет магазина, чтобы повысить конверсию и средний чек заказа</td>\n",
       "      <td>7.00</td>\n",
       "    </tr>\n",
       "    <tr>\n",
       "      <th>1</th>\n",
       "      <td>Запустить собственную службу доставки, что сократит срок доставки заказов</td>\n",
       "      <td>2.00</td>\n",
       "    </tr>\n",
       "    <tr>\n",
       "      <th>5</th>\n",
       "      <td>Добавить страницу отзывов клиентов о магазине, что позволит увеличить количество заказов</td>\n",
       "      <td>1.33</td>\n",
       "    </tr>\n",
       "    <tr>\n",
       "      <th>3</th>\n",
       "      <td>Изменить структура категорий, что увеличит конверсию, т.к. пользователи быстрее найдут нужный товар</td>\n",
       "      <td>1.12</td>\n",
       "    </tr>\n",
       "    <tr>\n",
       "      <th>4</th>\n",
       "      <td>Изменить цвет фона главной страницы, чтобы увеличить вовлеченность пользователей</td>\n",
       "      <td>1.00</td>\n",
       "    </tr>\n",
       "  </tbody>\n",
       "</table>\n",
       "</div>"
      ],
      "text/plain": [
       "                                                                                                     Hypothesis  \\\n",
       "8                                                       Запустить акцию, дающую скидку на товар в день рождения   \n",
       "0            Добавить два новых канала привлечения трафика, что позволит привлекать на 30% больше пользователей   \n",
       "7              Добавить форму подписки на все основные страницы, чтобы собрать базу клиентов для email-рассылок   \n",
       "6          Показать на главной странице баннеры с актуальными акциями и распродажами, чтобы увеличить конверсию   \n",
       "2  Добавить блоки рекомендаций товаров на сайт интернет магазина, чтобы повысить конверсию и средний чек заказа   \n",
       "1                                     Запустить собственную службу доставки, что сократит срок доставки заказов   \n",
       "5                      Добавить страницу отзывов клиентов о магазине, что позволит увеличить количество заказов   \n",
       "3           Изменить структура категорий, что увеличит конверсию, т.к. пользователи быстрее найдут нужный товар   \n",
       "4                              Изменить цвет фона главной страницы, чтобы увеличить вовлеченность пользователей   \n",
       "\n",
       "     ICE  \n",
       "8  16.20  \n",
       "0  13.33  \n",
       "7  11.20  \n",
       "6   8.00  \n",
       "2   7.00  \n",
       "1   2.00  \n",
       "5   1.33  \n",
       "3   1.12  \n",
       "4   1.00  "
      ]
     },
     "execution_count": 18,
     "metadata": {},
     "output_type": "execute_result"
    }
   ],
   "source": [
    "data['ICE'] = round(data['Impact'] * data['Confidence'] / data['Efforts'], 2)\n",
    "data[['Hypothesis', 'ICE']].sort_values(by = 'ICE', ascending = False)"
   ]
  },
  {
   "cell_type": "markdown",
   "metadata": {},
   "source": [
    "Наиболее перспективные гипотезы по ICE: 8,0,7; тогда как наименее перспективными будут гипотезы 5, 3 и 4."
   ]
  },
  {
   "cell_type": "code",
   "execution_count": 19,
   "metadata": {},
   "outputs": [
    {
     "data": {
      "text/plain": [
       "0     40.0\n",
       "1      4.0\n",
       "2     56.0\n",
       "3      9.0\n",
       "4      3.0\n",
       "5      4.0\n",
       "6     40.0\n",
       "7    112.0\n",
       "8     16.2\n",
       "Name: RICE, dtype: float64"
      ]
     },
     "execution_count": 19,
     "metadata": {},
     "output_type": "execute_result"
    }
   ],
   "source": [
    "data['RICE'] = (data['Reach'] * data['Impact'] * data['Confidence']) / data['Efforts']\n",
    "data['RICE']\n",
    "#data[['Hypothesis', 'RICE', 'Reach']].sort_values(by = 'RICE', ascending = False)"
   ]
  },
  {
   "cell_type": "markdown",
   "metadata": {},
   "source": [
    "Наиболее перспективными гипотезами по RICE являются: 7,2,0,6. Наименее перспективными - 1,5 и 4."
   ]
  },
  {
   "cell_type": "markdown",
   "metadata": {},
   "source": [
    "В ходе рассмотрения фреймворков ICE и RICE удалось выявить наиболее перспективные гипотезы, а также отбросить те гипотезы, которые не покажут должного результата. Поскольку RICE учитывает также  Reach (показывает, скольких пользователей затронет изменение, которое мы хотим внести), то нельзя не брать во внимание такой ценный параметр. Наиболее удачными для последующих тестов будут гипотезы под номерами 7,2 и 0."
   ]
  },
  {
   "cell_type": "markdown",
   "metadata": {},
   "source": [
    "## Анализ A/B теста."
   ]
  },
  {
   "cell_type": "markdown",
   "metadata": {},
   "source": [
    "Перед началом теста посмотрим количество участников в группах."
   ]
  },
  {
   "cell_type": "code",
   "execution_count": 20,
   "metadata": {},
   "outputs": [
    {
     "data": {
      "text/plain": [
       "557"
      ]
     },
     "execution_count": 20,
     "metadata": {},
     "output_type": "execute_result"
    }
   ],
   "source": [
    "groupA = orders.query('group == \"A\"')\n",
    "len(groupA)"
   ]
  },
  {
   "cell_type": "code",
   "execution_count": 21,
   "metadata": {},
   "outputs": [
    {
     "data": {
      "text/plain": [
       "640"
      ]
     },
     "execution_count": 21,
     "metadata": {},
     "output_type": "execute_result"
    }
   ],
   "source": [
    "groupB = orders.query('group == \"B\"')\n",
    "len(groupB)"
   ]
  },
  {
   "cell_type": "markdown",
   "metadata": {},
   "source": [
    "Количество людей по группам распределено неравномерно, но не столь критично. Можно приступать к работе."
   ]
  },
  {
   "cell_type": "code",
   "execution_count": 22,
   "metadata": {},
   "outputs": [
    {
     "data": {
      "text/html": [
       "<div>\n",
       "<style scoped>\n",
       "    .dataframe tbody tr th:only-of-type {\n",
       "        vertical-align: middle;\n",
       "    }\n",
       "\n",
       "    .dataframe tbody tr th {\n",
       "        vertical-align: top;\n",
       "    }\n",
       "\n",
       "    .dataframe thead th {\n",
       "        text-align: right;\n",
       "    }\n",
       "</style>\n",
       "<table border=\"1\" class=\"dataframe\">\n",
       "  <thead>\n",
       "    <tr style=\"text-align: right;\">\n",
       "      <th></th>\n",
       "      <th>orderId</th>\n",
       "      <th>userId</th>\n",
       "      <th>date</th>\n",
       "      <th>revenue</th>\n",
       "      <th>group</th>\n",
       "    </tr>\n",
       "  </thead>\n",
       "  <tbody>\n",
       "    <tr>\n",
       "      <th>0</th>\n",
       "      <td>3667963787</td>\n",
       "      <td>3312258926</td>\n",
       "      <td>2019-08-15</td>\n",
       "      <td>1650</td>\n",
       "      <td>B</td>\n",
       "    </tr>\n",
       "    <tr>\n",
       "      <th>1</th>\n",
       "      <td>2804400009</td>\n",
       "      <td>3642806036</td>\n",
       "      <td>2019-08-15</td>\n",
       "      <td>730</td>\n",
       "      <td>B</td>\n",
       "    </tr>\n",
       "    <tr>\n",
       "      <th>2</th>\n",
       "      <td>2961555356</td>\n",
       "      <td>4069496402</td>\n",
       "      <td>2019-08-15</td>\n",
       "      <td>400</td>\n",
       "      <td>A</td>\n",
       "    </tr>\n",
       "    <tr>\n",
       "      <th>3</th>\n",
       "      <td>3797467345</td>\n",
       "      <td>1196621759</td>\n",
       "      <td>2019-08-15</td>\n",
       "      <td>9759</td>\n",
       "      <td>B</td>\n",
       "    </tr>\n",
       "    <tr>\n",
       "      <th>4</th>\n",
       "      <td>2282983706</td>\n",
       "      <td>2322279887</td>\n",
       "      <td>2019-08-15</td>\n",
       "      <td>2308</td>\n",
       "      <td>B</td>\n",
       "    </tr>\n",
       "  </tbody>\n",
       "</table>\n",
       "</div>"
      ],
      "text/plain": [
       "      orderId      userId       date  revenue group\n",
       "0  3667963787  3312258926 2019-08-15     1650     B\n",
       "1  2804400009  3642806036 2019-08-15      730     B\n",
       "2  2961555356  4069496402 2019-08-15      400     A\n",
       "3  3797467345  1196621759 2019-08-15     9759     B\n",
       "4  2282983706  2322279887 2019-08-15     2308     B"
      ]
     },
     "execution_count": 22,
     "metadata": {},
     "output_type": "execute_result"
    }
   ],
   "source": [
    "orders.rename(columns = {'transactionId' : 'orderId', 'visitorId' : 'userId'}, inplace = True)\n",
    "orders.head()"
   ]
  },
  {
   "cell_type": "code",
   "execution_count": 23,
   "metadata": {},
   "outputs": [
    {
     "name": "stdout",
     "output_type": "stream",
     "text": [
      "Дата начала теста: 2019-08-01 00:00:00\n",
      "Дата окончания теста: 2019-08-31 00:00:00\n"
     ]
    }
   ],
   "source": [
    "print('Дата начала теста:', orders['date'].min())\n",
    "print('Дата окончания теста:', orders['date'].max())"
   ]
  },
  {
   "cell_type": "markdown",
   "metadata": {},
   "source": [
    "Поскольку групп сравнения только две, то в данном случае мы работаем с парным A/B тестом."
   ]
  },
  {
   "cell_type": "code",
   "execution_count": 24,
   "metadata": {},
   "outputs": [
    {
     "data": {
      "text/plain": [
       "group    58\n",
       "dtype: int64"
      ]
     },
     "execution_count": 24,
     "metadata": {},
     "output_type": "execute_result"
    }
   ],
   "source": [
    "orders.groupby('userId').agg({'group' : 'nunique'}).query('group>1').count()"
   ]
  },
  {
   "cell_type": "markdown",
   "metadata": {},
   "source": [
    "Заметим, что лишь 58 попали в обе группы одновременно. Поскольку эта доля от общего числа небольшая, можем их оставить."
   ]
  },
  {
   "cell_type": "markdown",
   "metadata": {},
   "source": [
    "### Построение графика кумулятивной выручки по группам."
   ]
  },
  {
   "cell_type": "code",
   "execution_count": 25,
   "metadata": {},
   "outputs": [
    {
     "name": "stdout",
     "output_type": "stream",
     "text": [
      "        date group  orders  buyers  revenue  visitors\n",
      "0 2019-08-01     A      24      20   148579       719\n",
      "1 2019-08-01     B      21      20   101217       713\n",
      "2 2019-08-02     A      44      38   242401      1338\n",
      "3 2019-08-02     B      45      43   266748      1294\n",
      "4 2019-08-03     A      68      62   354874      1845\n"
     ]
    }
   ],
   "source": [
    "# создаем массив уникальных пар значений дат и групп теста\n",
    "datesGroups = orders[['date','group']].drop_duplicates()\n",
    "\n",
    "# получаем агрегированные кумулятивные по дням данные о заказах \n",
    "ordersAggregated = datesGroups.apply(lambda x: orders[np.logical_and(orders['date'] <= x['date'], orders['group'] == x['group'])].agg({'date' : 'max', 'group' : 'max', 'orderId' : 'nunique', 'userId' : 'nunique', 'revenue' : 'sum'}), axis=1).sort_values(by=['date','group'])\n",
    "\n",
    "# получаем агрегированные кумулятивные по дням данные о посетителях интернет-магазина \n",
    "visitorsAggregated = datesGroups.apply(lambda x: visitors[np.logical_and(visitors['date'] <= x['date'], visitors['group'] == x['group'])].agg({'date' : 'max', 'group' : 'max', 'visitors' : 'sum'}), axis=1).sort_values(by=['date','group'])\n",
    "\n",
    "# объединяем кумулятивные данные в одной таблице и присваиваем ее столбцам понятные названия\n",
    "cumulativeData = ordersAggregated.merge(visitorsAggregated, left_on=['date', 'group'], right_on=['date', 'group'])\n",
    "cumulativeData.columns = ['date', 'group', 'orders', 'buyers', 'revenue', 'visitors']\n",
    "\n",
    "print(cumulativeData.head(5)) "
   ]
  },
  {
   "cell_type": "code",
   "execution_count": 26,
   "metadata": {},
   "outputs": [
    {
     "data": {
      "image/png": "[encoded data removed]",
      "text/plain": [
       "<Figure size 432x288 with 1 Axes>"
      ]
     },
     "metadata": {
      "needs_background": "light"
     },
     "output_type": "display_data"
    }
   ],
   "source": [
    "# датафрейм с кумулятивным количеством заказов и кумулятивной выручкой по дням в группе А\n",
    "cumulativeRevenueA = cumulativeData[cumulativeData['group']=='A'][['date','revenue', 'orders']]\n",
    "\n",
    "# датафрейм с кумулятивным количеством заказов и кумулятивной выручкой по дням в группе B\n",
    "cumulativeRevenueB = cumulativeData[cumulativeData['group']=='B'][['date','revenue', 'orders']]\n",
    "\n",
    "# Строим график выручки группы А\n",
    "plt.plot(cumulativeRevenueA['date'], cumulativeRevenueA['revenue'], label='A')\n",
    "\n",
    "# Строим график выручки группы B\n",
    "plt.plot(cumulativeRevenueB['date'], cumulativeRevenueB['revenue'], label='B')\n",
    "plt.xticks(rotation=45)\n",
    "plt.title('Выручка по дням и группам A/B тестирования.')\n",
    "plt.xlabel('Дата')\n",
    "plt.ylabel('Выручка')\n",
    "plt.grid()\n",
    "plt.legend()\n",
    "plt.rcParams[\"figure.figsize\"]=10, 5\n",
    "plt.show()"
   ]
  },
  {
   "cell_type": "markdown",
   "metadata": {},
   "source": [
    "Выручка почти равномерно увеличивается в течение всего теста. Однако графики выручки обеих групп в нескольких точках резко растут. Это может сигнализировать о всплесках числа заказов, либо о появлении очень дорогих заказов в выборке."
   ]
  },
  {
   "cell_type": "markdown",
   "metadata": {},
   "source": [
    "### Построение графика кумулятивного среднего чека по группам."
   ]
  },
  {
   "cell_type": "code",
   "execution_count": 27,
   "metadata": {},
   "outputs": [
    {
     "data": {
      "image/png": "[encoded data removed]",
      "text/plain": [
       "<Figure size 720x360 with 1 Axes>"
      ]
     },
     "metadata": {
      "needs_background": "light"
     },
     "output_type": "display_data"
    }
   ],
   "source": [
    "plt.plot(cumulativeRevenueA['date'], cumulativeRevenueA['revenue']/cumulativeRevenueA['orders'], label='A')\n",
    "plt.plot(cumulativeRevenueB['date'], cumulativeRevenueB['revenue']/cumulativeRevenueB['orders'], label='B')\n",
    "\n",
    "plt.xticks(rotation=45)\n",
    "plt.title('Средний чек по дням и группам A/B тестирования.')\n",
    "plt.xlabel('Дата')\n",
    "plt.ylabel('Сумма среднего чека')\n",
    "plt.grid()\n",
    "plt.legend()\n",
    "plt.rcParams[\"figure.figsize\"]=10, 5\n",
    "plt.show()"
   ]
  },
  {
   "cell_type": "markdown",
   "metadata": {},
   "source": [
    "Исходя из графика, можно заметить, что средний чек для А группы сильно просел, однако выровнялся и постепенно шёл равномерно, чего нельзя сказать о группе B, где наблюдается резкий всплеск суммы среднего чека - за пару дней он вырос на 30%, затем плавно опускался вниз. Вероятно, всплеск связан с появлением крупных заказов, которые отразились на среднем чеке."
   ]
  },
  {
   "cell_type": "markdown",
   "metadata": {},
   "source": [
    "### Построение графика относительного изменения кумулятивного среднего чека группы B к группе A"
   ]
  },
  {
   "cell_type": "code",
   "execution_count": 28,
   "metadata": {},
   "outputs": [
    {
     "data": {
      "image/png": "[encoded data removed]",
      "text/plain": [
       "<Figure size 720x360 with 1 Axes>"
      ]
     },
     "metadata": {
      "needs_background": "light"
     },
     "output_type": "display_data"
    }
   ],
   "source": [
    "# собираем данные в одном датафрейме\n",
    "mergedCumulativeRevenue = cumulativeRevenueA.merge(cumulativeRevenueB, left_on='date', right_on='date', how='left', suffixes=['A', 'B'])\n",
    "\n",
    "# cтроим отношение средних чеков\n",
    "plt.plot(mergedCumulativeRevenue['date'], (mergedCumulativeRevenue['revenueB']/mergedCumulativeRevenue['ordersB'])/(mergedCumulativeRevenue['revenueA']/mergedCumulativeRevenue['ordersA'])-1)\n",
    "\n",
    "# добавляем ось X\n",
    "plt.axhline(y=0, color='black', linestyle='--')\n",
    "plt.xticks(rotation = 45)\n",
    "plt.title('Относительное изменение кумулятивного среднего чека группы B к группе А')\n",
    "plt.xlabel('Дата')\n",
    "plt.ylabel('Относительное различие')\n",
    "plt.rcParams[\"figure.figsize\"]=10, 5\n",
    "plt.show()"
   ]
  },
  {
   "cell_type": "markdown",
   "metadata": {},
   "source": [
    "По графику заметим, что группа B практически всегда преваливаровала над группой А, за исключением первых дней теста и небольшой \"просадки\" в середине. Можно предположить, что причиной таких различий являются крупные заказы."
   ]
  },
  {
   "cell_type": "markdown",
   "metadata": {},
   "source": [
    "### Построение графика кумулятивного среднего количества заказов на посетителя по группам."
   ]
  },
  {
   "cell_type": "markdown",
   "metadata": {},
   "source": [
    "Кумулятивное среднее количества заказов на посетителя - есть кумулятивное среднее"
   ]
  },
  {
   "cell_type": "code",
   "execution_count": 29,
   "metadata": {},
   "outputs": [
    {
     "data": {
      "image/png": "[encoded data removed]",
      "text/plain": [
       "<Figure size 720x360 with 1 Axes>"
      ]
     },
     "metadata": {
      "needs_background": "light"
     },
     "output_type": "display_data"
    }
   ],
   "source": [
    "# считаем кумулятивную конверсию\n",
    "cumulativeData['conversion'] = cumulativeData['orders']/cumulativeData['visitors']\n",
    "\n",
    "# отделяем данные по группе A\n",
    "cumulativeDataA = cumulativeData[cumulativeData['group']=='A']\n",
    "\n",
    "# отделяем данные по группе B\n",
    "cumulativeDataB = cumulativeData[cumulativeData['group']=='B']\n",
    "\n",
    "plt.plot(cumulativeDataA['date'], cumulativeDataA['conversion'], label='A')\n",
    "plt.plot(cumulativeDataB['date'], cumulativeDataB['conversion'], label='B')\n",
    "plt.xticks(rotation = 45)\n",
    "plt.title('Зависимость среднего количества покупок на посетителя от даты')\n",
    "plt.xlabel('Дата')\n",
    "plt.ylabel('Среднее количество покупок на посетителя')\n",
    "plt.legend()\n",
    "plt.rcParams[\"figure.figsize\"]=10, 5\n",
    "plt.show()"
   ]
  },
  {
   "cell_type": "markdown",
   "metadata": {},
   "source": [
    "Заметим, что среднее количество покупок на посетителя у группы А после первой недели была стабильно больше, тогда как посетители из группы B показали значительный взлёт по данной метрике, затем эта разница постепенно уменьшалась и находилась в районе 0.05 на протяжении заключительных 10 дней теста."
   ]
  },
  {
   "cell_type": "markdown",
   "metadata": {},
   "source": [
    "### Построение графика относительного изменения кумулятивного среднего количества заказов на посетителя группы B к группе A."
   ]
  },
  {
   "cell_type": "code",
   "execution_count": 30,
   "metadata": {},
   "outputs": [
    {
     "data": {
      "image/png": "[encoded data removed]",
      "text/plain": [
       "<Figure size 720x360 with 1 Axes>"
      ]
     },
     "metadata": {
      "needs_background": "light"
     },
     "output_type": "display_data"
    }
   ],
   "source": [
    "mergedCumulativeConversions = cumulativeDataA[['date','conversion']].merge(cumulativeDataB[['date','conversion']], left_on='date', right_on='date', how='left', suffixes=['A', 'B'])\n",
    "\n",
    "plt.plot(mergedCumulativeConversions['date'], mergedCumulativeConversions['conversionB']/mergedCumulativeConversions['conversionA']-1,label=\"Относительный прирост конверсии группы B относительно группы A\")\n",
    "plt.title('Относительное изменение кумулятивного среднего количество заказов на посетителя группы B к группе A')\n",
    "plt.ylabel('Отношение группы B к группе A')\n",
    "plt.xlabel('Дата')\n",
    "plt.axhline(y=0, color='black', linestyle='--')\n",
    "plt.axhline(y=-0.05, color='grey', linestyle='--')\n",
    "plt.rcParams[\"figure.figsize\"]=10, 5\n",
    "plt.show()"
   ]
  },
  {
   "cell_type": "markdown",
   "metadata": {},
   "source": [
    "Заметим, что в начале теста группа B вырвалась вперед, затем произошёл непродолжительный спад, после которого наблюдается резкий взлёт, который уже не опускался ниже относительного нуля. В среднем, метрика группы B на 10-15% выше, чем у группы A. Однако отношение метрики ещё не установилось, и сейчас делать какие-либо выводы по тесту нельзя. Впрочем, сперва стоит проанализировать аномалии, возможно, они изменят картину."
   ]
  },
  {
   "cell_type": "markdown",
   "metadata": {},
   "source": [
    "### Построение точечного графика количества заказов по пользователям."
   ]
  },
  {
   "cell_type": "code",
   "execution_count": 31,
   "metadata": {},
   "outputs": [
    {
     "name": "stdout",
     "output_type": "stream",
     "text": [
      "          userId  orders\n",
      "1023  4256040402      11\n",
      "591   2458001652      11\n",
      "569   2378935119       9\n",
      "487   2038680547       8\n",
      "44     199603092       5\n",
      "744   3062433592       5\n",
      "55     237748145       5\n",
      "917   3803269165       5\n",
      "299   1230306981       5\n",
      "897   3717692402       5\n"
     ]
    }
   ],
   "source": [
    "ordersByUsers = (\n",
    "    orders.groupby('userId', as_index=False)\n",
    "    .agg({'orderId': 'nunique'})\n",
    ")\n",
    "\n",
    "ordersByUsers.columns = ['userId', 'orders']\n",
    "\n",
    "print(ordersByUsers.sort_values(by='orders', ascending=False).head(10)) \n",
    "\n",
    "#как видно из таблицы, есть пользователи, которые совершили более 5 заказов - это значительно больше того, \n",
    "#что совершает \"рядовой\" пользователь."
   ]
  },
  {
   "cell_type": "code",
   "execution_count": 32,
   "metadata": {},
   "outputs": [
    {
     "data": {
      "image/png": "[encoded data removed]",
      "text/plain": [
       "<Figure size 720x360 with 1 Axes>"
      ]
     },
     "metadata": {
      "needs_background": "light"
     },
     "output_type": "display_data"
    }
   ],
   "source": [
    "#построим точечную диаграмму числа заказов на одного пользователя.\n",
    "x_values = pd.Series(range(0,len(ordersByUsers)))\n",
    "\n",
    "plt.scatter(x_values, ordersByUsers['orders']) \n",
    "plt.title('Количество заказов на одного пользователя')\n",
    "plt.ylabel('Количество заказов')\n",
    "plt.rcParams[\"figure.figsize\"]=10, 5\n",
    "plt.show()"
   ]
  },
  {
   "cell_type": "markdown",
   "metadata": {},
   "source": [
    "Как мы видим из точечной диаграммы, довольно много пользователей имеют 1-2 заказа, однако есть и пользователи с 3-мя и более заказами, в связи с этим, не совсем ясно, считать ли пользователей аномальными или нет."
   ]
  },
  {
   "cell_type": "markdown",
   "metadata": {},
   "source": [
    "### Расчёт 95-го и 99-го перцентиля количества заказов на пользователя."
   ]
  },
  {
   "cell_type": "code",
   "execution_count": 33,
   "metadata": {},
   "outputs": [
    {
     "name": "stdout",
     "output_type": "stream",
     "text": [
      "[2. 4.]\n"
     ]
    }
   ],
   "source": [
    "print(np.percentile(ordersByUsers['orders'], [95, 99])) "
   ]
  },
  {
   "cell_type": "markdown",
   "metadata": {},
   "source": [
    "Не более 5% пользователей совершали больше 2 заказов, значит, пользователей с 3-мя и более заказами можно считать аномальными. Разумно выбрать пользователей с 3-мя заказами за нижнюю границу для определения аномальной активности."
   ]
  },
  {
   "cell_type": "markdown",
   "metadata": {},
   "source": [
    "### Построение точечного графика стоимостей заказов."
   ]
  },
  {
   "cell_type": "code",
   "execution_count": 34,
   "metadata": {},
   "outputs": [
    {
     "data": {
      "image/png": "[encoded data removed]",
      "text/plain": [
       "<Figure size 720x360 with 1 Axes>"
      ]
     },
     "metadata": {
      "needs_background": "light"
     },
     "output_type": "display_data"
    }
   ],
   "source": [
    "#оценим стоимости заказов у пользователей с помощью точечного графика\n",
    "x_values = pd.Series(range(0,len(orders['revenue'])))\n",
    "plt.scatter(x_values, orders['revenue']) \n",
    "plt.title('Стоимость заказа в зависимости от пользователя')\n",
    "plt.ylabel('Стоимость заказа, руб')\n",
    "plt.rcParams[\"figure.figsize\"]=10, 5\n",
    "plt.show()"
   ]
  },
  {
   "cell_type": "markdown",
   "metadata": {},
   "source": [
    "Как мы видим из графика практически все заказы находятся в пределах 150000 рублей, лишь 2 заказа по своей высокой стоимости сильно выбиваются из общей картины."
   ]
  },
  {
   "cell_type": "code",
   "execution_count": 35,
   "metadata": {},
   "outputs": [
    {
     "data": {
      "image/png": "[encoded data removed]",
      "text/plain": [
       "<Figure size 720x360 with 1 Axes>"
      ]
     },
     "metadata": {
      "needs_background": "light"
     },
     "output_type": "display_data"
    }
   ],
   "source": [
    "norm_revenue = orders[orders['revenue']< 150000]\n",
    "x_values = pd.Series(range(0,len(norm_revenue['revenue'])))\n",
    "plt.scatter(x_values, norm_revenue['revenue']) \n",
    "plt.title('Стоимость заказа в зависимости от пользователя')\n",
    "plt.ylabel('Стоимость заказа, руб')\n",
    "plt.rcParams[\"figure.figsize\"]=10, 5\n",
    "plt.show()"
   ]
  },
  {
   "cell_type": "markdown",
   "metadata": {},
   "source": [
    "Заметим, что большинство неаномальных заказов находится на уровне до 20000 рублей. Кроме того, заказов стоимостью более 80000 рублей наблюдается только 3."
   ]
  },
  {
   "cell_type": "markdown",
   "metadata": {},
   "source": [
    "### Расчёт 95-го и 99-го перцентиля стоимости заказов."
   ]
  },
  {
   "cell_type": "code",
   "execution_count": 36,
   "metadata": {},
   "outputs": [
    {
     "name": "stdout",
     "output_type": "stream",
     "text": [
      "[28000.  58233.2]\n"
     ]
    }
   ],
   "source": [
    "print(np.percentile(orders['revenue'], [95, 99])) "
   ]
  },
  {
   "cell_type": "markdown",
   "metadata": {},
   "source": [
    "Заметим, что не более 5% заказов по своей стоимости превышают 28000 рублей, значит, именно сумму в 28000 рублей можно считать нижней границей аномальности."
   ]
  },
  {
   "cell_type": "markdown",
   "metadata": {},
   "source": [
    "### Расчёт статистической значимости различий в среднем количестве заказов на посетителя между группами по «сырым» данным. "
   ]
  },
  {
   "cell_type": "markdown",
   "metadata": {},
   "source": [
    "Поскольку в предыдущих заданиях нам удалось оценить результаты A/B-теста визуально и выяснить, что в данных, скорее всего, есть выбросы, а также увидеть выбросы и найти границу для их определения, то следующим этапом работы будет формулировка соответствующих гипотез и расчёт статистической значимости по \"сырым\" и \"очищенным\" данным."
   ]
  },
  {
   "cell_type": "markdown",
   "metadata": {},
   "source": [
    "Сформулируем гипотезы. <br>\n",
    "Нулевая: различий в среднем количестве заказов между группами нет. <br>\n",
    "Альтернативная: различия в среднем между группами есть. <br>"
   ]
  },
  {
   "cell_type": "markdown",
   "metadata": {},
   "source": [
    "Тест, по которому проводится проверка гипотезы, является критерий Манна-Уитни. Данный критерий был выбран в связи с тем, что в в данных есть большие (по сравнению с нормальным распределением) выбросы, которые могут искажать итоговый результат. Суть данного подхода заключается в ранжировании данных 2-ух выборок(в данном случае 2-ух групп, взятых на определённом временном промежутке) и сравнении разниц между рангами, которые укажут на то, достоверны ли различия или нет. Этот критерий будет актуален потому, что он не учитывает сами значения, ведь работает только с рангами - это удобно, когда данные распределены ненормально(то есть имеют место выбросы)."
   ]
  },
  {
   "cell_type": "code",
   "execution_count": 37,
   "metadata": {},
   "outputs": [
    {
     "name": "stdout",
     "output_type": "stream",
     "text": [
      "        date  ordersPerDateA  revenuePerDateA  ordersPerDateB  \\\n",
      "0 2019-08-01              24           148579              21   \n",
      "1 2019-08-02              20            93822              24   \n",
      "2 2019-08-03              24           112473              16   \n",
      "3 2019-08-04              16            70825              17   \n",
      "4 2019-08-05              25           124218              23   \n",
      "\n",
      "   revenuePerDateB  ordersCummulativeA  revenueCummulativeA  \\\n",
      "0           101217                  24               148579   \n",
      "1           165531                  44               242401   \n",
      "2           114248                  68               354874   \n",
      "3           108571                  84               425699   \n",
      "4            92428                 109               549917   \n",
      "\n",
      "   ordersCummulativeB  revenueCummulativeB  visitorsPerDateA  \\\n",
      "0                  21               101217               719   \n",
      "1                  45               266748               619   \n",
      "2                  61               380996               507   \n",
      "3                  78               489567               717   \n",
      "4                 101               581995               756   \n",
      "\n",
      "   visitorsPerDateB  visitorsCummulativeA  visitorsCummulativeB  \n",
      "0               713                   719                   713  \n",
      "1               581                  1338                  1294  \n",
      "2               509                  1845                  1803  \n",
      "3               770                  2562                  2573  \n",
      "4               707                  3318                  3280  \n"
     ]
    }
   ],
   "source": [
    "visitorsADaily = visitors[visitors['group'] == 'A'][['date', 'visitors']]\n",
    "visitorsADaily.columns = ['date', 'visitorsPerDateA']\n",
    "\n",
    "visitorsACummulative = visitorsADaily.apply(\n",
    "    lambda x: visitorsADaily[visitorsADaily['date'] <= x['date']].agg(\n",
    "        {'date': 'max', 'visitorsPerDateA': 'sum'}\n",
    "    ),\n",
    "    axis=1,\n",
    ")\n",
    "visitorsACummulative.columns = ['date', 'visitorsCummulativeA']\n",
    "\n",
    "visitorsBDaily = visitors[visitors['group'] == 'B'][['date', 'visitors']]\n",
    "visitorsBDaily.columns = ['date', 'visitorsPerDateB']\n",
    "\n",
    "visitorsBCummulative = visitorsBDaily.apply(\n",
    "    lambda x: visitorsBDaily[visitorsBDaily['date'] <= x['date']].agg(\n",
    "        {'date': 'max', 'visitorsPerDateB': 'sum'}\n",
    "    ),\n",
    "    axis=1,\n",
    ")\n",
    "visitorsBCummulative.columns = ['date', 'visitorsCummulativeB']\n",
    "\n",
    "ordersADaily = (\n",
    "    orders[orders['group'] == 'A'][['date', 'orderId', 'userId', 'revenue']]\n",
    "    .groupby('date', as_index=False)\n",
    "    .agg({'orderId': pd.Series.nunique, 'revenue': 'sum'})\n",
    ")\n",
    "ordersADaily.columns = ['date', 'ordersPerDateA', 'revenuePerDateA']\n",
    "\n",
    "ordersACummulative = ordersADaily.apply(\n",
    "    lambda x: ordersADaily[ordersADaily['date'] <= x['date']].agg(\n",
    "        {'date': 'max', 'ordersPerDateA': 'sum', 'revenuePerDateA': 'sum'}\n",
    "    ),\n",
    "    axis=1,\n",
    ").sort_values(by=['date'])\n",
    "ordersACummulative.columns = [\n",
    "    'date',\n",
    "    'ordersCummulativeA',\n",
    "    'revenueCummulativeA',\n",
    "]\n",
    "\n",
    "ordersBDaily = (\n",
    "    orders[orders['group'] == 'B'][['date', 'orderId', 'userId', 'revenue']]\n",
    "    .groupby('date', as_index=False)\n",
    "    .agg({'orderId': pd.Series.nunique, 'revenue': 'sum'})\n",
    ")\n",
    "ordersBDaily.columns = ['date', 'ordersPerDateB', 'revenuePerDateB']\n",
    "\n",
    "ordersBCummulative = ordersBDaily.apply(\n",
    "    lambda x: ordersBDaily[ordersBDaily['date'] <= x['date']].agg(\n",
    "        {'date': 'max', 'ordersPerDateB': 'sum', 'revenuePerDateB': 'sum'}\n",
    "    ),\n",
    "    axis=1,\n",
    ").sort_values(by=['date'])\n",
    "ordersBCummulative.columns = [\n",
    "    'date',\n",
    "    'ordersCummulativeB',\n",
    "    'revenueCummulativeB',\n",
    "]\n",
    "\n",
    "visitors = (\n",
    "    ordersADaily.merge(\n",
    "        ordersBDaily, left_on='date', right_on='date', how='left'\n",
    "    )\n",
    "    .merge(ordersACummulative, left_on='date', right_on='date', how='left')\n",
    "    .merge(ordersBCummulative, left_on='date', right_on='date', how='left')\n",
    "    .merge(visitorsADaily, left_on='date', right_on='date', how='left')\n",
    "    .merge(visitorsBDaily, left_on='date', right_on='date', how='left')\n",
    "    .merge(visitorsACummulative, left_on='date', right_on='date', how='left')\n",
    "    .merge(visitorsBCummulative, left_on='date', right_on='date', how='left')\n",
    ")\n",
    "\n",
    "print(visitors.head(5)) "
   ]
  },
  {
   "cell_type": "markdown",
   "metadata": {},
   "source": [
    "Названия столбцов данных: \n",
    " - date — дата;\n",
    " - ordersPerDateA — количество заказов в выбранную дату в группе A;\n",
    " - revenuePerDateA — суммарная выручка в выбранную дату в группе A;\n",
    " - ordersPerDateB — количество заказов в выбранную дату в группе B;\n",
    " - revenuePerDateB — суммарная выручка в выбранную дату в группе B;\n",
    " - ordersCummulativeA — суммарное число заказов до выбранной даты включительно в группе A;\n",
    " - revenueCummulativeA — суммарная выручка до выбранной даты включительно в группе A;\n",
    " - ordersCummulativeB — суммарное количество заказов до выбранной даты включительно в группе B;\n",
    " - revenueCummulativeB — суммарная выручка до выбранной даты включительно в группе B;\n",
    " - visitorsPerDateA — количество пользователей в выбранную дату в группе A;\n",
    " - visitorsPerDateB — количество пользователей в выбранную дату в группе B;\n",
    " - visitorsCummulativeA — количество пользователей до выбранной даты включительно в группе A;\n",
    " - visitorsCummulativeB — количество пользователей до выбранной даты включительно в группе B."
   ]
  },
  {
   "cell_type": "markdown",
   "metadata": {},
   "source": [
    "<div class=\"alert alert-block alert-info\">\n",
    "<b> Исправил. </b>\n",
    "</div>"
   ]
  },
  {
   "cell_type": "code",
   "execution_count": 38,
   "metadata": {},
   "outputs": [
    {
     "name": "stdout",
     "output_type": "stream",
     "text": [
      "p-value: 0.017\n",
      "Относительная разница между сравниваемыми величинами: 0.138\n"
     ]
    }
   ],
   "source": [
    "ordersByUsersA = (\n",
    "    orders[orders['group'] == 'A']\n",
    "    .groupby('userId', as_index=False)\n",
    "    .agg({'orderId': pd.Series.nunique})\n",
    ")\n",
    "ordersByUsersA.columns = ['userId', 'orders']\n",
    "\n",
    "ordersByUsersB = (\n",
    "    orders[orders['group'] == 'B']\n",
    "    .groupby('userId', as_index=False)\n",
    "    .agg({'orderId': pd.Series.nunique})\n",
    ")\n",
    "ordersByUsersB.columns = ['userId', 'orders']\n",
    "\n",
    "sampleA = pd.concat(\n",
    "    [\n",
    "        ordersByUsersA['orders'],\n",
    "        pd.Series(\n",
    "            0,\n",
    "            index=np.arange(\n",
    "                visitors['visitorsPerDateA'].sum() - len(ordersByUsersA['orders'])\n",
    "            ),\n",
    "            name='orders',\n",
    "        ),\n",
    "    ],\n",
    "    axis=0,\n",
    ")\n",
    "\n",
    "sampleB = pd.concat(\n",
    "    [\n",
    "        ordersByUsersB['orders'],\n",
    "        pd.Series(\n",
    "            0,\n",
    "            index=np.arange(\n",
    "                visitors['visitorsPerDateB'].sum() - len(ordersByUsersB['orders'])\n",
    "            ),\n",
    "            name='orders',\n",
    "        ),\n",
    "    ],\n",
    "    axis=0,\n",
    ")\n",
    "\n",
    "print('p-value:', \"{0:.3f}\".format(stats.mannwhitneyu(sampleA, sampleB)[1]))\n",
    "\n",
    "print('Относительная разница между сравниваемыми величинами:', \"{0:.3f}\".format(sampleB.mean() / sampleA.mean() - 1))\n",
    " \n"
   ]
  },
  {
   "cell_type": "markdown",
   "metadata": {},
   "source": [
    "Вывод: По «сырым» данным различий в среднем числе заказов групп A и B нет. \n",
    "Первое число — p-value = 0.017 меньше 0.05. Значит, нулевую гипотезу о том, что статистически значимых различий в среднем числе отвергаем - отличия всё же есть. Однако относительный проигрыш группы B равен 13.8% — второе число в выводе.\n"
   ]
  },
  {
   "cell_type": "markdown",
   "metadata": {},
   "source": [
    "### Расчёт статистической значимости различий в среднем чеке заказа между группами по «сырым» данным."
   ]
  },
  {
   "cell_type": "markdown",
   "metadata": {},
   "source": [
    "Теперь проверим статистическую значимость различий в среднем чеке между сегментами. <br>\n",
    "Нулевая гипотеза: различий в среднем чеке между группами нет. <br>\n",
    "Альтернативная гипотеза: различия в среднем чеке между группами есть. <br>\n"
   ]
  },
  {
   "cell_type": "code",
   "execution_count": 39,
   "metadata": {},
   "outputs": [
    {
     "name": "stdout",
     "output_type": "stream",
     "text": [
      "p-value: 0.729\n",
      "Относительная разница между сравниваемыми величинами: 0.259\n"
     ]
    }
   ],
   "source": [
    "print('p-value:', '{0:.3f}'.format(stats.mannwhitneyu(orders[orders['group']=='A']['revenue'], orders[orders['group']=='B']['revenue'])[1]))\n",
    "print('Относительная разница между сравниваемыми величинами:', '{0:.3f}'.format(orders[orders['group']=='B']['revenue'].mean()/orders[orders['group']=='A']['revenue'].mean()-1)) "
   ]
  },
  {
   "cell_type": "markdown",
   "metadata": {},
   "source": [
    "P-value значительно больше 0.05. Значит, причин отвергать нулевую гипотезу и считать, что в среднем чеке есть различия, нет. Также стоит отметить, что средний чек группы B значительно выше среднего чека группы A."
   ]
  },
  {
   "cell_type": "markdown",
   "metadata": {},
   "source": [
    "### Расчёт статистической значимости различий в среднем количестве заказов на посетителя между группами по «очищенным» данным. "
   ]
  },
  {
   "cell_type": "markdown",
   "metadata": {},
   "source": [
    "Напомним, что найденные выше 95-й и 99-й перцентили средних чеков равны 28000 и 58233 рублей соответственно. А 95-й и 99-й перцентили количества заказов на одного пользователя равны 2 и 4 заказа на пользователя.\n",
    "Примем за аномальных пользователей тех, кто совершил от 3 заказов или совершил заказ дороже 28000 рублей. Так мы уберём 5% пользователей с наибольшим числом заказов и от 1% до 5% пользователей с дорогими заказами. Сделаем срезы пользователей с числом заказов больше 2 — usersWithManyOrders и пользователей, совершивших заказы дороже 28 000 — usersWithExpensiveOrders. Объединим их в таблице abnormalUsers. "
   ]
  },
  {
   "cell_type": "code",
   "execution_count": 40,
   "metadata": {},
   "outputs": [
    {
     "name": "stdout",
     "output_type": "stream",
     "text": [
      "1099    148427295\n",
      "18      199603092\n",
      "928     204675465\n",
      "23      237748145\n",
      "37      249864742\n",
      "Name: userId, dtype: int64\n",
      "74\n"
     ]
    }
   ],
   "source": [
    "x = 2\n",
    "usersWithManyOrders = pd.concat(\n",
    "    [\n",
    "        ordersByUsersA[ordersByUsersA['orders'] > np.percentile(x, 95)]['userId'],\n",
    "        ordersByUsersB[ordersByUsersB['orders'] > np.percentile(x, 95)]['userId'],\n",
    "    ],\n",
    "    axis=0,\n",
    ")\n",
    "usersWithExpensiveOrders = orders[orders['revenue'] > 28000]['userId']\n",
    "abnormalUsers = (\n",
    "    pd.concat([usersWithManyOrders, usersWithExpensiveOrders], axis=0)\n",
    "    .drop_duplicates()\n",
    "    .sort_values()\n",
    ")\n",
    "print(abnormalUsers.head(5))\n",
    "print(abnormalUsers.shape[0]) \n"
   ]
  },
  {
   "cell_type": "markdown",
   "metadata": {},
   "source": [
    "Всего 74 аномальных пользователя."
   ]
  },
  {
   "cell_type": "code",
   "execution_count": 41,
   "metadata": {},
   "outputs": [
    {
     "name": "stdout",
     "output_type": "stream",
     "text": [
      "7.18 %\n"
     ]
    }
   ],
   "source": [
    "#Вычислим отношение количества аномальных пользователей к общем количеству пользователей \n",
    "unique_users = orders['userId'].nunique()\n",
    "ratio_abnormal = abnormalUsers.shape[0] / unique_users\n",
    "print(round(ratio_abnormal * 100, 2), '%')"
   ]
  },
  {
   "cell_type": "markdown",
   "metadata": {},
   "source": [
    "7,18% пользователей оказались аномальными."
   ]
  },
  {
   "cell_type": "markdown",
   "metadata": {},
   "source": [
    "Узнаем, как их действия повлияли на результаты теста. Посчитаем статистическую значимость различий в среднем количестве заказов между группами теста по очищенным данным. Сначала подготовим выборки количества заказов по пользователям по группам теста:"
   ]
  },
  {
   "cell_type": "code",
   "execution_count": 42,
   "metadata": {},
   "outputs": [],
   "source": [
    "sampleAFiltered = pd.concat(\n",
    "    [\n",
    "        ordersByUsersA[\n",
    "            np.logical_not(ordersByUsersA['userId'].isin(abnormalUsers))\n",
    "        ]['orders'],\n",
    "        pd.Series(\n",
    "            0,\n",
    "            index=np.arange(\n",
    "                visitors['visitorsPerDateA'].sum() - len(ordersByUsersA['orders'])\n",
    "            ),\n",
    "            name='orders',\n",
    "        ),\n",
    "    ],\n",
    "    axis=0,\n",
    ")\n",
    "\n",
    "sampleBFiltered = pd.concat(\n",
    "    [\n",
    "        ordersByUsersB[\n",
    "            np.logical_not(ordersByUsersB['userId'].isin(abnormalUsers))\n",
    "        ]['orders'],\n",
    "        pd.Series(\n",
    "            0,\n",
    "            index=np.arange(\n",
    "                visitors['visitorsPerDateB'].sum() - len(ordersByUsersB['orders'])\n",
    "            ),\n",
    "            name='orders',\n",
    "        ),\n",
    "    ],\n",
    "    axis=0,\n",
    ") "
   ]
  },
  {
   "cell_type": "code",
   "execution_count": 43,
   "metadata": {},
   "outputs": [
    {
     "name": "stdout",
     "output_type": "stream",
     "text": [
      "p-value: 0.013\n",
      "Относительная разница между сравниваемыми величинами: 0.173\n"
     ]
    }
   ],
   "source": [
    "#применим статистический критерий Манна-Уитни к полученным выборкам.\n",
    "print('p-value: {0:.3f}'.format(stats.mannwhitneyu(sampleAFiltered, sampleBFiltered)[1]))\n",
    "print('Относительная разница между сравниваемыми величинами: {0:.3f}'.format(sampleBFiltered.mean()/sampleAFiltered.mean()-1)) "
   ]
  },
  {
   "cell_type": "markdown",
   "metadata": {},
   "source": [
    "Результаты по среднему количеству заказов практически не изменились. Разница между сегментами увеличилась на 3.5%"
   ]
  },
  {
   "cell_type": "markdown",
   "metadata": {},
   "source": [
    "### Расчёт статистической значимости различий в среднем чеке заказа между группами по «очищенным» данным."
   ]
  },
  {
   "cell_type": "code",
   "execution_count": 44,
   "metadata": {},
   "outputs": [
    {
     "name": "stdout",
     "output_type": "stream",
     "text": [
      "p-value: 0.738\n",
      "Относительная разница между сравниваемыми величинами: -0.020\n"
     ]
    }
   ],
   "source": [
    "print(\n",
    "    'p-value: {0:.3f}'.format(\n",
    "        stats.mannwhitneyu(\n",
    "            orders[\n",
    "                np.logical_and(\n",
    "                    orders['group'] == 'A',\n",
    "                    np.logical_not(orders['userId'].isin(abnormalUsers)),\n",
    "                )\n",
    "            ]['revenue'],\n",
    "            orders[\n",
    "                np.logical_and(\n",
    "                    orders['group'] == 'B',\n",
    "                    np.logical_not(orders['userId'].isin(abnormalUsers)),\n",
    "                )\n",
    "            ]['revenue'],\n",
    "        )[1]\n",
    "    )\n",
    ")\n",
    "\n",
    "print(\n",
    "    \"Относительная разница между сравниваемыми величинами: {0:.3f}\".format(\n",
    "        orders[\n",
    "            np.logical_and(\n",
    "                orders['group'] == 'B',\n",
    "                np.logical_not(orders['userId'].isin(abnormalUsers)),\n",
    "            )\n",
    "        ]['revenue'].mean()\n",
    "        / orders[\n",
    "            np.logical_and(\n",
    "                orders['group'] == 'A',\n",
    "                np.logical_not(orders['userId'].isin(abnormalUsers)),\n",
    "            )\n",
    "        ]['revenue'].mean()\n",
    "        - 1\n",
    "    )\n",
    ") "
   ]
  },
  {
   "cell_type": "markdown",
   "metadata": {},
   "source": [
    "P-value немного увеличился, но и разница между сегментами сократилась с 26% до 2%."
   ]
  },
  {
   "cell_type": "markdown",
   "metadata": {},
   "source": [
    "### Подведение  кратких итогов"
   ]
  },
  {
   "cell_type": "markdown",
   "metadata": {},
   "source": [
    "Выводы, которые можно сделать исходя из теста по имеющимся данным: <br>\n",
    " - Нет статистически значимого различия по среднему количеству заказов между группами ни по «сырым», ни по данным после фильтрации аномалий; \n",
    " - Нет статистически значимого различия по среднему чеку между группами ни по «сырым», ни по данным после фильтрации аномалий; \n",
    " - График различия среднего количества заказов между группами сообщает, что результаты группы B лучше, чем у группы A в среднем на 10-15%, кроме того, наблюдается тенденция к дальнейшему росту;\n",
    " - График различия среднего чека говорит о том, что результаты группы B в среднем превалируют над группой  A день и сейчас почти на 20-25% лучше, однако после резкого взлета наблюдается постепенный спад.\n",
    " \n",
    " Результат: остановить тест, признать тест успешным, сегмент B лучше сегмента A по обеим метрикам."
   ]
  },
  {
   "cell_type": "markdown",
   "metadata": {},
   "source": [
    "## Общий вывод"
   ]
  },
  {
   "cell_type": "markdown",
   "metadata": {},
   "source": [
    "В ходе работы были выполнены следующие действия: \n",
    " 1. Проведена предобработка данных: проверили исходный датафрейм на дубликаты и пропуски, а также привели столбцы с датой и временем в соответствующий тип.\n",
    " 2. Из числа исходных гипотез, данных для анализа, выбрали наиболее перспективные по фреймворкам ICE и RICE. Составили топ-3 наиболее значимых:\n",
    " - <b>7</b>\tДобавить форму подписки на все основные страницы, чтобы собрать базу клиентов для email-рассылок;\t\n",
    " - <b>2</b>\tДобавить блоки рекомендаций товаров на сайт интернет магазина, чтобы повысить конверсию и средний чек заказа;\t\n",
    " - <b>0</b>\tДобавить два новых канала привлечения трафика, что позволит привлекать на 30% больше пользователей.\t\n",
    " 3. Провели A/B тестирование, в ходе которого удалось выяснить, что сегмент B лучше сегмента А, поскольку статистически значимого различия между группами по \"сырым\" и данным после фильтрации не наблюдается. По 2-ум ключевым метрикам группа B находится выше. <br>\n",
    " В процессе работы разделение трафика было равномерным, кроме того, учитывалась статистическая значимость и был проведен анализ аномалий."
   ]
  }
 ],
 "metadata": {
  "ExecuteTimeLog": [
   {
    "duration": 49,
    "start_time": "2023-02-23T15:11:46.957Z"
   },
   {
    "duration": 1438,
    "start_time": "2023-02-23T15:11:57.927Z"
   },
   {
    "duration": 3228,
    "start_time": "2023-02-23T15:12:21.054Z"
   },
   {
    "duration": 10,
    "start_time": "2023-02-23T15:12:43.683Z"
   },
   {
    "duration": 69,
    "start_time": "2023-02-23T15:13:27.000Z"
   },
   {
    "duration": 146,
    "start_time": "2023-02-23T15:14:38.270Z"
   },
   {
    "duration": 34,
    "start_time": "2023-02-23T15:15:23.329Z"
   },
   {
    "duration": 48,
    "start_time": "2023-02-23T15:15:33.568Z"
   },
   {
    "duration": 46,
    "start_time": "2023-02-23T15:15:51.588Z"
   },
   {
    "duration": 31,
    "start_time": "2023-02-23T15:16:40.126Z"
   },
   {
    "duration": 50,
    "start_time": "2023-02-23T15:18:50.481Z"
   },
   {
    "duration": 37,
    "start_time": "2023-02-23T15:18:52.325Z"
   },
   {
    "duration": 76,
    "start_time": "2023-02-24T06:48:58.668Z"
   },
   {
    "duration": 1477,
    "start_time": "2023-02-24T06:49:04.188Z"
   },
   {
    "duration": 3011,
    "start_time": "2023-02-24T06:49:05.668Z"
   },
   {
    "duration": 9,
    "start_time": "2023-02-24T06:49:08.681Z"
   },
   {
    "duration": 84,
    "start_time": "2023-02-24T06:49:08.692Z"
   },
   {
    "duration": 81,
    "start_time": "2023-02-24T06:49:08.780Z"
   },
   {
    "duration": 68,
    "start_time": "2023-02-24T06:49:08.863Z"
   },
   {
    "duration": 17,
    "start_time": "2023-02-24T06:49:08.932Z"
   },
   {
    "duration": 315,
    "start_time": "2023-02-24T06:49:31.586Z"
   },
   {
    "duration": 1161,
    "start_time": "2023-02-24T06:49:47.039Z"
   },
   {
    "duration": 2314,
    "start_time": "2023-02-24T06:49:48.202Z"
   },
   {
    "duration": 11,
    "start_time": "2023-02-24T06:49:50.518Z"
   },
   {
    "duration": 98,
    "start_time": "2023-02-24T06:49:50.533Z"
   },
   {
    "duration": 53,
    "start_time": "2023-02-24T06:49:50.633Z"
   },
   {
    "duration": 23,
    "start_time": "2023-02-24T06:49:50.689Z"
   },
   {
    "duration": 362,
    "start_time": "2023-02-24T06:49:50.714Z"
   },
   {
    "duration": 459,
    "start_time": "2023-02-24T06:51:20.156Z"
   },
   {
    "duration": 308,
    "start_time": "2023-02-24T06:51:33.078Z"
   },
   {
    "duration": 49,
    "start_time": "2023-02-24T06:52:02.874Z"
   },
   {
    "duration": 7,
    "start_time": "2023-02-24T06:52:10.977Z"
   },
   {
    "duration": 276,
    "start_time": "2023-02-24T06:53:05.205Z"
   },
   {
    "duration": 6,
    "start_time": "2023-02-24T07:43:36.116Z"
   },
   {
    "duration": 468,
    "start_time": "2023-02-24T07:46:36.494Z"
   },
   {
    "duration": 7,
    "start_time": "2023-02-24T07:48:32.715Z"
   },
   {
    "duration": 3759,
    "start_time": "2023-02-24T07:48:37.603Z"
   },
   {
    "duration": 10,
    "start_time": "2023-02-24T07:48:41.365Z"
   },
   {
    "duration": 59,
    "start_time": "2023-02-24T07:48:41.619Z"
   },
   {
    "duration": 200,
    "start_time": "2023-02-24T07:48:43.626Z"
   },
   {
    "duration": 76,
    "start_time": "2023-02-24T07:48:44.674Z"
   },
   {
    "duration": 2357,
    "start_time": "2023-02-24T07:49:02.208Z"
   },
   {
    "duration": 3868,
    "start_time": "2023-02-24T07:49:04.574Z"
   },
   {
    "duration": 20,
    "start_time": "2023-02-24T07:49:08.444Z"
   },
   {
    "duration": 284,
    "start_time": "2023-02-24T07:49:08.468Z"
   },
   {
    "duration": 238,
    "start_time": "2023-02-24T07:49:08.764Z"
   },
   {
    "duration": 150,
    "start_time": "2023-02-24T07:49:09.010Z"
   },
   {
    "duration": 1324,
    "start_time": "2023-02-24T07:49:09.170Z"
   },
   {
    "duration": 864,
    "start_time": "2023-02-24T07:49:29.394Z"
   },
   {
    "duration": 360,
    "start_time": "2023-02-24T07:53:16.155Z"
   },
   {
    "duration": 314,
    "start_time": "2023-02-24T07:54:18.787Z"
   },
   {
    "duration": 16,
    "start_time": "2023-02-24T07:59:51.051Z"
   },
   {
    "duration": 8,
    "start_time": "2023-02-24T08:00:19.014Z"
   },
   {
    "duration": 24,
    "start_time": "2023-02-24T08:00:31.555Z"
   },
   {
    "duration": 25,
    "start_time": "2023-02-24T08:01:16.486Z"
   },
   {
    "duration": 696,
    "start_time": "2023-02-24T08:02:08.174Z"
   },
   {
    "duration": 639,
    "start_time": "2023-02-24T08:02:23.295Z"
   },
   {
    "duration": 576,
    "start_time": "2023-02-24T08:02:47.757Z"
   },
   {
    "duration": 827,
    "start_time": "2023-02-24T08:03:42.999Z"
   },
   {
    "duration": 1002,
    "start_time": "2023-02-24T08:03:45.019Z"
   },
   {
    "duration": 46,
    "start_time": "2023-02-24T08:04:57.740Z"
   },
   {
    "duration": 31,
    "start_time": "2023-02-24T08:05:20.443Z"
   },
   {
    "duration": 29,
    "start_time": "2023-02-24T08:05:35.829Z"
   },
   {
    "duration": 15,
    "start_time": "2023-02-24T08:06:29.606Z"
   },
   {
    "duration": 1871,
    "start_time": "2023-02-24T08:08:35.535Z"
   },
   {
    "duration": 3579,
    "start_time": "2023-02-24T08:08:37.412Z"
   },
   {
    "duration": 13,
    "start_time": "2023-02-24T08:08:40.993Z"
   },
   {
    "duration": 299,
    "start_time": "2023-02-24T08:08:41.011Z"
   },
   {
    "duration": 286,
    "start_time": "2023-02-24T08:08:41.328Z"
   },
   {
    "duration": 154,
    "start_time": "2023-02-24T08:08:41.624Z"
   },
   {
    "duration": 167,
    "start_time": "2023-02-24T08:08:41.783Z"
   },
   {
    "duration": 1286,
    "start_time": "2023-02-24T08:08:41.960Z"
   },
   {
    "duration": 767,
    "start_time": "2023-02-24T08:08:43.255Z"
   },
   {
    "duration": 606,
    "start_time": "2023-02-24T08:08:44.028Z"
   },
   {
    "duration": 12,
    "start_time": "2023-02-24T08:08:44.640Z"
   },
   {
    "duration": 193,
    "start_time": "2023-02-24T08:08:44.661Z"
   },
   {
    "duration": 182,
    "start_time": "2023-02-24T08:08:44.868Z"
   },
   {
    "duration": 159,
    "start_time": "2023-02-24T08:15:27.173Z"
   },
   {
    "duration": 1911,
    "start_time": "2023-02-24T08:15:34.091Z"
   },
   {
    "duration": 3252,
    "start_time": "2023-02-24T08:15:36.009Z"
   },
   {
    "duration": 13,
    "start_time": "2023-02-24T08:15:39.264Z"
   },
   {
    "duration": 109,
    "start_time": "2023-02-24T08:15:39.282Z"
   },
   {
    "duration": 56,
    "start_time": "2023-02-24T08:15:39.399Z"
   },
   {
    "duration": 39,
    "start_time": "2023-02-24T08:15:39.463Z"
   },
   {
    "duration": 27,
    "start_time": "2023-02-24T08:15:39.507Z"
   },
   {
    "duration": 816,
    "start_time": "2023-02-24T08:15:39.544Z"
   },
   {
    "duration": 608,
    "start_time": "2023-02-24T08:15:40.366Z"
   },
   {
    "duration": 549,
    "start_time": "2023-02-24T08:15:40.975Z"
   },
   {
    "duration": 206,
    "start_time": "2023-02-24T08:15:41.527Z"
   },
   {
    "duration": 0,
    "start_time": "2023-02-24T08:15:41.738Z"
   },
   {
    "duration": 0,
    "start_time": "2023-02-24T08:15:41.743Z"
   },
   {
    "duration": 0,
    "start_time": "2023-02-24T08:15:41.748Z"
   },
   {
    "duration": 14,
    "start_time": "2023-02-24T08:15:53.152Z"
   },
   {
    "duration": 1421,
    "start_time": "2023-02-24T08:15:57.904Z"
   },
   {
    "duration": 2819,
    "start_time": "2023-02-24T08:15:59.328Z"
   },
   {
    "duration": 6,
    "start_time": "2023-02-24T08:16:02.150Z"
   },
   {
    "duration": 76,
    "start_time": "2023-02-24T08:16:02.160Z"
   },
   {
    "duration": 67,
    "start_time": "2023-02-24T08:16:02.245Z"
   },
   {
    "duration": 58,
    "start_time": "2023-02-24T08:16:02.314Z"
   },
   {
    "duration": 14,
    "start_time": "2023-02-24T08:16:02.375Z"
   },
   {
    "duration": 681,
    "start_time": "2023-02-24T08:16:02.393Z"
   },
   {
    "duration": 582,
    "start_time": "2023-02-24T08:16:03.077Z"
   },
   {
    "duration": 507,
    "start_time": "2023-02-24T08:16:03.661Z"
   },
   {
    "duration": 8,
    "start_time": "2023-02-24T08:16:04.176Z"
   },
   {
    "duration": 18,
    "start_time": "2023-02-24T08:16:04.185Z"
   },
   {
    "duration": 12,
    "start_time": "2023-02-24T08:16:04.206Z"
   },
   {
    "duration": 62,
    "start_time": "2023-02-24T08:16:04.222Z"
   },
   {
    "duration": 11,
    "start_time": "2023-02-24T08:16:14.909Z"
   },
   {
    "duration": 3,
    "start_time": "2023-02-24T08:16:58.599Z"
   },
   {
    "duration": 3,
    "start_time": "2023-02-24T08:17:02.572Z"
   },
   {
    "duration": 10,
    "start_time": "2023-02-24T08:17:09.605Z"
   },
   {
    "duration": 5,
    "start_time": "2023-02-24T08:17:15.498Z"
   },
   {
    "duration": 11,
    "start_time": "2023-02-24T08:17:45.949Z"
   },
   {
    "duration": 11,
    "start_time": "2023-02-24T08:17:52.303Z"
   },
   {
    "duration": 6,
    "start_time": "2023-02-24T08:18:53.242Z"
   },
   {
    "duration": 5,
    "start_time": "2023-02-24T08:18:57.705Z"
   },
   {
    "duration": 8,
    "start_time": "2023-02-24T08:19:27.179Z"
   },
   {
    "duration": 24,
    "start_time": "2023-02-24T08:20:07.966Z"
   },
   {
    "duration": 47,
    "start_time": "2023-02-24T13:24:08.435Z"
   },
   {
    "duration": 1370,
    "start_time": "2023-02-24T13:24:41.018Z"
   },
   {
    "duration": 2984,
    "start_time": "2023-02-24T13:24:42.390Z"
   },
   {
    "duration": 5,
    "start_time": "2023-02-24T13:24:45.376Z"
   },
   {
    "duration": 91,
    "start_time": "2023-02-24T13:24:45.383Z"
   },
   {
    "duration": 83,
    "start_time": "2023-02-24T13:24:45.478Z"
   },
   {
    "duration": 72,
    "start_time": "2023-02-24T13:24:45.563Z"
   },
   {
    "duration": 6,
    "start_time": "2023-02-24T13:24:45.637Z"
   },
   {
    "duration": 578,
    "start_time": "2023-02-24T13:24:45.645Z"
   },
   {
    "duration": 488,
    "start_time": "2023-02-24T13:24:46.225Z"
   },
   {
    "duration": 457,
    "start_time": "2023-02-24T13:24:46.718Z"
   },
   {
    "duration": 7,
    "start_time": "2023-02-24T13:24:47.177Z"
   },
   {
    "duration": 32,
    "start_time": "2023-02-24T13:24:47.185Z"
   },
   {
    "duration": 24,
    "start_time": "2023-02-24T13:24:47.220Z"
   },
   {
    "duration": 21,
    "start_time": "2023-02-24T13:24:47.247Z"
   },
   {
    "duration": 61,
    "start_time": "2023-02-24T13:24:47.270Z"
   },
   {
    "duration": 3,
    "start_time": "2023-02-24T13:28:53.830Z"
   },
   {
    "duration": 2,
    "start_time": "2023-02-24T13:29:00.169Z"
   },
   {
    "duration": 10,
    "start_time": "2023-02-24T13:29:29.045Z"
   },
   {
    "duration": 1160,
    "start_time": "2023-02-24T13:29:52.214Z"
   },
   {
    "duration": 2216,
    "start_time": "2023-02-24T13:29:53.376Z"
   },
   {
    "duration": 6,
    "start_time": "2023-02-24T13:29:55.595Z"
   },
   {
    "duration": 52,
    "start_time": "2023-02-24T13:29:55.602Z"
   },
   {
    "duration": 40,
    "start_time": "2023-02-24T13:29:55.656Z"
   },
   {
    "duration": 29,
    "start_time": "2023-02-24T13:29:55.698Z"
   },
   {
    "duration": 8,
    "start_time": "2023-02-24T13:29:55.729Z"
   },
   {
    "duration": 540,
    "start_time": "2023-02-24T13:29:55.740Z"
   },
   {
    "duration": 509,
    "start_time": "2023-02-24T13:29:56.282Z"
   },
   {
    "duration": 510,
    "start_time": "2023-02-24T13:29:56.793Z"
   },
   {
    "duration": 7,
    "start_time": "2023-02-24T13:29:57.310Z"
   },
   {
    "duration": 19,
    "start_time": "2023-02-24T13:29:57.319Z"
   },
   {
    "duration": 8,
    "start_time": "2023-02-24T13:29:57.340Z"
   },
   {
    "duration": 14,
    "start_time": "2023-02-24T13:29:57.351Z"
   },
   {
    "duration": 16,
    "start_time": "2023-02-24T13:29:57.367Z"
   },
   {
    "duration": 12,
    "start_time": "2023-02-24T13:34:23.155Z"
   },
   {
    "duration": 119,
    "start_time": "2023-02-24T13:34:33.171Z"
   },
   {
    "duration": 11,
    "start_time": "2023-02-24T13:34:44.670Z"
   },
   {
    "duration": 13,
    "start_time": "2023-02-24T13:45:10.511Z"
   },
   {
    "duration": 42,
    "start_time": "2023-02-24T18:00:09.235Z"
   },
   {
    "duration": 1211,
    "start_time": "2023-02-24T18:00:14.246Z"
   },
   {
    "duration": 2916,
    "start_time": "2023-02-24T18:00:15.459Z"
   },
   {
    "duration": 22,
    "start_time": "2023-02-24T18:00:18.377Z"
   },
   {
    "duration": 70,
    "start_time": "2023-02-24T18:00:18.402Z"
   },
   {
    "duration": 83,
    "start_time": "2023-02-24T18:00:18.474Z"
   },
   {
    "duration": 68,
    "start_time": "2023-02-24T18:00:18.559Z"
   },
   {
    "duration": 5,
    "start_time": "2023-02-24T18:00:18.629Z"
   },
   {
    "duration": 532,
    "start_time": "2023-02-24T18:00:18.636Z"
   },
   {
    "duration": 488,
    "start_time": "2023-02-24T18:00:19.169Z"
   },
   {
    "duration": 492,
    "start_time": "2023-02-24T18:00:19.659Z"
   },
   {
    "duration": 6,
    "start_time": "2023-02-24T18:00:20.153Z"
   },
   {
    "duration": 8,
    "start_time": "2023-02-24T18:00:20.160Z"
   },
   {
    "duration": 28,
    "start_time": "2023-02-24T18:00:20.170Z"
   },
   {
    "duration": 14,
    "start_time": "2023-02-24T18:00:20.200Z"
   },
   {
    "duration": 10,
    "start_time": "2023-02-24T18:00:20.216Z"
   },
   {
    "duration": 11,
    "start_time": "2023-02-24T18:00:20.227Z"
   },
   {
    "duration": 117,
    "start_time": "2023-02-24T18:00:20.239Z"
   },
   {
    "duration": 5,
    "start_time": "2023-02-24T18:00:32.623Z"
   },
   {
    "duration": 9,
    "start_time": "2023-02-24T18:00:50.096Z"
   },
   {
    "duration": 6,
    "start_time": "2023-02-24T18:01:09.336Z"
   },
   {
    "duration": 31,
    "start_time": "2023-02-24T18:10:28.932Z"
   },
   {
    "duration": 3,
    "start_time": "2023-02-24T18:15:53.048Z"
   },
   {
    "duration": 9,
    "start_time": "2023-02-24T18:16:01.036Z"
   },
   {
    "duration": 1129,
    "start_time": "2023-02-24T18:16:44.615Z"
   },
   {
    "duration": 1815,
    "start_time": "2023-02-24T18:16:45.747Z"
   },
   {
    "duration": 4,
    "start_time": "2023-02-24T18:16:47.564Z"
   },
   {
    "duration": 45,
    "start_time": "2023-02-24T18:16:47.570Z"
   },
   {
    "duration": 37,
    "start_time": "2023-02-24T18:16:47.616Z"
   },
   {
    "duration": 18,
    "start_time": "2023-02-24T18:16:47.654Z"
   },
   {
    "duration": 5,
    "start_time": "2023-02-24T18:16:47.674Z"
   },
   {
    "duration": 503,
    "start_time": "2023-02-24T18:16:47.680Z"
   },
   {
    "duration": 469,
    "start_time": "2023-02-24T18:16:48.184Z"
   },
   {
    "duration": 488,
    "start_time": "2023-02-24T18:16:48.655Z"
   },
   {
    "duration": 5,
    "start_time": "2023-02-24T18:16:49.145Z"
   },
   {
    "duration": 9,
    "start_time": "2023-02-24T18:16:49.152Z"
   },
   {
    "duration": 5,
    "start_time": "2023-02-24T18:16:49.162Z"
   },
   {
    "duration": 12,
    "start_time": "2023-02-24T18:16:49.186Z"
   },
   {
    "duration": 17,
    "start_time": "2023-02-24T18:16:49.201Z"
   },
   {
    "duration": 11,
    "start_time": "2023-02-24T18:16:49.220Z"
   },
   {
    "duration": 13,
    "start_time": "2023-02-24T18:16:49.232Z"
   },
   {
    "duration": 6,
    "start_time": "2023-02-24T18:16:49.246Z"
   },
   {
    "duration": 16,
    "start_time": "2023-02-24T18:16:49.253Z"
   },
   {
    "duration": 297,
    "start_time": "2023-02-24T18:16:49.271Z"
   },
   {
    "duration": 274,
    "start_time": "2023-02-24T18:21:18.449Z"
   },
   {
    "duration": 315,
    "start_time": "2023-02-24T18:22:25.101Z"
   },
   {
    "duration": 178,
    "start_time": "2023-02-24T18:22:33.529Z"
   },
   {
    "duration": 273,
    "start_time": "2023-02-24T18:22:59.546Z"
   },
   {
    "duration": 184,
    "start_time": "2023-02-24T18:23:07.241Z"
   },
   {
    "duration": 247,
    "start_time": "2023-02-24T18:25:07.929Z"
   },
   {
    "duration": 221,
    "start_time": "2023-02-24T18:28:57.930Z"
   },
   {
    "duration": 216,
    "start_time": "2023-02-24T18:29:08.366Z"
   },
   {
    "duration": 216,
    "start_time": "2023-02-24T18:29:16.650Z"
   },
   {
    "duration": 214,
    "start_time": "2023-02-24T18:30:18.730Z"
   },
   {
    "duration": 244,
    "start_time": "2023-02-24T18:38:36.308Z"
   },
   {
    "duration": 320,
    "start_time": "2023-02-24T18:40:29.254Z"
   },
   {
    "duration": 279,
    "start_time": "2023-02-24T18:40:36.620Z"
   },
   {
    "duration": 280,
    "start_time": "2023-02-24T18:40:47.806Z"
   },
   {
    "duration": 317,
    "start_time": "2023-02-24T18:41:13.976Z"
   },
   {
    "duration": 4,
    "start_time": "2023-02-24T19:17:42.004Z"
   },
   {
    "duration": 8,
    "start_time": "2023-02-24T19:17:52.253Z"
   },
   {
    "duration": 7,
    "start_time": "2023-02-24T19:18:23.137Z"
   },
   {
    "duration": 9,
    "start_time": "2023-02-24T19:18:45.240Z"
   },
   {
    "duration": 7,
    "start_time": "2023-02-24T19:19:03.564Z"
   },
   {
    "duration": 7,
    "start_time": "2023-02-24T19:19:10.126Z"
   },
   {
    "duration": 7,
    "start_time": "2023-02-24T19:19:15.308Z"
   },
   {
    "duration": 201,
    "start_time": "2023-02-24T19:21:27.394Z"
   },
   {
    "duration": 193,
    "start_time": "2023-02-24T19:23:00.649Z"
   },
   {
    "duration": 282,
    "start_time": "2023-02-24T19:24:15.090Z"
   },
   {
    "duration": 183,
    "start_time": "2023-02-24T19:25:27.382Z"
   },
   {
    "duration": 190,
    "start_time": "2023-02-24T19:25:32.918Z"
   },
   {
    "duration": 189,
    "start_time": "2023-02-24T19:26:03.714Z"
   },
   {
    "duration": 184,
    "start_time": "2023-02-24T19:28:31.141Z"
   },
   {
    "duration": 184,
    "start_time": "2023-02-24T19:28:50.333Z"
   },
   {
    "duration": 181,
    "start_time": "2023-02-24T19:28:57.456Z"
   },
   {
    "duration": 168,
    "start_time": "2023-02-24T19:29:04.669Z"
   },
   {
    "duration": 191,
    "start_time": "2023-02-24T19:30:08.917Z"
   },
   {
    "duration": 205,
    "start_time": "2023-02-24T19:31:21.749Z"
   },
   {
    "duration": 178,
    "start_time": "2023-02-24T19:31:34.750Z"
   },
   {
    "duration": 285,
    "start_time": "2023-02-24T19:38:57.478Z"
   },
   {
    "duration": 286,
    "start_time": "2023-02-24T19:41:41.143Z"
   },
   {
    "duration": 58,
    "start_time": "2023-02-24T21:47:26.342Z"
   },
   {
    "duration": 0,
    "start_time": "2023-02-24T21:47:47.082Z"
   },
   {
    "duration": 0,
    "start_time": "2023-02-24T21:47:47.083Z"
   },
   {
    "duration": 0,
    "start_time": "2023-02-24T21:47:47.084Z"
   },
   {
    "duration": 0,
    "start_time": "2023-02-24T21:47:47.085Z"
   },
   {
    "duration": 0,
    "start_time": "2023-02-24T21:47:47.085Z"
   },
   {
    "duration": 0,
    "start_time": "2023-02-24T21:47:47.087Z"
   },
   {
    "duration": 0,
    "start_time": "2023-02-24T21:47:47.087Z"
   },
   {
    "duration": 0,
    "start_time": "2023-02-24T21:47:47.088Z"
   },
   {
    "duration": 0,
    "start_time": "2023-02-24T21:47:47.089Z"
   },
   {
    "duration": 0,
    "start_time": "2023-02-24T21:47:47.090Z"
   },
   {
    "duration": 0,
    "start_time": "2023-02-24T21:47:47.091Z"
   },
   {
    "duration": 0,
    "start_time": "2023-02-24T21:47:47.092Z"
   },
   {
    "duration": 0,
    "start_time": "2023-02-24T21:47:47.093Z"
   },
   {
    "duration": 0,
    "start_time": "2023-02-24T21:47:47.094Z"
   },
   {
    "duration": 1,
    "start_time": "2023-02-24T21:47:47.095Z"
   },
   {
    "duration": 0,
    "start_time": "2023-02-24T21:47:47.096Z"
   },
   {
    "duration": 0,
    "start_time": "2023-02-24T21:47:47.097Z"
   },
   {
    "duration": 0,
    "start_time": "2023-02-24T21:47:47.188Z"
   },
   {
    "duration": 1,
    "start_time": "2023-02-24T21:47:47.189Z"
   },
   {
    "duration": 0,
    "start_time": "2023-02-24T21:47:47.191Z"
   },
   {
    "duration": 0,
    "start_time": "2023-02-24T21:47:47.192Z"
   },
   {
    "duration": 0,
    "start_time": "2023-02-24T21:47:47.193Z"
   },
   {
    "duration": 0,
    "start_time": "2023-02-24T21:47:47.194Z"
   },
   {
    "duration": 0,
    "start_time": "2023-02-24T21:47:47.195Z"
   },
   {
    "duration": 0,
    "start_time": "2023-02-24T21:47:47.196Z"
   },
   {
    "duration": 0,
    "start_time": "2023-02-24T21:47:47.198Z"
   },
   {
    "duration": 1149,
    "start_time": "2023-02-24T21:48:06.261Z"
   },
   {
    "duration": 9,
    "start_time": "2023-02-24T21:53:14.977Z"
   },
   {
    "duration": 138,
    "start_time": "2023-02-24T21:54:33.135Z"
   },
   {
    "duration": 13,
    "start_time": "2023-02-24T21:56:49.409Z"
   },
   {
    "duration": 9,
    "start_time": "2023-02-24T21:57:05.689Z"
   },
   {
    "duration": 14,
    "start_time": "2023-02-24T21:58:44.239Z"
   },
   {
    "duration": 115,
    "start_time": "2023-02-24T21:59:41.109Z"
   },
   {
    "duration": 4,
    "start_time": "2023-02-24T22:04:14.043Z"
   },
   {
    "duration": 3,
    "start_time": "2023-02-24T22:12:55.249Z"
   },
   {
    "duration": 1195,
    "start_time": "2023-02-24T22:13:01.706Z"
   },
   {
    "duration": 122,
    "start_time": "2023-02-24T22:13:15.915Z"
   },
   {
    "duration": 123,
    "start_time": "2023-02-24T22:16:10.233Z"
   },
   {
    "duration": 1173,
    "start_time": "2023-02-24T22:16:15.527Z"
   },
   {
    "duration": 2226,
    "start_time": "2023-02-24T22:16:16.702Z"
   },
   {
    "duration": 5,
    "start_time": "2023-02-24T22:16:18.930Z"
   },
   {
    "duration": 40,
    "start_time": "2023-02-24T22:16:18.937Z"
   },
   {
    "duration": 42,
    "start_time": "2023-02-24T22:16:18.980Z"
   },
   {
    "duration": 20,
    "start_time": "2023-02-24T22:16:19.023Z"
   },
   {
    "duration": 5,
    "start_time": "2023-02-24T22:16:19.045Z"
   },
   {
    "duration": 555,
    "start_time": "2023-02-24T22:16:19.052Z"
   },
   {
    "duration": 523,
    "start_time": "2023-02-24T22:16:19.609Z"
   },
   {
    "duration": 519,
    "start_time": "2023-02-24T22:16:20.134Z"
   },
   {
    "duration": 5,
    "start_time": "2023-02-24T22:16:20.654Z"
   },
   {
    "duration": 11,
    "start_time": "2023-02-24T22:16:20.661Z"
   },
   {
    "duration": 5,
    "start_time": "2023-02-24T22:16:20.674Z"
   },
   {
    "duration": 11,
    "start_time": "2023-02-24T22:16:20.681Z"
   },
   {
    "duration": 11,
    "start_time": "2023-02-24T22:16:20.693Z"
   },
   {
    "duration": 42,
    "start_time": "2023-02-24T22:16:20.706Z"
   },
   {
    "duration": 6,
    "start_time": "2023-02-24T22:16:20.749Z"
   },
   {
    "duration": 7,
    "start_time": "2023-02-24T22:16:20.757Z"
   },
   {
    "duration": 10,
    "start_time": "2023-02-24T22:16:20.765Z"
   },
   {
    "duration": 309,
    "start_time": "2023-02-24T22:16:20.777Z"
   },
   {
    "duration": 292,
    "start_time": "2023-02-24T22:16:21.088Z"
   },
   {
    "duration": 222,
    "start_time": "2023-02-24T22:16:21.382Z"
   },
   {
    "duration": 337,
    "start_time": "2023-02-24T22:16:21.606Z"
   },
   {
    "duration": 245,
    "start_time": "2023-02-24T22:16:21.944Z"
   },
   {
    "duration": 292,
    "start_time": "2023-02-24T22:16:22.190Z"
   },
   {
    "duration": 9,
    "start_time": "2023-02-24T22:16:22.484Z"
   },
   {
    "duration": 228,
    "start_time": "2023-02-24T22:16:22.495Z"
   },
   {
    "duration": 4,
    "start_time": "2023-02-24T22:16:22.725Z"
   },
   {
    "duration": 151,
    "start_time": "2023-02-24T22:16:22.731Z"
   },
   {
    "duration": 4,
    "start_time": "2023-02-24T22:18:11.975Z"
   },
   {
    "duration": 237,
    "start_time": "2023-02-24T22:37:13.414Z"
   },
   {
    "duration": 184,
    "start_time": "2023-02-24T22:39:36.940Z"
   },
   {
    "duration": 144,
    "start_time": "2023-02-24T22:39:47.981Z"
   },
   {
    "duration": 1234,
    "start_time": "2023-02-24T22:40:22.354Z"
   },
   {
    "duration": 2272,
    "start_time": "2023-02-24T22:40:23.590Z"
   },
   {
    "duration": 5,
    "start_time": "2023-02-24T22:40:25.864Z"
   },
   {
    "duration": 41,
    "start_time": "2023-02-24T22:40:25.872Z"
   },
   {
    "duration": 42,
    "start_time": "2023-02-24T22:40:25.915Z"
   },
   {
    "duration": 22,
    "start_time": "2023-02-24T22:40:25.959Z"
   },
   {
    "duration": 6,
    "start_time": "2023-02-24T22:40:25.983Z"
   },
   {
    "duration": 580,
    "start_time": "2023-02-24T22:40:25.991Z"
   },
   {
    "duration": 465,
    "start_time": "2023-02-24T22:40:26.572Z"
   },
   {
    "duration": 477,
    "start_time": "2023-02-24T22:40:27.040Z"
   },
   {
    "duration": 6,
    "start_time": "2023-02-24T22:40:27.518Z"
   },
   {
    "duration": 20,
    "start_time": "2023-02-24T22:40:27.525Z"
   },
   {
    "duration": 5,
    "start_time": "2023-02-24T22:40:27.547Z"
   },
   {
    "duration": 11,
    "start_time": "2023-02-24T22:40:27.554Z"
   },
   {
    "duration": 11,
    "start_time": "2023-02-24T22:40:27.567Z"
   },
   {
    "duration": 12,
    "start_time": "2023-02-24T22:40:27.579Z"
   },
   {
    "duration": 8,
    "start_time": "2023-02-24T22:40:27.593Z"
   },
   {
    "duration": 44,
    "start_time": "2023-02-24T22:40:27.602Z"
   },
   {
    "duration": 10,
    "start_time": "2023-02-24T22:40:27.647Z"
   },
   {
    "duration": 323,
    "start_time": "2023-02-24T22:40:27.660Z"
   },
   {
    "duration": 303,
    "start_time": "2023-02-24T22:40:27.985Z"
   },
   {
    "duration": 221,
    "start_time": "2023-02-24T22:40:28.290Z"
   },
   {
    "duration": 340,
    "start_time": "2023-02-24T22:40:28.513Z"
   },
   {
    "duration": 231,
    "start_time": "2023-02-24T22:40:28.855Z"
   },
   {
    "duration": 289,
    "start_time": "2023-02-24T22:40:29.088Z"
   },
   {
    "duration": 9,
    "start_time": "2023-02-24T22:40:29.379Z"
   },
   {
    "duration": 233,
    "start_time": "2023-02-24T22:40:29.390Z"
   },
   {
    "duration": 5,
    "start_time": "2023-02-24T22:40:29.626Z"
   },
   {
    "duration": 155,
    "start_time": "2023-02-24T22:40:29.645Z"
   },
   {
    "duration": 4,
    "start_time": "2023-02-24T22:40:29.802Z"
   },
   {
    "duration": 254,
    "start_time": "2023-02-24T22:40:29.808Z"
   },
   {
    "duration": 175,
    "start_time": "2023-02-24T22:40:30.064Z"
   },
   {
    "duration": 11,
    "start_time": "2023-02-24T22:46:21.697Z"
   },
   {
    "duration": 9,
    "start_time": "2023-02-24T23:02:11.381Z"
   },
   {
    "duration": 73,
    "start_time": "2023-02-24T23:05:24.870Z"
   },
   {
    "duration": 28,
    "start_time": "2023-02-24T23:05:35.921Z"
   },
   {
    "duration": 4,
    "start_time": "2023-02-24T23:06:34.834Z"
   },
   {
    "duration": 9,
    "start_time": "2023-02-24T23:07:03.074Z"
   },
   {
    "duration": 9,
    "start_time": "2023-02-24T23:07:10.294Z"
   },
   {
    "duration": 1175,
    "start_time": "2023-02-24T23:07:33.529Z"
   },
   {
    "duration": 2252,
    "start_time": "2023-02-24T23:07:34.706Z"
   },
   {
    "duration": 5,
    "start_time": "2023-02-24T23:07:36.960Z"
   },
   {
    "duration": 38,
    "start_time": "2023-02-24T23:07:36.967Z"
   },
   {
    "duration": 45,
    "start_time": "2023-02-24T23:07:37.007Z"
   },
   {
    "duration": 21,
    "start_time": "2023-02-24T23:07:37.053Z"
   },
   {
    "duration": 5,
    "start_time": "2023-02-24T23:07:37.076Z"
   },
   {
    "duration": 599,
    "start_time": "2023-02-24T23:07:37.083Z"
   },
   {
    "duration": 469,
    "start_time": "2023-02-24T23:07:37.683Z"
   },
   {
    "duration": 473,
    "start_time": "2023-02-24T23:07:38.154Z"
   },
   {
    "duration": 6,
    "start_time": "2023-02-24T23:07:38.628Z"
   },
   {
    "duration": 6,
    "start_time": "2023-02-24T23:07:38.644Z"
   },
   {
    "duration": 6,
    "start_time": "2023-02-24T23:07:38.651Z"
   },
   {
    "duration": 11,
    "start_time": "2023-02-24T23:07:38.658Z"
   },
   {
    "duration": 11,
    "start_time": "2023-02-24T23:07:38.671Z"
   },
   {
    "duration": 11,
    "start_time": "2023-02-24T23:07:38.684Z"
   },
   {
    "duration": 8,
    "start_time": "2023-02-24T23:07:38.696Z"
   },
   {
    "duration": 6,
    "start_time": "2023-02-24T23:07:38.745Z"
   },
   {
    "duration": 9,
    "start_time": "2023-02-24T23:07:38.753Z"
   },
   {
    "duration": 300,
    "start_time": "2023-02-24T23:07:38.764Z"
   },
   {
    "duration": 297,
    "start_time": "2023-02-24T23:07:39.066Z"
   },
   {
    "duration": 214,
    "start_time": "2023-02-24T23:07:39.365Z"
   },
   {
    "duration": 287,
    "start_time": "2023-02-24T23:07:39.581Z"
   },
   {
    "duration": 222,
    "start_time": "2023-02-24T23:07:39.869Z"
   },
   {
    "duration": 305,
    "start_time": "2023-02-24T23:07:40.093Z"
   },
   {
    "duration": 11,
    "start_time": "2023-02-24T23:07:40.401Z"
   },
   {
    "duration": 249,
    "start_time": "2023-02-24T23:07:40.414Z"
   },
   {
    "duration": 4,
    "start_time": "2023-02-24T23:07:40.667Z"
   },
   {
    "duration": 162,
    "start_time": "2023-02-24T23:07:40.672Z"
   },
   {
    "duration": 11,
    "start_time": "2023-02-24T23:07:40.836Z"
   },
   {
    "duration": 235,
    "start_time": "2023-02-24T23:07:40.848Z"
   },
   {
    "duration": 168,
    "start_time": "2023-02-24T23:07:41.085Z"
   },
   {
    "duration": 12,
    "start_time": "2023-02-24T23:07:41.255Z"
   },
   {
    "duration": 12,
    "start_time": "2023-02-24T23:07:41.268Z"
   },
   {
    "duration": 10,
    "start_time": "2023-02-24T23:07:41.281Z"
   },
   {
    "duration": 25,
    "start_time": "2023-02-24T23:08:37.380Z"
   },
   {
    "duration": 13,
    "start_time": "2023-02-24T23:13:34.520Z"
   },
   {
    "duration": 1375,
    "start_time": "2023-02-25T07:16:13.683Z"
   },
   {
    "duration": 3346,
    "start_time": "2023-02-25T07:16:15.062Z"
   },
   {
    "duration": 7,
    "start_time": "2023-02-25T07:16:18.414Z"
   },
   {
    "duration": 74,
    "start_time": "2023-02-25T07:16:18.422Z"
   },
   {
    "duration": 79,
    "start_time": "2023-02-25T07:16:18.498Z"
   },
   {
    "duration": 65,
    "start_time": "2023-02-25T07:16:18.579Z"
   },
   {
    "duration": 6,
    "start_time": "2023-02-25T07:16:18.646Z"
   },
   {
    "duration": 541,
    "start_time": "2023-02-25T07:16:18.654Z"
   },
   {
    "duration": 540,
    "start_time": "2023-02-25T07:16:19.198Z"
   },
   {
    "duration": 486,
    "start_time": "2023-02-25T07:16:19.740Z"
   },
   {
    "duration": 5,
    "start_time": "2023-02-25T07:16:20.228Z"
   },
   {
    "duration": 22,
    "start_time": "2023-02-25T07:16:20.235Z"
   },
   {
    "duration": 6,
    "start_time": "2023-02-25T07:16:20.259Z"
   },
   {
    "duration": 12,
    "start_time": "2023-02-25T07:16:20.267Z"
   },
   {
    "duration": 15,
    "start_time": "2023-02-25T07:16:20.281Z"
   },
   {
    "duration": 13,
    "start_time": "2023-02-25T07:16:20.297Z"
   },
   {
    "duration": 11,
    "start_time": "2023-02-25T07:16:20.312Z"
   },
   {
    "duration": 35,
    "start_time": "2023-02-25T07:16:20.324Z"
   },
   {
    "duration": 15,
    "start_time": "2023-02-25T07:16:20.361Z"
   },
   {
    "duration": 300,
    "start_time": "2023-02-25T07:16:20.378Z"
   },
   {
    "duration": 289,
    "start_time": "2023-02-25T07:16:20.680Z"
   },
   {
    "duration": 216,
    "start_time": "2023-02-25T07:16:20.971Z"
   },
   {
    "duration": 353,
    "start_time": "2023-02-25T07:16:21.189Z"
   },
   {
    "duration": 234,
    "start_time": "2023-02-25T07:16:21.543Z"
   },
   {
    "duration": 364,
    "start_time": "2023-02-25T07:16:21.779Z"
   },
   {
    "duration": 12,
    "start_time": "2023-02-25T07:16:22.152Z"
   },
   {
    "duration": 264,
    "start_time": "2023-02-25T07:16:22.169Z"
   },
   {
    "duration": 4,
    "start_time": "2023-02-25T07:16:22.435Z"
   },
   {
    "duration": 174,
    "start_time": "2023-02-25T07:16:22.440Z"
   },
   {
    "duration": 5,
    "start_time": "2023-02-25T07:16:22.616Z"
   },
   {
    "duration": 322,
    "start_time": "2023-02-25T07:16:22.623Z"
   },
   {
    "duration": 169,
    "start_time": "2023-02-25T07:16:22.947Z"
   },
   {
    "duration": 12,
    "start_time": "2023-02-25T07:16:23.118Z"
   },
   {
    "duration": 24,
    "start_time": "2023-02-25T07:16:23.131Z"
   },
   {
    "duration": 22,
    "start_time": "2023-02-25T07:16:23.158Z"
   },
   {
    "duration": 42,
    "start_time": "2023-02-25T07:16:23.182Z"
   },
   {
    "duration": 33,
    "start_time": "2023-02-25T07:16:23.226Z"
   },
   {
    "duration": 137,
    "start_time": "2023-02-25T07:39:24.665Z"
   },
   {
    "duration": 1448,
    "start_time": "2023-02-26T10:56:02.473Z"
   },
   {
    "duration": 3027,
    "start_time": "2023-02-26T10:56:03.923Z"
   },
   {
    "duration": 6,
    "start_time": "2023-02-26T10:56:06.952Z"
   },
   {
    "duration": 87,
    "start_time": "2023-02-26T10:56:06.961Z"
   },
   {
    "duration": 96,
    "start_time": "2023-02-26T10:56:07.049Z"
   },
   {
    "duration": 68,
    "start_time": "2023-02-26T10:56:07.146Z"
   },
   {
    "duration": 6,
    "start_time": "2023-02-26T10:56:07.216Z"
   },
   {
    "duration": 613,
    "start_time": "2023-02-26T10:56:07.223Z"
   },
   {
    "duration": 516,
    "start_time": "2023-02-26T10:56:07.844Z"
   },
   {
    "duration": 473,
    "start_time": "2023-02-26T10:56:08.364Z"
   },
   {
    "duration": 6,
    "start_time": "2023-02-26T10:56:08.844Z"
   },
   {
    "duration": 7,
    "start_time": "2023-02-26T10:56:08.852Z"
   },
   {
    "duration": 7,
    "start_time": "2023-02-26T10:56:08.861Z"
   },
   {
    "duration": 12,
    "start_time": "2023-02-26T10:56:08.870Z"
   },
   {
    "duration": 12,
    "start_time": "2023-02-26T10:56:08.884Z"
   },
   {
    "duration": 11,
    "start_time": "2023-02-26T10:56:08.898Z"
   },
   {
    "duration": 9,
    "start_time": "2023-02-26T10:56:08.944Z"
   },
   {
    "duration": 8,
    "start_time": "2023-02-26T10:56:08.954Z"
   },
   {
    "duration": 12,
    "start_time": "2023-02-26T10:56:08.963Z"
   },
   {
    "duration": 306,
    "start_time": "2023-02-26T10:56:08.977Z"
   },
   {
    "duration": 305,
    "start_time": "2023-02-26T10:56:09.285Z"
   },
   {
    "duration": 216,
    "start_time": "2023-02-26T10:56:09.592Z"
   },
   {
    "duration": 356,
    "start_time": "2023-02-26T10:56:09.809Z"
   },
   {
    "duration": 231,
    "start_time": "2023-02-26T10:56:10.166Z"
   },
   {
    "duration": 356,
    "start_time": "2023-02-26T10:56:10.400Z"
   },
   {
    "duration": 9,
    "start_time": "2023-02-26T10:56:10.758Z"
   },
   {
    "duration": 230,
    "start_time": "2023-02-26T10:56:10.769Z"
   },
   {
    "duration": 4,
    "start_time": "2023-02-26T10:56:11.003Z"
   },
   {
    "duration": 158,
    "start_time": "2023-02-26T10:56:11.009Z"
   },
   {
    "duration": 4,
    "start_time": "2023-02-26T10:56:11.169Z"
   },
   {
    "duration": 250,
    "start_time": "2023-02-26T10:56:11.175Z"
   },
   {
    "duration": 181,
    "start_time": "2023-02-26T10:56:11.427Z"
   },
   {
    "duration": 14,
    "start_time": "2023-02-26T10:56:11.610Z"
   },
   {
    "duration": 25,
    "start_time": "2023-02-26T10:56:11.625Z"
   },
   {
    "duration": 14,
    "start_time": "2023-02-26T10:56:11.652Z"
   },
   {
    "duration": 22,
    "start_time": "2023-02-26T10:56:11.668Z"
   },
   {
    "duration": 13,
    "start_time": "2023-02-26T10:56:11.692Z"
   },
   {
    "duration": 8,
    "start_time": "2023-02-26T11:10:15.027Z"
   },
   {
    "duration": 7,
    "start_time": "2023-02-26T11:10:44.519Z"
   },
   {
    "duration": 7,
    "start_time": "2023-02-26T11:11:00.082Z"
   },
   {
    "duration": 1277,
    "start_time": "2023-02-26T11:13:12.487Z"
   },
   {
    "duration": 1493,
    "start_time": "2023-02-26T11:13:24.173Z"
   },
   {
    "duration": 1203,
    "start_time": "2023-02-26T11:13:35.839Z"
   },
   {
    "duration": 2249,
    "start_time": "2023-02-26T11:13:37.044Z"
   },
   {
    "duration": 5,
    "start_time": "2023-02-26T11:13:39.295Z"
   },
   {
    "duration": 39,
    "start_time": "2023-02-26T11:13:39.301Z"
   },
   {
    "duration": 42,
    "start_time": "2023-02-26T11:13:39.343Z"
   },
   {
    "duration": 20,
    "start_time": "2023-02-26T11:13:39.386Z"
   },
   {
    "duration": 6,
    "start_time": "2023-02-26T11:13:39.408Z"
   },
   {
    "duration": 622,
    "start_time": "2023-02-26T11:13:39.415Z"
   },
   {
    "duration": 540,
    "start_time": "2023-02-26T11:13:40.039Z"
   },
   {
    "duration": 458,
    "start_time": "2023-02-26T11:13:40.581Z"
   },
   {
    "duration": 7,
    "start_time": "2023-02-26T11:13:41.045Z"
   },
   {
    "duration": 16,
    "start_time": "2023-02-26T11:13:41.054Z"
   },
   {
    "duration": 18,
    "start_time": "2023-02-26T11:13:41.071Z"
   },
   {
    "duration": 7,
    "start_time": "2023-02-26T11:13:41.092Z"
   },
   {
    "duration": 13,
    "start_time": "2023-02-26T11:13:41.100Z"
   },
   {
    "duration": 9,
    "start_time": "2023-02-26T11:13:41.114Z"
   },
   {
    "duration": 14,
    "start_time": "2023-02-26T11:13:41.124Z"
   },
   {
    "duration": 11,
    "start_time": "2023-02-26T11:13:41.145Z"
   },
   {
    "duration": 11,
    "start_time": "2023-02-26T11:13:41.158Z"
   },
   {
    "duration": 16,
    "start_time": "2023-02-26T11:13:41.171Z"
   },
   {
    "duration": 10,
    "start_time": "2023-02-26T11:13:41.188Z"
   },
   {
    "duration": 10,
    "start_time": "2023-02-26T11:13:41.200Z"
   },
   {
    "duration": 325,
    "start_time": "2023-02-26T11:13:41.212Z"
   },
   {
    "duration": 286,
    "start_time": "2023-02-26T11:13:41.539Z"
   },
   {
    "duration": 210,
    "start_time": "2023-02-26T11:13:41.827Z"
   },
   {
    "duration": 326,
    "start_time": "2023-02-26T11:13:42.039Z"
   },
   {
    "duration": 227,
    "start_time": "2023-02-26T11:13:42.367Z"
   },
   {
    "duration": 329,
    "start_time": "2023-02-26T11:13:42.596Z"
   },
   {
    "duration": 19,
    "start_time": "2023-02-26T11:13:42.926Z"
   },
   {
    "duration": 229,
    "start_time": "2023-02-26T11:13:42.946Z"
   },
   {
    "duration": 8,
    "start_time": "2023-02-26T11:13:43.177Z"
   },
   {
    "duration": 169,
    "start_time": "2023-02-26T11:13:43.187Z"
   },
   {
    "duration": 5,
    "start_time": "2023-02-26T11:13:43.357Z"
   },
   {
    "duration": 251,
    "start_time": "2023-02-26T11:13:43.364Z"
   },
   {
    "duration": 179,
    "start_time": "2023-02-26T11:13:43.616Z"
   },
   {
    "duration": 11,
    "start_time": "2023-02-26T11:13:43.798Z"
   },
   {
    "duration": 8,
    "start_time": "2023-02-26T11:13:43.811Z"
   },
   {
    "duration": 25,
    "start_time": "2023-02-26T11:13:43.821Z"
   },
   {
    "duration": 22,
    "start_time": "2023-02-26T11:13:43.848Z"
   },
   {
    "duration": 14,
    "start_time": "2023-02-26T11:13:43.872Z"
   },
   {
    "duration": 1258,
    "start_time": "2023-02-26T11:17:07.290Z"
   },
   {
    "duration": 1165,
    "start_time": "2023-02-26T11:17:31.047Z"
   },
   {
    "duration": 1164,
    "start_time": "2023-02-26T11:17:41.416Z"
   },
   {
    "duration": 2285,
    "start_time": "2023-02-26T11:17:42.581Z"
   },
   {
    "duration": 5,
    "start_time": "2023-02-26T11:17:44.868Z"
   },
   {
    "duration": 41,
    "start_time": "2023-02-26T11:17:44.875Z"
   },
   {
    "duration": 42,
    "start_time": "2023-02-26T11:17:44.917Z"
   },
   {
    "duration": 21,
    "start_time": "2023-02-26T11:17:44.961Z"
   },
   {
    "duration": 6,
    "start_time": "2023-02-26T11:17:44.983Z"
   },
   {
    "duration": 670,
    "start_time": "2023-02-26T11:17:44.991Z"
   },
   {
    "duration": 539,
    "start_time": "2023-02-26T11:17:45.662Z"
   },
   {
    "duration": 543,
    "start_time": "2023-02-26T11:17:46.204Z"
   },
   {
    "duration": 5,
    "start_time": "2023-02-26T11:17:46.749Z"
   },
   {
    "duration": 14,
    "start_time": "2023-02-26T11:17:46.756Z"
   },
   {
    "duration": 9,
    "start_time": "2023-02-26T11:17:46.771Z"
   },
   {
    "duration": 11,
    "start_time": "2023-02-26T11:17:46.781Z"
   },
   {
    "duration": 14,
    "start_time": "2023-02-26T11:17:46.793Z"
   },
   {
    "duration": 6,
    "start_time": "2023-02-26T11:17:46.808Z"
   },
   {
    "duration": 13,
    "start_time": "2023-02-26T11:17:46.815Z"
   },
   {
    "duration": 11,
    "start_time": "2023-02-26T11:17:46.845Z"
   },
   {
    "duration": 14,
    "start_time": "2023-02-26T11:17:46.858Z"
   },
   {
    "duration": 15,
    "start_time": "2023-02-26T11:17:46.873Z"
   },
   {
    "duration": 13,
    "start_time": "2023-02-26T11:17:46.889Z"
   },
   {
    "duration": 22,
    "start_time": "2023-02-26T11:17:46.904Z"
   },
   {
    "duration": 294,
    "start_time": "2023-02-26T11:17:46.928Z"
   },
   {
    "duration": 305,
    "start_time": "2023-02-26T11:17:47.224Z"
   },
   {
    "duration": 204,
    "start_time": "2023-02-26T11:17:47.531Z"
   },
   {
    "duration": 328,
    "start_time": "2023-02-26T11:17:47.737Z"
   },
   {
    "duration": 242,
    "start_time": "2023-02-26T11:17:48.067Z"
   },
   {
    "duration": 331,
    "start_time": "2023-02-26T11:17:48.312Z"
   },
   {
    "duration": 10,
    "start_time": "2023-02-26T11:17:48.644Z"
   },
   {
    "duration": 231,
    "start_time": "2023-02-26T11:17:48.655Z"
   },
   {
    "duration": 4,
    "start_time": "2023-02-26T11:17:48.888Z"
   },
   {
    "duration": 156,
    "start_time": "2023-02-26T11:17:48.893Z"
   },
   {
    "duration": 4,
    "start_time": "2023-02-26T11:17:49.051Z"
   },
   {
    "duration": 233,
    "start_time": "2023-02-26T11:17:49.056Z"
   },
   {
    "duration": 195,
    "start_time": "2023-02-26T11:17:49.291Z"
   },
   {
    "duration": 11,
    "start_time": "2023-02-26T11:17:49.488Z"
   },
   {
    "duration": 9,
    "start_time": "2023-02-26T11:17:49.501Z"
   },
   {
    "duration": 33,
    "start_time": "2023-02-26T11:17:49.512Z"
   },
   {
    "duration": 24,
    "start_time": "2023-02-26T11:17:49.546Z"
   },
   {
    "duration": 14,
    "start_time": "2023-02-26T11:17:49.571Z"
   },
   {
    "duration": 1469,
    "start_time": "2023-02-26T11:19:00.645Z"
   },
   {
    "duration": 1353,
    "start_time": "2023-02-26T11:19:24.813Z"
   },
   {
    "duration": 1132,
    "start_time": "2023-02-26T11:19:31.291Z"
   },
   {
    "duration": 2274,
    "start_time": "2023-02-26T11:19:32.425Z"
   },
   {
    "duration": 5,
    "start_time": "2023-02-26T11:19:34.701Z"
   },
   {
    "duration": 42,
    "start_time": "2023-02-26T11:19:34.707Z"
   },
   {
    "duration": 50,
    "start_time": "2023-02-26T11:19:34.751Z"
   },
   {
    "duration": 22,
    "start_time": "2023-02-26T11:19:34.803Z"
   },
   {
    "duration": 7,
    "start_time": "2023-02-26T11:19:34.827Z"
   },
   {
    "duration": 596,
    "start_time": "2023-02-26T11:19:34.835Z"
   },
   {
    "duration": 517,
    "start_time": "2023-02-26T11:19:35.433Z"
   },
   {
    "duration": 473,
    "start_time": "2023-02-26T11:19:35.953Z"
   },
   {
    "duration": 7,
    "start_time": "2023-02-26T11:19:36.428Z"
   },
   {
    "duration": 47,
    "start_time": "2023-02-26T11:19:36.445Z"
   },
   {
    "duration": 98,
    "start_time": "2023-02-26T11:19:36.494Z"
   },
   {
    "duration": 39,
    "start_time": "2023-02-26T11:19:36.594Z"
   },
   {
    "duration": 42,
    "start_time": "2023-02-26T11:19:36.635Z"
   },
   {
    "duration": 51,
    "start_time": "2023-02-26T11:19:36.679Z"
   },
   {
    "duration": 30,
    "start_time": "2023-02-26T11:19:36.732Z"
   },
   {
    "duration": 23,
    "start_time": "2023-02-26T11:19:36.763Z"
   },
   {
    "duration": 18,
    "start_time": "2023-02-26T11:19:36.788Z"
   },
   {
    "duration": 22,
    "start_time": "2023-02-26T11:19:36.807Z"
   },
   {
    "duration": 24,
    "start_time": "2023-02-26T11:19:36.830Z"
   },
   {
    "duration": 25,
    "start_time": "2023-02-26T11:19:36.855Z"
   },
   {
    "duration": 292,
    "start_time": "2023-02-26T11:19:36.881Z"
   },
   {
    "duration": 300,
    "start_time": "2023-02-26T11:19:37.175Z"
   },
   {
    "duration": 210,
    "start_time": "2023-02-26T11:19:37.477Z"
   },
   {
    "duration": 288,
    "start_time": "2023-02-26T11:19:37.689Z"
   },
   {
    "duration": 220,
    "start_time": "2023-02-26T11:19:37.978Z"
   },
   {
    "duration": 299,
    "start_time": "2023-02-26T11:19:38.201Z"
   },
   {
    "duration": 10,
    "start_time": "2023-02-26T11:19:38.502Z"
   },
   {
    "duration": 227,
    "start_time": "2023-02-26T11:19:38.514Z"
   },
   {
    "duration": 4,
    "start_time": "2023-02-26T11:19:38.744Z"
   },
   {
    "duration": 162,
    "start_time": "2023-02-26T11:19:38.750Z"
   },
   {
    "duration": 4,
    "start_time": "2023-02-26T11:19:38.913Z"
   },
   {
    "duration": 237,
    "start_time": "2023-02-26T11:19:38.919Z"
   },
   {
    "duration": 179,
    "start_time": "2023-02-26T11:19:39.157Z"
   },
   {
    "duration": 14,
    "start_time": "2023-02-26T11:19:39.338Z"
   },
   {
    "duration": 16,
    "start_time": "2023-02-26T11:19:39.354Z"
   },
   {
    "duration": 19,
    "start_time": "2023-02-26T11:19:39.372Z"
   },
   {
    "duration": 23,
    "start_time": "2023-02-26T11:19:39.393Z"
   },
   {
    "duration": 16,
    "start_time": "2023-02-26T11:19:39.418Z"
   },
   {
    "duration": 5,
    "start_time": "2023-02-26T11:20:31.886Z"
   },
   {
    "duration": 2914,
    "start_time": "2023-02-26T11:21:19.214Z"
   },
   {
    "duration": 1199,
    "start_time": "2023-02-26T11:21:34.962Z"
   },
   {
    "duration": 4,
    "start_time": "2023-02-26T11:22:12.135Z"
   },
   {
    "duration": 4,
    "start_time": "2023-02-26T11:22:56.883Z"
   },
   {
    "duration": 50,
    "start_time": "2023-02-26T14:28:44.210Z"
   },
   {
    "duration": 1419,
    "start_time": "2023-02-26T14:29:00.004Z"
   },
   {
    "duration": 2851,
    "start_time": "2023-02-26T14:29:01.425Z"
   },
   {
    "duration": 16,
    "start_time": "2023-02-26T14:29:04.278Z"
   },
   {
    "duration": 113,
    "start_time": "2023-02-26T14:29:04.296Z"
   },
   {
    "duration": 121,
    "start_time": "2023-02-26T14:29:04.412Z"
   },
   {
    "duration": 83,
    "start_time": "2023-02-26T14:29:04.535Z"
   },
   {
    "duration": 6,
    "start_time": "2023-02-26T14:29:04.620Z"
   },
   {
    "duration": 563,
    "start_time": "2023-02-26T14:29:04.628Z"
   },
   {
    "duration": 541,
    "start_time": "2023-02-26T14:29:05.194Z"
   },
   {
    "duration": 482,
    "start_time": "2023-02-26T14:29:05.738Z"
   },
   {
    "duration": 16,
    "start_time": "2023-02-26T14:29:06.221Z"
   },
   {
    "duration": 6,
    "start_time": "2023-02-26T14:29:06.239Z"
   },
   {
    "duration": 11,
    "start_time": "2023-02-26T14:29:06.246Z"
   },
   {
    "duration": 14,
    "start_time": "2023-02-26T14:29:06.258Z"
   },
   {
    "duration": 7,
    "start_time": "2023-02-26T14:29:06.274Z"
   },
   {
    "duration": 13,
    "start_time": "2023-02-26T14:29:06.283Z"
   },
   {
    "duration": 11,
    "start_time": "2023-02-26T14:29:06.298Z"
   },
   {
    "duration": 38,
    "start_time": "2023-02-26T14:29:06.311Z"
   },
   {
    "duration": 12,
    "start_time": "2023-02-26T14:29:06.350Z"
   },
   {
    "duration": 8,
    "start_time": "2023-02-26T14:29:06.364Z"
   },
   {
    "duration": 10,
    "start_time": "2023-02-26T14:29:06.374Z"
   },
   {
    "duration": 11,
    "start_time": "2023-02-26T14:29:06.386Z"
   },
   {
    "duration": 8,
    "start_time": "2023-02-26T14:29:06.398Z"
   },
   {
    "duration": 307,
    "start_time": "2023-02-26T14:29:06.408Z"
   },
   {
    "duration": 296,
    "start_time": "2023-02-26T14:29:06.716Z"
   },
   {
    "duration": 208,
    "start_time": "2023-02-26T14:29:07.014Z"
   },
   {
    "duration": 335,
    "start_time": "2023-02-26T14:29:07.224Z"
   },
   {
    "duration": 230,
    "start_time": "2023-02-26T14:29:07.563Z"
   },
   {
    "duration": 360,
    "start_time": "2023-02-26T14:29:07.795Z"
   },
   {
    "duration": 10,
    "start_time": "2023-02-26T14:29:08.158Z"
   },
   {
    "duration": 252,
    "start_time": "2023-02-26T14:29:08.170Z"
   },
   {
    "duration": 5,
    "start_time": "2023-02-26T14:29:08.424Z"
   },
   {
    "duration": 190,
    "start_time": "2023-02-26T14:29:08.436Z"
   },
   {
    "duration": 5,
    "start_time": "2023-02-26T14:29:08.628Z"
   },
   {
    "duration": 265,
    "start_time": "2023-02-26T14:29:08.636Z"
   },
   {
    "duration": 192,
    "start_time": "2023-02-26T14:29:08.903Z"
   },
   {
    "duration": 11,
    "start_time": "2023-02-26T14:29:09.097Z"
   },
   {
    "duration": 8,
    "start_time": "2023-02-26T14:29:09.110Z"
   },
   {
    "duration": 10,
    "start_time": "2023-02-26T14:29:09.137Z"
   },
   {
    "duration": 21,
    "start_time": "2023-02-26T14:29:09.149Z"
   },
   {
    "duration": 14,
    "start_time": "2023-02-26T14:29:09.172Z"
   },
   {
    "duration": 116,
    "start_time": "2023-02-26T14:29:18.905Z"
   },
   {
    "duration": 12,
    "start_time": "2023-02-26T14:29:28.200Z"
   },
   {
    "duration": 11,
    "start_time": "2023-02-26T14:29:49.480Z"
   },
   {
    "duration": 74,
    "start_time": "2023-02-26T14:33:20.555Z"
   },
   {
    "duration": 1185,
    "start_time": "2023-02-26T14:33:26.366Z"
   },
   {
    "duration": 12,
    "start_time": "2023-02-26T14:33:39.883Z"
   },
   {
    "duration": 11,
    "start_time": "2023-02-26T14:34:02.681Z"
   },
   {
    "duration": 19,
    "start_time": "2023-02-26T14:34:40.718Z"
   },
   {
    "duration": 8,
    "start_time": "2023-02-26T14:35:41.114Z"
   },
   {
    "duration": 33,
    "start_time": "2023-02-26T14:36:09.101Z"
   },
   {
    "duration": 12,
    "start_time": "2023-02-26T14:36:16.353Z"
   },
   {
    "duration": 13,
    "start_time": "2023-02-26T14:36:41.886Z"
   },
   {
    "duration": 17,
    "start_time": "2023-02-26T14:37:11.885Z"
   },
   {
    "duration": 9,
    "start_time": "2023-02-26T14:37:27.872Z"
   },
   {
    "duration": 1253,
    "start_time": "2023-02-26T14:37:43.854Z"
   },
   {
    "duration": 2165,
    "start_time": "2023-02-26T14:37:45.110Z"
   },
   {
    "duration": 6,
    "start_time": "2023-02-26T14:37:47.278Z"
   },
   {
    "duration": 83,
    "start_time": "2023-02-26T14:37:47.286Z"
   },
   {
    "duration": 44,
    "start_time": "2023-02-26T14:37:47.372Z"
   },
   {
    "duration": 25,
    "start_time": "2023-02-26T14:37:47.418Z"
   },
   {
    "duration": 12,
    "start_time": "2023-02-26T14:37:47.446Z"
   },
   {
    "duration": 670,
    "start_time": "2023-02-26T14:37:47.460Z"
   },
   {
    "duration": 524,
    "start_time": "2023-02-26T14:37:48.137Z"
   },
   {
    "duration": 564,
    "start_time": "2023-02-26T14:37:48.666Z"
   },
   {
    "duration": 7,
    "start_time": "2023-02-26T14:37:49.237Z"
   },
   {
    "duration": 59,
    "start_time": "2023-02-26T14:37:49.246Z"
   },
   {
    "duration": 41,
    "start_time": "2023-02-26T14:37:49.307Z"
   },
   {
    "duration": 22,
    "start_time": "2023-02-26T14:37:49.352Z"
   },
   {
    "duration": 34,
    "start_time": "2023-02-26T14:37:49.376Z"
   },
   {
    "duration": 22,
    "start_time": "2023-02-26T14:37:49.411Z"
   },
   {
    "duration": 41,
    "start_time": "2023-02-26T14:37:49.434Z"
   },
   {
    "duration": 23,
    "start_time": "2023-02-26T14:37:49.477Z"
   },
   {
    "duration": 20,
    "start_time": "2023-02-26T14:37:49.502Z"
   },
   {
    "duration": 9,
    "start_time": "2023-02-26T14:37:49.524Z"
   },
   {
    "duration": 8,
    "start_time": "2023-02-26T14:37:49.534Z"
   },
   {
    "duration": 24,
    "start_time": "2023-02-26T14:37:49.544Z"
   },
   {
    "duration": 9,
    "start_time": "2023-02-26T14:37:49.570Z"
   },
   {
    "duration": 20,
    "start_time": "2023-02-26T14:37:49.581Z"
   },
   {
    "duration": 6,
    "start_time": "2023-02-26T14:37:49.603Z"
   },
   {
    "duration": 311,
    "start_time": "2023-02-26T14:37:49.611Z"
   },
   {
    "duration": 305,
    "start_time": "2023-02-26T14:37:49.924Z"
   },
   {
    "duration": 242,
    "start_time": "2023-02-26T14:37:50.231Z"
   },
   {
    "duration": 306,
    "start_time": "2023-02-26T14:37:50.474Z"
   },
   {
    "duration": 247,
    "start_time": "2023-02-26T14:37:50.782Z"
   },
   {
    "duration": 339,
    "start_time": "2023-02-26T14:37:51.030Z"
   },
   {
    "duration": 9,
    "start_time": "2023-02-26T14:37:51.371Z"
   },
   {
    "duration": 250,
    "start_time": "2023-02-26T14:37:51.382Z"
   },
   {
    "duration": 5,
    "start_time": "2023-02-26T14:37:51.636Z"
   },
   {
    "duration": 181,
    "start_time": "2023-02-26T14:37:51.643Z"
   },
   {
    "duration": 5,
    "start_time": "2023-02-26T14:37:51.825Z"
   },
   {
    "duration": 249,
    "start_time": "2023-02-26T14:37:51.837Z"
   },
   {
    "duration": 171,
    "start_time": "2023-02-26T14:37:52.088Z"
   },
   {
    "duration": 13,
    "start_time": "2023-02-26T14:37:52.261Z"
   },
   {
    "duration": 9,
    "start_time": "2023-02-26T14:37:52.276Z"
   },
   {
    "duration": 8,
    "start_time": "2023-02-26T14:37:52.290Z"
   },
   {
    "duration": 46,
    "start_time": "2023-02-26T14:37:52.300Z"
   },
   {
    "duration": 19,
    "start_time": "2023-02-26T14:37:52.349Z"
   },
   {
    "duration": 19,
    "start_time": "2023-02-26T14:38:26.861Z"
   },
   {
    "duration": 113,
    "start_time": "2023-02-26T14:38:49.644Z"
   },
   {
    "duration": 14,
    "start_time": "2023-02-26T14:39:02.009Z"
   },
   {
    "duration": 1102,
    "start_time": "2023-02-26T14:39:13.096Z"
   },
   {
    "duration": 2227,
    "start_time": "2023-02-26T14:39:14.200Z"
   },
   {
    "duration": 6,
    "start_time": "2023-02-26T14:39:16.429Z"
   },
   {
    "duration": 42,
    "start_time": "2023-02-26T14:39:16.437Z"
   },
   {
    "duration": 43,
    "start_time": "2023-02-26T14:39:16.481Z"
   },
   {
    "duration": 26,
    "start_time": "2023-02-26T14:39:16.525Z"
   },
   {
    "duration": 8,
    "start_time": "2023-02-26T14:39:16.553Z"
   },
   {
    "duration": 590,
    "start_time": "2023-02-26T14:39:16.563Z"
   },
   {
    "duration": 491,
    "start_time": "2023-02-26T14:39:17.154Z"
   },
   {
    "duration": 493,
    "start_time": "2023-02-26T14:39:17.648Z"
   },
   {
    "duration": 9,
    "start_time": "2023-02-26T14:39:18.142Z"
   },
   {
    "duration": 27,
    "start_time": "2023-02-26T14:39:18.153Z"
   },
   {
    "duration": 24,
    "start_time": "2023-02-26T14:39:18.182Z"
   },
   {
    "duration": 24,
    "start_time": "2023-02-26T14:39:18.208Z"
   },
   {
    "duration": 37,
    "start_time": "2023-02-26T14:39:18.234Z"
   },
   {
    "duration": 25,
    "start_time": "2023-02-26T14:39:18.273Z"
   },
   {
    "duration": 27,
    "start_time": "2023-02-26T14:39:18.299Z"
   },
   {
    "duration": 31,
    "start_time": "2023-02-26T14:39:18.328Z"
   },
   {
    "duration": 19,
    "start_time": "2023-02-26T14:39:18.360Z"
   },
   {
    "duration": 31,
    "start_time": "2023-02-26T14:39:18.381Z"
   },
   {
    "duration": 38,
    "start_time": "2023-02-26T14:39:18.414Z"
   },
   {
    "duration": 22,
    "start_time": "2023-02-26T14:39:18.454Z"
   },
   {
    "duration": 33,
    "start_time": "2023-02-26T14:39:18.478Z"
   },
   {
    "duration": 23,
    "start_time": "2023-02-26T14:39:18.512Z"
   },
   {
    "duration": 27,
    "start_time": "2023-02-26T14:39:18.537Z"
   },
   {
    "duration": 376,
    "start_time": "2023-02-26T14:39:18.566Z"
   },
   {
    "duration": 306,
    "start_time": "2023-02-26T14:39:18.944Z"
   },
   {
    "duration": 274,
    "start_time": "2023-02-26T14:39:19.253Z"
   },
   {
    "duration": 330,
    "start_time": "2023-02-26T14:39:19.529Z"
   },
   {
    "duration": 233,
    "start_time": "2023-02-26T14:39:19.861Z"
   },
   {
    "duration": 346,
    "start_time": "2023-02-26T14:39:20.096Z"
   },
   {
    "duration": 8,
    "start_time": "2023-02-26T14:39:20.444Z"
   },
   {
    "duration": 275,
    "start_time": "2023-02-26T14:39:20.454Z"
   },
   {
    "duration": 5,
    "start_time": "2023-02-26T14:39:20.736Z"
   },
   {
    "duration": 194,
    "start_time": "2023-02-26T14:39:20.743Z"
   },
   {
    "duration": 5,
    "start_time": "2023-02-26T14:39:20.939Z"
   },
   {
    "duration": 274,
    "start_time": "2023-02-26T14:39:20.946Z"
   },
   {
    "duration": 185,
    "start_time": "2023-02-26T14:39:21.222Z"
   },
   {
    "duration": 10,
    "start_time": "2023-02-26T14:39:21.409Z"
   },
   {
    "duration": 29,
    "start_time": "2023-02-26T14:39:21.421Z"
   },
   {
    "duration": 35,
    "start_time": "2023-02-26T14:39:21.452Z"
   },
   {
    "duration": 30,
    "start_time": "2023-02-26T14:39:21.489Z"
   },
   {
    "duration": 14,
    "start_time": "2023-02-26T14:39:21.521Z"
   },
   {
    "duration": 12,
    "start_time": "2023-02-26T14:40:49.842Z"
   },
   {
    "duration": 14,
    "start_time": "2023-02-26T14:40:58.181Z"
   },
   {
    "duration": 208,
    "start_time": "2023-02-26T14:47:29.723Z"
   },
   {
    "duration": 229,
    "start_time": "2023-02-26T14:51:03.624Z"
   },
   {
    "duration": 228,
    "start_time": "2023-02-26T14:51:15.043Z"
   },
   {
    "duration": 239,
    "start_time": "2023-02-26T14:51:30.819Z"
   },
   {
    "duration": 265,
    "start_time": "2023-02-26T14:51:40.328Z"
   },
   {
    "duration": 1160,
    "start_time": "2023-02-26T14:51:52.482Z"
   },
   {
    "duration": 2222,
    "start_time": "2023-02-26T14:51:53.644Z"
   },
   {
    "duration": 6,
    "start_time": "2023-02-26T14:51:55.868Z"
   },
   {
    "duration": 59,
    "start_time": "2023-02-26T14:51:55.876Z"
   },
   {
    "duration": 45,
    "start_time": "2023-02-26T14:51:55.937Z"
   },
   {
    "duration": 21,
    "start_time": "2023-02-26T14:51:55.984Z"
   },
   {
    "duration": 11,
    "start_time": "2023-02-26T14:51:56.007Z"
   },
   {
    "duration": 633,
    "start_time": "2023-02-26T14:51:56.019Z"
   },
   {
    "duration": 505,
    "start_time": "2023-02-26T14:51:56.654Z"
   },
   {
    "duration": 477,
    "start_time": "2023-02-26T14:51:57.162Z"
   },
   {
    "duration": 8,
    "start_time": "2023-02-26T14:51:57.642Z"
   },
   {
    "duration": 28,
    "start_time": "2023-02-26T14:51:57.652Z"
   },
   {
    "duration": 30,
    "start_time": "2023-02-26T14:51:57.682Z"
   },
   {
    "duration": 20,
    "start_time": "2023-02-26T14:51:57.714Z"
   },
   {
    "duration": 24,
    "start_time": "2023-02-26T14:51:57.736Z"
   },
   {
    "duration": 29,
    "start_time": "2023-02-26T14:51:57.762Z"
   },
   {
    "duration": 44,
    "start_time": "2023-02-26T14:51:57.792Z"
   },
   {
    "duration": 28,
    "start_time": "2023-02-26T14:51:57.838Z"
   },
   {
    "duration": 32,
    "start_time": "2023-02-26T14:51:57.868Z"
   },
   {
    "duration": 24,
    "start_time": "2023-02-26T14:51:57.902Z"
   },
   {
    "duration": 26,
    "start_time": "2023-02-26T14:51:57.928Z"
   },
   {
    "duration": 41,
    "start_time": "2023-02-26T14:51:57.956Z"
   },
   {
    "duration": 19,
    "start_time": "2023-02-26T14:51:57.998Z"
   },
   {
    "duration": 31,
    "start_time": "2023-02-26T14:51:58.018Z"
   },
   {
    "duration": 359,
    "start_time": "2023-02-26T14:51:58.052Z"
   },
   {
    "duration": 338,
    "start_time": "2023-02-26T14:51:58.414Z"
   },
   {
    "duration": 223,
    "start_time": "2023-02-26T14:51:58.754Z"
   },
   {
    "duration": 299,
    "start_time": "2023-02-26T14:51:58.982Z"
   },
   {
    "duration": 247,
    "start_time": "2023-02-26T14:51:59.284Z"
   },
   {
    "duration": 323,
    "start_time": "2023-02-26T14:51:59.533Z"
   },
   {
    "duration": 9,
    "start_time": "2023-02-26T14:51:59.858Z"
   },
   {
    "duration": 260,
    "start_time": "2023-02-26T14:51:59.869Z"
   },
   {
    "duration": 4,
    "start_time": "2023-02-26T14:52:00.137Z"
   },
   {
    "duration": 168,
    "start_time": "2023-02-26T14:52:00.144Z"
   },
   {
    "duration": 5,
    "start_time": "2023-02-26T14:52:00.314Z"
   },
   {
    "duration": 254,
    "start_time": "2023-02-26T14:52:00.320Z"
   },
   {
    "duration": 178,
    "start_time": "2023-02-26T14:52:00.576Z"
   },
   {
    "duration": 12,
    "start_time": "2023-02-26T14:52:00.757Z"
   },
   {
    "duration": 34,
    "start_time": "2023-02-26T14:52:00.771Z"
   },
   {
    "duration": 57,
    "start_time": "2023-02-26T14:52:00.807Z"
   },
   {
    "duration": 59,
    "start_time": "2023-02-26T14:52:00.866Z"
   },
   {
    "duration": 32,
    "start_time": "2023-02-26T14:52:00.927Z"
   },
   {
    "duration": 215,
    "start_time": "2023-02-26T14:55:36.650Z"
   },
   {
    "duration": 206,
    "start_time": "2023-02-26T14:55:46.299Z"
   },
   {
    "duration": 206,
    "start_time": "2023-02-26T14:56:00.756Z"
   },
   {
    "duration": 224,
    "start_time": "2023-02-26T14:56:09.975Z"
   },
   {
    "duration": 217,
    "start_time": "2023-02-26T14:56:41.965Z"
   },
   {
    "duration": 392,
    "start_time": "2023-02-26T14:56:47.988Z"
   },
   {
    "duration": 540,
    "start_time": "2023-02-26T14:56:56.128Z"
   },
   {
    "duration": 350,
    "start_time": "2023-02-26T14:57:07.517Z"
   },
   {
    "duration": 304,
    "start_time": "2023-02-26T14:57:25.849Z"
   },
   {
    "duration": 363,
    "start_time": "2023-02-26T14:57:34.148Z"
   },
   {
    "duration": 287,
    "start_time": "2023-02-26T14:57:38.274Z"
   },
   {
    "duration": 241,
    "start_time": "2023-02-26T14:58:07.944Z"
   },
   {
    "duration": 245,
    "start_time": "2023-02-26T14:58:21.181Z"
   },
   {
    "duration": 244,
    "start_time": "2023-02-26T14:58:27.652Z"
   },
   {
    "duration": 232,
    "start_time": "2023-02-26T14:58:37.153Z"
   },
   {
    "duration": 256,
    "start_time": "2023-02-26T14:58:51.618Z"
   },
   {
    "duration": 245,
    "start_time": "2023-02-26T14:59:02.918Z"
   },
   {
    "duration": 257,
    "start_time": "2023-02-26T14:59:10.914Z"
   },
   {
    "duration": 212,
    "start_time": "2023-02-26T14:59:15.386Z"
   },
   {
    "duration": 215,
    "start_time": "2023-02-26T14:59:24.416Z"
   },
   {
    "duration": 329,
    "start_time": "2023-02-26T14:59:27.975Z"
   },
   {
    "duration": 230,
    "start_time": "2023-02-26T14:59:35.396Z"
   },
   {
    "duration": 346,
    "start_time": "2023-02-26T14:59:39.194Z"
   },
   {
    "duration": 316,
    "start_time": "2023-02-26T14:59:57.955Z"
   },
   {
    "duration": 258,
    "start_time": "2023-02-26T15:00:01.649Z"
   },
   {
    "duration": 243,
    "start_time": "2023-02-26T15:00:09.054Z"
   },
   {
    "duration": 296,
    "start_time": "2023-02-26T15:00:23.198Z"
   },
   {
    "duration": 245,
    "start_time": "2023-02-26T15:00:29.554Z"
   },
   {
    "duration": 220,
    "start_time": "2023-02-26T15:00:33.524Z"
   },
   {
    "duration": 231,
    "start_time": "2023-02-26T15:00:44.301Z"
   },
   {
    "duration": 225,
    "start_time": "2023-02-26T15:00:46.808Z"
   },
   {
    "duration": 213,
    "start_time": "2023-02-26T15:01:06.496Z"
   },
   {
    "duration": 481,
    "start_time": "2023-02-26T15:01:18.381Z"
   },
   {
    "duration": 225,
    "start_time": "2023-02-26T15:01:30.014Z"
   },
   {
    "duration": 350,
    "start_time": "2023-02-26T15:01:58.402Z"
   },
   {
    "duration": 142,
    "start_time": "2023-02-26T15:02:10.841Z"
   },
   {
    "duration": 160,
    "start_time": "2023-02-26T15:02:20.796Z"
   },
   {
    "duration": 242,
    "start_time": "2023-02-26T15:08:42.213Z"
   },
   {
    "duration": 309,
    "start_time": "2023-02-26T15:13:46.801Z"
   },
   {
    "duration": 311,
    "start_time": "2023-02-26T15:14:04.303Z"
   },
   {
    "duration": 317,
    "start_time": "2023-02-26T15:15:07.072Z"
   },
   {
    "duration": 367,
    "start_time": "2023-02-26T15:17:18.498Z"
   },
   {
    "duration": 346,
    "start_time": "2023-02-26T15:19:16.822Z"
   },
   {
    "duration": 69,
    "start_time": "2023-02-26T15:19:41.474Z"
   },
   {
    "duration": 115,
    "start_time": "2023-02-26T15:21:33.441Z"
   },
   {
    "duration": 5,
    "start_time": "2023-02-26T15:25:59.487Z"
   },
   {
    "duration": 149,
    "start_time": "2023-02-26T15:27:00.588Z"
   },
   {
    "duration": 275,
    "start_time": "2023-02-26T15:28:30.234Z"
   },
   {
    "duration": 160,
    "start_time": "2023-02-26T16:33:19.776Z"
   },
   {
    "duration": 172,
    "start_time": "2023-02-26T16:33:58.783Z"
   },
   {
    "duration": 83,
    "start_time": "2023-02-26T16:34:28.481Z"
   },
   {
    "duration": 43,
    "start_time": "2023-02-26T16:35:02.082Z"
   },
   {
    "duration": 12,
    "start_time": "2023-02-26T16:35:52.413Z"
   },
   {
    "duration": 11,
    "start_time": "2023-02-26T16:36:20.602Z"
   },
   {
    "duration": 12,
    "start_time": "2023-02-26T16:37:08.157Z"
   },
   {
    "duration": 11,
    "start_time": "2023-02-26T16:37:48.754Z"
   },
   {
    "duration": 11,
    "start_time": "2023-02-26T16:39:20.794Z"
   },
   {
    "duration": 12,
    "start_time": "2023-02-26T16:39:55.778Z"
   },
   {
    "duration": 10,
    "start_time": "2023-02-26T16:40:12.450Z"
   },
   {
    "duration": 11,
    "start_time": "2023-02-26T16:43:51.353Z"
   },
   {
    "duration": 82,
    "start_time": "2023-02-26T16:44:22.081Z"
   },
   {
    "duration": 10,
    "start_time": "2023-02-26T16:44:26.763Z"
   },
   {
    "duration": 10,
    "start_time": "2023-02-26T16:44:42.508Z"
   },
   {
    "duration": 5,
    "start_time": "2023-02-26T16:45:59.652Z"
   },
   {
    "duration": 6,
    "start_time": "2023-02-26T16:46:03.950Z"
   },
   {
    "duration": 7,
    "start_time": "2023-02-26T16:46:12.127Z"
   },
   {
    "duration": 12,
    "start_time": "2023-02-26T16:46:30.492Z"
   },
   {
    "duration": 9,
    "start_time": "2023-02-26T16:46:42.580Z"
   },
   {
    "duration": 8,
    "start_time": "2023-02-26T16:47:11.476Z"
   },
   {
    "duration": 13,
    "start_time": "2023-02-26T16:47:23.048Z"
   },
   {
    "duration": 4,
    "start_time": "2023-02-26T16:48:08.979Z"
   },
   {
    "duration": 17,
    "start_time": "2023-02-26T16:48:11.324Z"
   },
   {
    "duration": 5,
    "start_time": "2023-02-26T16:48:42.731Z"
   },
   {
    "duration": 12,
    "start_time": "2023-02-26T16:48:56.572Z"
   },
   {
    "duration": 5,
    "start_time": "2023-02-26T16:49:18.356Z"
   },
   {
    "duration": 8,
    "start_time": "2023-02-26T16:50:01.520Z"
   },
   {
    "duration": 7,
    "start_time": "2023-02-26T16:50:16.785Z"
   },
   {
    "duration": 74,
    "start_time": "2023-02-26T16:50:27.724Z"
   },
   {
    "duration": 8,
    "start_time": "2023-02-26T16:50:42.980Z"
   },
   {
    "duration": 1659,
    "start_time": "2023-02-26T16:58:27.374Z"
   },
   {
    "duration": 1227,
    "start_time": "2023-02-26T16:58:44.861Z"
   },
   {
    "duration": 1366,
    "start_time": "2023-02-26T16:58:50.552Z"
   },
   {
    "duration": 2074,
    "start_time": "2023-02-26T16:58:51.920Z"
   },
   {
    "duration": 5,
    "start_time": "2023-02-26T16:58:53.996Z"
   },
   {
    "duration": 41,
    "start_time": "2023-02-26T16:58:54.003Z"
   },
   {
    "duration": 43,
    "start_time": "2023-02-26T16:58:54.049Z"
   },
   {
    "duration": 24,
    "start_time": "2023-02-26T16:58:54.094Z"
   },
   {
    "duration": 7,
    "start_time": "2023-02-26T16:58:54.120Z"
   },
   {
    "duration": 615,
    "start_time": "2023-02-26T16:58:54.128Z"
   },
   {
    "duration": 501,
    "start_time": "2023-02-26T16:58:54.745Z"
   },
   {
    "duration": 486,
    "start_time": "2023-02-26T16:58:55.250Z"
   },
   {
    "duration": 8,
    "start_time": "2023-02-26T16:58:55.738Z"
   },
   {
    "duration": 10,
    "start_time": "2023-02-26T16:58:55.748Z"
   },
   {
    "duration": 9,
    "start_time": "2023-02-26T16:58:55.760Z"
   },
   {
    "duration": 7,
    "start_time": "2023-02-26T16:58:55.771Z"
   },
   {
    "duration": 10,
    "start_time": "2023-02-26T16:58:55.780Z"
   },
   {
    "duration": 8,
    "start_time": "2023-02-26T16:58:55.791Z"
   },
   {
    "duration": 38,
    "start_time": "2023-02-26T16:58:55.800Z"
   },
   {
    "duration": 13,
    "start_time": "2023-02-26T16:58:55.840Z"
   },
   {
    "duration": 12,
    "start_time": "2023-02-26T16:58:55.855Z"
   },
   {
    "duration": 13,
    "start_time": "2023-02-26T16:58:55.869Z"
   },
   {
    "duration": 9,
    "start_time": "2023-02-26T16:58:55.884Z"
   },
   {
    "duration": 14,
    "start_time": "2023-02-26T16:58:55.894Z"
   },
   {
    "duration": 30,
    "start_time": "2023-02-26T16:58:55.910Z"
   },
   {
    "duration": 20,
    "start_time": "2023-02-26T16:58:55.942Z"
   },
   {
    "duration": 318,
    "start_time": "2023-02-26T16:58:55.964Z"
   },
   {
    "duration": 295,
    "start_time": "2023-02-26T16:58:56.286Z"
   },
   {
    "duration": 229,
    "start_time": "2023-02-26T16:58:56.582Z"
   },
   {
    "duration": 346,
    "start_time": "2023-02-26T16:58:56.815Z"
   },
   {
    "duration": 255,
    "start_time": "2023-02-26T16:58:57.163Z"
   },
   {
    "duration": 342,
    "start_time": "2023-02-26T16:58:57.420Z"
   },
   {
    "duration": 11,
    "start_time": "2023-02-26T16:58:57.764Z"
   },
   {
    "duration": 244,
    "start_time": "2023-02-26T16:58:57.776Z"
   },
   {
    "duration": 5,
    "start_time": "2023-02-26T16:58:58.022Z"
   },
   {
    "duration": 165,
    "start_time": "2023-02-26T16:58:58.037Z"
   },
   {
    "duration": 5,
    "start_time": "2023-02-26T16:58:58.203Z"
   },
   {
    "duration": 243,
    "start_time": "2023-02-26T16:58:58.209Z"
   },
   {
    "duration": 212,
    "start_time": "2023-02-26T16:58:58.454Z"
   },
   {
    "duration": 17,
    "start_time": "2023-02-26T16:58:58.669Z"
   },
   {
    "duration": 32,
    "start_time": "2023-02-26T16:58:58.688Z"
   },
   {
    "duration": 20,
    "start_time": "2023-02-26T16:58:58.722Z"
   },
   {
    "duration": 44,
    "start_time": "2023-02-26T16:58:58.745Z"
   },
   {
    "duration": 37,
    "start_time": "2023-02-26T16:58:58.791Z"
   },
   {
    "duration": 18,
    "start_time": "2023-02-26T16:58:58.830Z"
   },
   {
    "duration": 5,
    "start_time": "2023-02-26T17:03:32.709Z"
   },
   {
    "duration": 14,
    "start_time": "2023-02-26T17:03:39.782Z"
   },
   {
    "duration": 225,
    "start_time": "2023-02-26T17:04:10.419Z"
   },
   {
    "duration": 135,
    "start_time": "2023-02-26T17:04:25.525Z"
   },
   {
    "duration": 2,
    "start_time": "2023-02-26T17:08:20.691Z"
   },
   {
    "duration": 14,
    "start_time": "2023-02-26T17:08:38.511Z"
   },
   {
    "duration": 13,
    "start_time": "2023-02-26T17:08:54.383Z"
   },
   {
    "duration": 10,
    "start_time": "2023-02-26T17:09:00.013Z"
   },
   {
    "duration": 84,
    "start_time": "2023-02-26T17:09:39.612Z"
   },
   {
    "duration": 1099,
    "start_time": "2023-02-26T17:12:37.356Z"
   },
   {
    "duration": 1079,
    "start_time": "2023-02-26T17:12:52.925Z"
   },
   {
    "duration": 1110,
    "start_time": "2023-02-26T17:13:06.078Z"
   },
   {
    "duration": 2029,
    "start_time": "2023-02-26T17:13:07.190Z"
   },
   {
    "duration": 6,
    "start_time": "2023-02-26T17:13:09.221Z"
   },
   {
    "duration": 39,
    "start_time": "2023-02-26T17:13:09.230Z"
   },
   {
    "duration": 44,
    "start_time": "2023-02-26T17:13:09.271Z"
   },
   {
    "duration": 25,
    "start_time": "2023-02-26T17:13:09.318Z"
   },
   {
    "duration": 8,
    "start_time": "2023-02-26T17:13:09.346Z"
   },
   {
    "duration": 561,
    "start_time": "2023-02-26T17:13:09.356Z"
   },
   {
    "duration": 521,
    "start_time": "2023-02-26T17:13:09.919Z"
   },
   {
    "duration": 469,
    "start_time": "2023-02-26T17:13:10.443Z"
   },
   {
    "duration": 6,
    "start_time": "2023-02-26T17:13:10.914Z"
   },
   {
    "duration": 18,
    "start_time": "2023-02-26T17:13:10.922Z"
   },
   {
    "duration": 15,
    "start_time": "2023-02-26T17:13:10.942Z"
   },
   {
    "duration": 6,
    "start_time": "2023-02-26T17:13:10.959Z"
   },
   {
    "duration": 26,
    "start_time": "2023-02-26T17:13:10.967Z"
   },
   {
    "duration": 10,
    "start_time": "2023-02-26T17:13:10.995Z"
   },
   {
    "duration": 11,
    "start_time": "2023-02-26T17:13:11.006Z"
   },
   {
    "duration": 17,
    "start_time": "2023-02-26T17:13:11.019Z"
   },
   {
    "duration": 11,
    "start_time": "2023-02-26T17:13:11.038Z"
   },
   {
    "duration": 8,
    "start_time": "2023-02-26T17:13:11.050Z"
   },
   {
    "duration": 6,
    "start_time": "2023-02-26T17:13:11.059Z"
   },
   {
    "duration": 13,
    "start_time": "2023-02-26T17:13:11.067Z"
   },
   {
    "duration": 7,
    "start_time": "2023-02-26T17:13:11.082Z"
   },
   {
    "duration": 12,
    "start_time": "2023-02-26T17:13:11.091Z"
   },
   {
    "duration": 376,
    "start_time": "2023-02-26T17:13:11.104Z"
   },
   {
    "duration": 295,
    "start_time": "2023-02-26T17:13:11.482Z"
   },
   {
    "duration": 269,
    "start_time": "2023-02-26T17:13:11.779Z"
   },
   {
    "duration": 312,
    "start_time": "2023-02-26T17:13:12.052Z"
   },
   {
    "duration": 267,
    "start_time": "2023-02-26T17:13:12.366Z"
   },
   {
    "duration": 312,
    "start_time": "2023-02-26T17:13:12.636Z"
   },
   {
    "duration": 10,
    "start_time": "2023-02-26T17:13:12.949Z"
   },
   {
    "duration": 243,
    "start_time": "2023-02-26T17:13:12.960Z"
   },
   {
    "duration": 4,
    "start_time": "2023-02-26T17:13:13.205Z"
   },
   {
    "duration": 189,
    "start_time": "2023-02-26T17:13:13.211Z"
   },
   {
    "duration": 3,
    "start_time": "2023-02-26T17:13:13.403Z"
   },
   {
    "duration": 7,
    "start_time": "2023-02-26T17:13:13.407Z"
   },
   {
    "duration": 248,
    "start_time": "2023-02-26T17:13:13.415Z"
   },
   {
    "duration": 180,
    "start_time": "2023-02-26T17:13:13.665Z"
   },
   {
    "duration": 11,
    "start_time": "2023-02-26T17:13:13.847Z"
   },
   {
    "duration": 10,
    "start_time": "2023-02-26T17:13:13.860Z"
   },
   {
    "duration": 9,
    "start_time": "2023-02-26T17:13:13.872Z"
   },
   {
    "duration": 8,
    "start_time": "2023-02-26T17:13:13.882Z"
   },
   {
    "duration": 48,
    "start_time": "2023-02-26T17:13:13.891Z"
   },
   {
    "duration": 15,
    "start_time": "2023-02-26T17:13:13.941Z"
   },
   {
    "duration": 1761,
    "start_time": "2023-02-26T17:14:15.903Z"
   },
   {
    "duration": 1359,
    "start_time": "2023-02-26T17:14:25.504Z"
   },
   {
    "duration": 1192,
    "start_time": "2023-02-26T17:14:32.297Z"
   },
   {
    "duration": 2018,
    "start_time": "2023-02-26T17:14:33.491Z"
   },
   {
    "duration": 5,
    "start_time": "2023-02-26T17:14:35.511Z"
   },
   {
    "duration": 40,
    "start_time": "2023-02-26T17:14:35.518Z"
   },
   {
    "duration": 41,
    "start_time": "2023-02-26T17:14:35.560Z"
   },
   {
    "duration": 21,
    "start_time": "2023-02-26T17:14:35.603Z"
   },
   {
    "duration": 6,
    "start_time": "2023-02-26T17:14:35.625Z"
   },
   {
    "duration": 581,
    "start_time": "2023-02-26T17:14:35.633Z"
   },
   {
    "duration": 531,
    "start_time": "2023-02-26T17:14:36.216Z"
   },
   {
    "duration": 467,
    "start_time": "2023-02-26T17:14:36.750Z"
   },
   {
    "duration": 7,
    "start_time": "2023-02-26T17:14:37.218Z"
   },
   {
    "duration": 8,
    "start_time": "2023-02-26T17:14:37.236Z"
   },
   {
    "duration": 8,
    "start_time": "2023-02-26T17:14:37.246Z"
   },
   {
    "duration": 7,
    "start_time": "2023-02-26T17:14:37.256Z"
   },
   {
    "duration": 8,
    "start_time": "2023-02-26T17:14:37.265Z"
   },
   {
    "duration": 8,
    "start_time": "2023-02-26T17:14:37.275Z"
   },
   {
    "duration": 15,
    "start_time": "2023-02-26T17:14:37.285Z"
   },
   {
    "duration": 36,
    "start_time": "2023-02-26T17:14:37.301Z"
   },
   {
    "duration": 13,
    "start_time": "2023-02-26T17:14:37.339Z"
   },
   {
    "duration": 7,
    "start_time": "2023-02-26T17:14:37.354Z"
   },
   {
    "duration": 9,
    "start_time": "2023-02-26T17:14:37.363Z"
   },
   {
    "duration": 15,
    "start_time": "2023-02-26T17:14:37.373Z"
   },
   {
    "duration": 10,
    "start_time": "2023-02-26T17:14:37.389Z"
   },
   {
    "duration": 11,
    "start_time": "2023-02-26T17:14:37.401Z"
   },
   {
    "duration": 293,
    "start_time": "2023-02-26T17:14:37.414Z"
   },
   {
    "duration": 273,
    "start_time": "2023-02-26T17:14:37.709Z"
   },
   {
    "duration": 220,
    "start_time": "2023-02-26T17:14:37.984Z"
   },
   {
    "duration": 369,
    "start_time": "2023-02-26T17:14:38.208Z"
   },
   {
    "duration": 228,
    "start_time": "2023-02-26T17:14:38.579Z"
   },
   {
    "duration": 331,
    "start_time": "2023-02-26T17:14:38.808Z"
   },
   {
    "duration": 9,
    "start_time": "2023-02-26T17:14:39.141Z"
   },
   {
    "duration": 261,
    "start_time": "2023-02-26T17:14:39.152Z"
   },
   {
    "duration": 5,
    "start_time": "2023-02-26T17:14:39.414Z"
   },
   {
    "duration": 157,
    "start_time": "2023-02-26T17:14:39.420Z"
   },
   {
    "duration": 3,
    "start_time": "2023-02-26T17:14:39.579Z"
   },
   {
    "duration": 5,
    "start_time": "2023-02-26T17:14:39.584Z"
   },
   {
    "duration": 244,
    "start_time": "2023-02-26T17:14:39.591Z"
   },
   {
    "duration": 173,
    "start_time": "2023-02-26T17:14:39.837Z"
   },
   {
    "duration": 11,
    "start_time": "2023-02-26T17:14:40.011Z"
   },
   {
    "duration": 11,
    "start_time": "2023-02-26T17:14:40.036Z"
   },
   {
    "duration": 8,
    "start_time": "2023-02-26T17:14:40.049Z"
   },
   {
    "duration": 8,
    "start_time": "2023-02-26T17:14:40.058Z"
   },
   {
    "duration": 22,
    "start_time": "2023-02-26T17:14:40.067Z"
   },
   {
    "duration": 14,
    "start_time": "2023-02-26T17:14:40.091Z"
   },
   {
    "duration": 1086,
    "start_time": "2023-02-26T17:17:48.351Z"
   },
   {
    "duration": 1192,
    "start_time": "2023-02-26T17:17:58.418Z"
   },
   {
    "duration": 1109,
    "start_time": "2023-02-26T17:18:04.380Z"
   },
   {
    "duration": 1961,
    "start_time": "2023-02-26T17:18:05.491Z"
   },
   {
    "duration": 6,
    "start_time": "2023-02-26T17:18:07.454Z"
   },
   {
    "duration": 59,
    "start_time": "2023-02-26T17:18:07.461Z"
   },
   {
    "duration": 42,
    "start_time": "2023-02-26T17:18:07.522Z"
   },
   {
    "duration": 20,
    "start_time": "2023-02-26T17:18:07.566Z"
   },
   {
    "duration": 11,
    "start_time": "2023-02-26T17:18:07.588Z"
   },
   {
    "duration": 610,
    "start_time": "2023-02-26T17:18:07.600Z"
   },
   {
    "duration": 530,
    "start_time": "2023-02-26T17:18:08.211Z"
   },
   {
    "duration": 467,
    "start_time": "2023-02-26T17:18:08.744Z"
   },
   {
    "duration": 6,
    "start_time": "2023-02-26T17:18:09.213Z"
   },
   {
    "duration": 23,
    "start_time": "2023-02-26T17:18:09.221Z"
   },
   {
    "duration": 10,
    "start_time": "2023-02-26T17:18:09.246Z"
   },
   {
    "duration": 17,
    "start_time": "2023-02-26T17:18:09.258Z"
   },
   {
    "duration": 8,
    "start_time": "2023-02-26T17:18:09.276Z"
   },
   {
    "duration": 8,
    "start_time": "2023-02-26T17:18:09.286Z"
   },
   {
    "duration": 20,
    "start_time": "2023-02-26T17:18:09.295Z"
   },
   {
    "duration": 22,
    "start_time": "2023-02-26T17:18:09.317Z"
   },
   {
    "duration": 13,
    "start_time": "2023-02-26T17:18:09.341Z"
   },
   {
    "duration": 22,
    "start_time": "2023-02-26T17:18:09.356Z"
   },
   {
    "duration": 12,
    "start_time": "2023-02-26T17:18:09.380Z"
   },
   {
    "duration": 12,
    "start_time": "2023-02-26T17:18:09.394Z"
   },
   {
    "duration": 12,
    "start_time": "2023-02-26T17:18:09.408Z"
   },
   {
    "duration": 23,
    "start_time": "2023-02-26T17:18:09.422Z"
   },
   {
    "duration": 302,
    "start_time": "2023-02-26T17:18:09.447Z"
   },
   {
    "duration": 277,
    "start_time": "2023-02-26T17:18:09.751Z"
   },
   {
    "duration": 208,
    "start_time": "2023-02-26T17:18:10.035Z"
   },
   {
    "duration": 307,
    "start_time": "2023-02-26T17:18:10.247Z"
   },
   {
    "duration": 225,
    "start_time": "2023-02-26T17:18:10.555Z"
   },
   {
    "duration": 323,
    "start_time": "2023-02-26T17:18:10.782Z"
   },
   {
    "duration": 10,
    "start_time": "2023-02-26T17:18:11.107Z"
   },
   {
    "duration": 259,
    "start_time": "2023-02-26T17:18:11.118Z"
   },
   {
    "duration": 4,
    "start_time": "2023-02-26T17:18:11.379Z"
   },
   {
    "duration": 170,
    "start_time": "2023-02-26T17:18:11.384Z"
   },
   {
    "duration": 2,
    "start_time": "2023-02-26T17:18:11.556Z"
   },
   {
    "duration": 8,
    "start_time": "2023-02-26T17:18:11.560Z"
   },
   {
    "duration": 240,
    "start_time": "2023-02-26T17:18:11.570Z"
   },
   {
    "duration": 178,
    "start_time": "2023-02-26T17:18:11.812Z"
   },
   {
    "duration": 12,
    "start_time": "2023-02-26T17:18:11.992Z"
   },
   {
    "duration": 9,
    "start_time": "2023-02-26T17:18:12.006Z"
   },
   {
    "duration": 5,
    "start_time": "2023-02-26T17:18:12.036Z"
   },
   {
    "duration": 16,
    "start_time": "2023-02-26T17:18:12.043Z"
   },
   {
    "duration": 30,
    "start_time": "2023-02-26T17:18:12.061Z"
   },
   {
    "duration": 13,
    "start_time": "2023-02-26T17:18:12.093Z"
   },
   {
    "duration": 216,
    "start_time": "2023-02-26T17:20:25.842Z"
   },
   {
    "duration": 2296,
    "start_time": "2023-02-26T17:27:58.976Z"
   },
   {
    "duration": 1121,
    "start_time": "2023-02-26T17:28:09.914Z"
   },
   {
    "duration": 1175,
    "start_time": "2023-02-26T17:28:25.115Z"
   },
   {
    "duration": 2028,
    "start_time": "2023-02-26T17:28:26.292Z"
   },
   {
    "duration": 6,
    "start_time": "2023-02-26T17:28:28.322Z"
   },
   {
    "duration": 59,
    "start_time": "2023-02-26T17:28:28.331Z"
   },
   {
    "duration": 46,
    "start_time": "2023-02-26T17:28:28.393Z"
   },
   {
    "duration": 26,
    "start_time": "2023-02-26T17:28:28.441Z"
   },
   {
    "duration": 8,
    "start_time": "2023-02-26T17:28:28.469Z"
   },
   {
    "duration": 618,
    "start_time": "2023-02-26T17:28:28.479Z"
   },
   {
    "duration": 528,
    "start_time": "2023-02-26T17:28:29.098Z"
   },
   {
    "duration": 498,
    "start_time": "2023-02-26T17:28:29.629Z"
   },
   {
    "duration": 11,
    "start_time": "2023-02-26T17:28:30.129Z"
   },
   {
    "duration": 30,
    "start_time": "2023-02-26T17:28:30.142Z"
   },
   {
    "duration": 39,
    "start_time": "2023-02-26T17:28:30.173Z"
   },
   {
    "duration": 19,
    "start_time": "2023-02-26T17:28:30.214Z"
   },
   {
    "duration": 29,
    "start_time": "2023-02-26T17:28:30.235Z"
   },
   {
    "duration": 35,
    "start_time": "2023-02-26T17:28:30.266Z"
   },
   {
    "duration": 33,
    "start_time": "2023-02-26T17:28:30.303Z"
   },
   {
    "duration": 13,
    "start_time": "2023-02-26T17:28:30.338Z"
   },
   {
    "duration": 12,
    "start_time": "2023-02-26T17:28:30.353Z"
   },
   {
    "duration": 13,
    "start_time": "2023-02-26T17:28:30.367Z"
   },
   {
    "duration": 25,
    "start_time": "2023-02-26T17:28:30.381Z"
   },
   {
    "duration": 19,
    "start_time": "2023-02-26T17:28:30.408Z"
   },
   {
    "duration": 21,
    "start_time": "2023-02-26T17:28:30.428Z"
   },
   {
    "duration": 15,
    "start_time": "2023-02-26T17:28:30.451Z"
   },
   {
    "duration": 319,
    "start_time": "2023-02-26T17:28:30.468Z"
   },
   {
    "duration": 290,
    "start_time": "2023-02-26T17:28:30.789Z"
   },
   {
    "duration": 224,
    "start_time": "2023-02-26T17:28:31.081Z"
   },
   {
    "duration": 340,
    "start_time": "2023-02-26T17:28:31.309Z"
   },
   {
    "duration": 242,
    "start_time": "2023-02-26T17:28:31.651Z"
   },
   {
    "duration": 323,
    "start_time": "2023-02-26T17:28:31.894Z"
   },
   {
    "duration": 18,
    "start_time": "2023-02-26T17:28:32.219Z"
   },
   {
    "duration": 239,
    "start_time": "2023-02-26T17:28:32.239Z"
   },
   {
    "duration": 4,
    "start_time": "2023-02-26T17:28:32.479Z"
   },
   {
    "duration": 174,
    "start_time": "2023-02-26T17:28:32.485Z"
   },
   {
    "duration": 2,
    "start_time": "2023-02-26T17:28:32.661Z"
   },
   {
    "duration": 35,
    "start_time": "2023-02-26T17:28:32.665Z"
   },
   {
    "duration": 249,
    "start_time": "2023-02-26T17:28:32.701Z"
   },
   {
    "duration": 1466,
    "start_time": "2023-02-26T17:28:32.951Z"
   },
   {
    "duration": 1,
    "start_time": "2023-02-26T17:28:34.419Z"
   },
   {
    "duration": 0,
    "start_time": "2023-02-26T17:28:34.421Z"
   },
   {
    "duration": 0,
    "start_time": "2023-02-26T17:28:34.423Z"
   },
   {
    "duration": 0,
    "start_time": "2023-02-26T17:28:34.424Z"
   },
   {
    "duration": 0,
    "start_time": "2023-02-26T17:28:34.425Z"
   },
   {
    "duration": 0,
    "start_time": "2023-02-26T17:28:34.426Z"
   },
   {
    "duration": 1152,
    "start_time": "2023-02-26T17:34:40.462Z"
   },
   {
    "duration": 2091,
    "start_time": "2023-02-26T17:34:41.616Z"
   },
   {
    "duration": 6,
    "start_time": "2023-02-26T17:34:43.709Z"
   },
   {
    "duration": 48,
    "start_time": "2023-02-26T17:34:43.716Z"
   },
   {
    "duration": 46,
    "start_time": "2023-02-26T17:34:43.767Z"
   },
   {
    "duration": 26,
    "start_time": "2023-02-26T17:34:43.815Z"
   },
   {
    "duration": 7,
    "start_time": "2023-02-26T17:34:43.843Z"
   },
   {
    "duration": 622,
    "start_time": "2023-02-26T17:34:43.852Z"
   },
   {
    "duration": 467,
    "start_time": "2023-02-26T17:34:44.476Z"
   },
   {
    "duration": 476,
    "start_time": "2023-02-26T17:34:44.945Z"
   },
   {
    "duration": 14,
    "start_time": "2023-02-26T17:34:45.423Z"
   },
   {
    "duration": 18,
    "start_time": "2023-02-26T17:34:45.439Z"
   },
   {
    "duration": 9,
    "start_time": "2023-02-26T17:34:45.459Z"
   },
   {
    "duration": 5,
    "start_time": "2023-02-26T17:34:45.471Z"
   },
   {
    "duration": 8,
    "start_time": "2023-02-26T17:34:45.478Z"
   },
   {
    "duration": 6,
    "start_time": "2023-02-26T17:34:45.487Z"
   },
   {
    "duration": 31,
    "start_time": "2023-02-26T17:34:45.494Z"
   },
   {
    "duration": 20,
    "start_time": "2023-02-26T17:34:45.527Z"
   },
   {
    "duration": 20,
    "start_time": "2023-02-26T17:34:45.549Z"
   },
   {
    "duration": 16,
    "start_time": "2023-02-26T17:34:45.570Z"
   },
   {
    "duration": 11,
    "start_time": "2023-02-26T17:34:45.587Z"
   },
   {
    "duration": 12,
    "start_time": "2023-02-26T17:34:45.600Z"
   },
   {
    "duration": 9,
    "start_time": "2023-02-26T17:34:45.614Z"
   },
   {
    "duration": 20,
    "start_time": "2023-02-26T17:34:45.624Z"
   },
   {
    "duration": 297,
    "start_time": "2023-02-26T17:34:45.646Z"
   },
   {
    "duration": 283,
    "start_time": "2023-02-26T17:34:45.945Z"
   },
   {
    "duration": 211,
    "start_time": "2023-02-26T17:34:46.230Z"
   },
   {
    "duration": 320,
    "start_time": "2023-02-26T17:34:46.443Z"
   },
   {
    "duration": 242,
    "start_time": "2023-02-26T17:34:46.765Z"
   },
   {
    "duration": 350,
    "start_time": "2023-02-26T17:34:47.009Z"
   },
   {
    "duration": 10,
    "start_time": "2023-02-26T17:34:47.362Z"
   },
   {
    "duration": 274,
    "start_time": "2023-02-26T17:34:47.374Z"
   },
   {
    "duration": 6,
    "start_time": "2023-02-26T17:34:47.650Z"
   },
   {
    "duration": 171,
    "start_time": "2023-02-26T17:34:47.658Z"
   },
   {
    "duration": 3,
    "start_time": "2023-02-26T17:34:47.837Z"
   },
   {
    "duration": 14,
    "start_time": "2023-02-26T17:34:47.843Z"
   },
   {
    "duration": 242,
    "start_time": "2023-02-26T17:34:47.859Z"
   },
   {
    "duration": 1432,
    "start_time": "2023-02-26T17:34:48.103Z"
   },
   {
    "duration": 0,
    "start_time": "2023-02-26T17:34:49.538Z"
   },
   {
    "duration": 0,
    "start_time": "2023-02-26T17:34:49.539Z"
   },
   {
    "duration": 0,
    "start_time": "2023-02-26T17:34:49.541Z"
   },
   {
    "duration": 0,
    "start_time": "2023-02-26T17:34:49.542Z"
   },
   {
    "duration": 0,
    "start_time": "2023-02-26T17:34:49.544Z"
   },
   {
    "duration": 1,
    "start_time": "2023-02-26T17:34:49.545Z"
   },
   {
    "duration": 1385,
    "start_time": "2023-02-26T17:36:21.675Z"
   },
   {
    "duration": 168,
    "start_time": "2023-02-26T17:36:47.019Z"
   },
   {
    "duration": 152,
    "start_time": "2023-02-26T17:36:51.478Z"
   },
   {
    "duration": 5,
    "start_time": "2023-02-26T18:52:17.874Z"
   },
   {
    "duration": 14,
    "start_time": "2023-02-26T18:52:26.448Z"
   },
   {
    "duration": 132,
    "start_time": "2023-02-26T18:53:00.259Z"
   },
   {
    "duration": 154,
    "start_time": "2023-02-26T18:53:16.426Z"
   },
   {
    "duration": 70,
    "start_time": "2023-02-26T19:18:20.431Z"
   },
   {
    "duration": 1185,
    "start_time": "2023-02-26T19:18:36.509Z"
   },
   {
    "duration": 2055,
    "start_time": "2023-02-26T19:18:37.696Z"
   },
   {
    "duration": 5,
    "start_time": "2023-02-26T19:18:39.753Z"
   },
   {
    "duration": 51,
    "start_time": "2023-02-26T19:18:39.759Z"
   },
   {
    "duration": 41,
    "start_time": "2023-02-26T19:18:39.812Z"
   },
   {
    "duration": 20,
    "start_time": "2023-02-26T19:18:39.854Z"
   },
   {
    "duration": 5,
    "start_time": "2023-02-26T19:18:39.876Z"
   },
   {
    "duration": 611,
    "start_time": "2023-02-26T19:18:39.883Z"
   },
   {
    "duration": 547,
    "start_time": "2023-02-26T19:18:40.496Z"
   },
   {
    "duration": 483,
    "start_time": "2023-02-26T19:18:41.045Z"
   },
   {
    "duration": 6,
    "start_time": "2023-02-26T19:18:41.536Z"
   },
   {
    "duration": 13,
    "start_time": "2023-02-26T19:18:41.544Z"
   },
   {
    "duration": 14,
    "start_time": "2023-02-26T19:18:41.559Z"
   },
   {
    "duration": 18,
    "start_time": "2023-02-26T19:18:41.576Z"
   },
   {
    "duration": 9,
    "start_time": "2023-02-26T19:18:41.595Z"
   },
   {
    "duration": 11,
    "start_time": "2023-02-26T19:18:41.606Z"
   },
   {
    "duration": 22,
    "start_time": "2023-02-26T19:18:41.619Z"
   },
   {
    "duration": 12,
    "start_time": "2023-02-26T19:18:41.642Z"
   },
   {
    "duration": 11,
    "start_time": "2023-02-26T19:18:41.656Z"
   },
   {
    "duration": 9,
    "start_time": "2023-02-26T19:18:41.669Z"
   },
   {
    "duration": 9,
    "start_time": "2023-02-26T19:18:41.679Z"
   },
   {
    "duration": 11,
    "start_time": "2023-02-26T19:18:41.689Z"
   },
   {
    "duration": 5,
    "start_time": "2023-02-26T19:18:41.702Z"
   },
   {
    "duration": 11,
    "start_time": "2023-02-26T19:18:41.737Z"
   },
   {
    "duration": 295,
    "start_time": "2023-02-26T19:18:41.750Z"
   },
   {
    "duration": 268,
    "start_time": "2023-02-26T19:18:42.047Z"
   },
   {
    "duration": 219,
    "start_time": "2023-02-26T19:18:42.317Z"
   },
   {
    "duration": 308,
    "start_time": "2023-02-26T19:18:42.537Z"
   },
   {
    "duration": 227,
    "start_time": "2023-02-26T19:18:42.847Z"
   },
   {
    "duration": 276,
    "start_time": "2023-02-26T19:18:43.076Z"
   },
   {
    "duration": 9,
    "start_time": "2023-02-26T19:18:43.354Z"
   },
   {
    "duration": 239,
    "start_time": "2023-02-26T19:18:43.365Z"
   },
   {
    "duration": 5,
    "start_time": "2023-02-26T19:18:43.606Z"
   },
   {
    "duration": 168,
    "start_time": "2023-02-26T19:18:43.612Z"
   },
   {
    "duration": 158,
    "start_time": "2023-02-26T19:18:43.781Z"
   },
   {
    "duration": 5,
    "start_time": "2023-02-26T19:18:43.941Z"
   },
   {
    "duration": 231,
    "start_time": "2023-02-26T19:18:43.948Z"
   },
   {
    "duration": 174,
    "start_time": "2023-02-26T19:18:44.181Z"
   },
   {
    "duration": 10,
    "start_time": "2023-02-26T19:18:44.357Z"
   },
   {
    "duration": 9,
    "start_time": "2023-02-26T19:18:44.369Z"
   },
   {
    "duration": 8,
    "start_time": "2023-02-26T19:18:44.381Z"
   },
   {
    "duration": 1378,
    "start_time": "2023-02-26T19:18:44.391Z"
   },
   {
    "duration": 0,
    "start_time": "2023-02-26T19:18:45.771Z"
   },
   {
    "duration": 0,
    "start_time": "2023-02-26T19:18:45.772Z"
   },
   {
    "duration": 9,
    "start_time": "2023-02-26T19:21:06.320Z"
   },
   {
    "duration": 1143,
    "start_time": "2023-02-26T19:21:21.387Z"
   },
   {
    "duration": 2206,
    "start_time": "2023-02-26T19:21:22.532Z"
   },
   {
    "duration": 5,
    "start_time": "2023-02-26T19:21:24.740Z"
   },
   {
    "duration": 51,
    "start_time": "2023-02-26T19:21:24.747Z"
   },
   {
    "duration": 42,
    "start_time": "2023-02-26T19:21:24.800Z"
   },
   {
    "duration": 22,
    "start_time": "2023-02-26T19:21:24.844Z"
   },
   {
    "duration": 9,
    "start_time": "2023-02-26T19:21:24.867Z"
   },
   {
    "duration": 636,
    "start_time": "2023-02-26T19:21:24.878Z"
   },
   {
    "duration": 539,
    "start_time": "2023-02-26T19:21:25.515Z"
   },
   {
    "duration": 474,
    "start_time": "2023-02-26T19:21:26.057Z"
   },
   {
    "duration": 6,
    "start_time": "2023-02-26T19:21:26.537Z"
   },
   {
    "duration": 30,
    "start_time": "2023-02-26T19:21:26.545Z"
   },
   {
    "duration": 34,
    "start_time": "2023-02-26T19:21:26.577Z"
   },
   {
    "duration": 23,
    "start_time": "2023-02-26T19:21:26.612Z"
   },
   {
    "duration": 29,
    "start_time": "2023-02-26T19:21:26.637Z"
   },
   {
    "duration": 13,
    "start_time": "2023-02-26T19:21:26.668Z"
   },
   {
    "duration": 22,
    "start_time": "2023-02-26T19:21:26.683Z"
   },
   {
    "duration": 37,
    "start_time": "2023-02-26T19:21:26.706Z"
   },
   {
    "duration": 12,
    "start_time": "2023-02-26T19:21:26.745Z"
   },
   {
    "duration": 41,
    "start_time": "2023-02-26T19:21:26.758Z"
   },
   {
    "duration": 22,
    "start_time": "2023-02-26T19:21:26.801Z"
   },
   {
    "duration": 21,
    "start_time": "2023-02-26T19:21:26.825Z"
   },
   {
    "duration": 30,
    "start_time": "2023-02-26T19:21:26.848Z"
   },
   {
    "duration": 19,
    "start_time": "2023-02-26T19:21:26.880Z"
   },
   {
    "duration": 297,
    "start_time": "2023-02-26T19:21:26.900Z"
   },
   {
    "duration": 285,
    "start_time": "2023-02-26T19:21:27.199Z"
   },
   {
    "duration": 216,
    "start_time": "2023-02-26T19:21:27.486Z"
   },
   {
    "duration": 339,
    "start_time": "2023-02-26T19:21:27.705Z"
   },
   {
    "duration": 242,
    "start_time": "2023-02-26T19:21:28.046Z"
   },
   {
    "duration": 367,
    "start_time": "2023-02-26T19:21:28.290Z"
   },
   {
    "duration": 12,
    "start_time": "2023-02-26T19:21:28.658Z"
   },
   {
    "duration": 254,
    "start_time": "2023-02-26T19:21:28.671Z"
   },
   {
    "duration": 9,
    "start_time": "2023-02-26T19:21:28.927Z"
   },
   {
    "duration": 221,
    "start_time": "2023-02-26T19:21:28.938Z"
   },
   {
    "duration": 217,
    "start_time": "2023-02-26T19:21:29.161Z"
   },
   {
    "duration": 4,
    "start_time": "2023-02-26T19:21:29.380Z"
   },
   {
    "duration": 260,
    "start_time": "2023-02-26T19:21:29.386Z"
   },
   {
    "duration": 160,
    "start_time": "2023-02-26T19:21:29.648Z"
   },
   {
    "duration": 12,
    "start_time": "2023-02-26T19:21:29.810Z"
   },
   {
    "duration": 18,
    "start_time": "2023-02-26T19:21:29.837Z"
   },
   {
    "duration": 17,
    "start_time": "2023-02-26T19:21:29.857Z"
   },
   {
    "duration": 41,
    "start_time": "2023-02-26T19:21:29.876Z"
   },
   {
    "duration": 52,
    "start_time": "2023-02-26T19:21:29.919Z"
   },
   {
    "duration": 17,
    "start_time": "2023-02-26T19:21:29.973Z"
   },
   {
    "duration": 1203,
    "start_time": "2023-02-27T15:03:46.021Z"
   },
   {
    "duration": 2900,
    "start_time": "2023-02-27T15:03:47.226Z"
   },
   {
    "duration": 7,
    "start_time": "2023-02-27T15:03:50.128Z"
   },
   {
    "duration": 37,
    "start_time": "2023-02-27T15:03:50.137Z"
   },
   {
    "duration": 43,
    "start_time": "2023-02-27T15:03:50.175Z"
   },
   {
    "duration": 21,
    "start_time": "2023-02-27T15:03:50.219Z"
   },
   {
    "duration": 5,
    "start_time": "2023-02-27T15:03:50.242Z"
   },
   {
    "duration": 566,
    "start_time": "2023-02-27T15:03:50.249Z"
   },
   {
    "duration": 467,
    "start_time": "2023-02-27T15:03:50.817Z"
   },
   {
    "duration": 476,
    "start_time": "2023-02-27T15:03:51.286Z"
   },
   {
    "duration": 5,
    "start_time": "2023-02-27T15:03:51.764Z"
   },
   {
    "duration": 21,
    "start_time": "2023-02-27T15:03:51.770Z"
   },
   {
    "duration": 16,
    "start_time": "2023-02-27T15:03:51.792Z"
   },
   {
    "duration": 22,
    "start_time": "2023-02-27T15:03:51.809Z"
   },
   {
    "duration": 17,
    "start_time": "2023-02-27T15:03:51.833Z"
   },
   {
    "duration": 16,
    "start_time": "2023-02-27T15:03:51.852Z"
   },
   {
    "duration": 25,
    "start_time": "2023-02-27T15:03:51.870Z"
   },
   {
    "duration": 31,
    "start_time": "2023-02-27T15:03:51.897Z"
   },
   {
    "duration": 15,
    "start_time": "2023-02-27T15:03:51.929Z"
   },
   {
    "duration": 23,
    "start_time": "2023-02-27T15:03:51.945Z"
   },
   {
    "duration": 13,
    "start_time": "2023-02-27T15:03:51.970Z"
   },
   {
    "duration": 26,
    "start_time": "2023-02-27T15:03:51.985Z"
   },
   {
    "duration": 13,
    "start_time": "2023-02-27T15:03:52.013Z"
   },
   {
    "duration": 40,
    "start_time": "2023-02-27T15:03:52.027Z"
   },
   {
    "duration": 283,
    "start_time": "2023-02-27T15:03:52.069Z"
   },
   {
    "duration": 258,
    "start_time": "2023-02-27T15:03:52.353Z"
   },
   {
    "duration": 204,
    "start_time": "2023-02-27T15:03:52.613Z"
   },
   {
    "duration": 321,
    "start_time": "2023-02-27T15:03:52.820Z"
   },
   {
    "duration": 231,
    "start_time": "2023-02-27T15:03:53.143Z"
   },
   {
    "duration": 319,
    "start_time": "2023-02-27T15:03:53.375Z"
   },
   {
    "duration": 9,
    "start_time": "2023-02-27T15:03:53.695Z"
   },
   {
    "duration": 238,
    "start_time": "2023-02-27T15:03:53.706Z"
   },
   {
    "duration": 4,
    "start_time": "2023-02-27T15:03:53.946Z"
   },
   {
    "duration": 148,
    "start_time": "2023-02-27T15:03:53.952Z"
   },
   {
    "duration": 149,
    "start_time": "2023-02-27T15:03:54.102Z"
   },
   {
    "duration": 4,
    "start_time": "2023-02-27T15:03:54.253Z"
   },
   {
    "duration": 221,
    "start_time": "2023-02-27T15:03:54.259Z"
   },
   {
    "duration": 146,
    "start_time": "2023-02-27T15:03:54.482Z"
   },
   {
    "duration": 10,
    "start_time": "2023-02-27T15:03:54.630Z"
   },
   {
    "duration": 9,
    "start_time": "2023-02-27T15:03:54.642Z"
   },
   {
    "duration": 15,
    "start_time": "2023-02-27T15:03:54.652Z"
   },
   {
    "duration": 23,
    "start_time": "2023-02-27T15:03:54.669Z"
   },
   {
    "duration": 22,
    "start_time": "2023-02-27T15:03:54.694Z"
   },
   {
    "duration": 13,
    "start_time": "2023-02-27T15:03:54.718Z"
   },
   {
    "duration": 1137,
    "start_time": "2023-02-27T15:09:47.766Z"
   },
   {
    "duration": 2128,
    "start_time": "2023-02-27T15:09:48.905Z"
   },
   {
    "duration": 5,
    "start_time": "2023-02-27T15:09:51.035Z"
   },
   {
    "duration": 57,
    "start_time": "2023-02-27T15:09:51.041Z"
   },
   {
    "duration": 42,
    "start_time": "2023-02-27T15:09:51.100Z"
   },
   {
    "duration": 21,
    "start_time": "2023-02-27T15:09:51.144Z"
   },
   {
    "duration": 6,
    "start_time": "2023-02-27T15:09:51.166Z"
   },
   {
    "duration": 520,
    "start_time": "2023-02-27T15:09:51.173Z"
   },
   {
    "duration": 487,
    "start_time": "2023-02-27T15:09:51.696Z"
   },
   {
    "duration": 464,
    "start_time": "2023-02-27T15:09:52.190Z"
   },
   {
    "duration": 8,
    "start_time": "2023-02-27T15:09:52.656Z"
   },
   {
    "duration": 10,
    "start_time": "2023-02-27T15:09:52.665Z"
   },
   {
    "duration": 18,
    "start_time": "2023-02-27T15:09:52.676Z"
   },
   {
    "duration": 7,
    "start_time": "2023-02-27T15:09:52.698Z"
   },
   {
    "duration": 10,
    "start_time": "2023-02-27T15:09:52.707Z"
   },
   {
    "duration": 5,
    "start_time": "2023-02-27T15:09:52.718Z"
   },
   {
    "duration": 13,
    "start_time": "2023-02-27T15:09:52.725Z"
   },
   {
    "duration": 14,
    "start_time": "2023-02-27T15:09:52.739Z"
   },
   {
    "duration": 38,
    "start_time": "2023-02-27T15:09:52.755Z"
   },
   {
    "duration": 7,
    "start_time": "2023-02-27T15:09:52.795Z"
   },
   {
    "duration": 15,
    "start_time": "2023-02-27T15:09:52.803Z"
   },
   {
    "duration": 10,
    "start_time": "2023-02-27T15:09:52.820Z"
   },
   {
    "duration": 20,
    "start_time": "2023-02-27T15:09:52.832Z"
   },
   {
    "duration": 11,
    "start_time": "2023-02-27T15:09:52.855Z"
   },
   {
    "duration": 277,
    "start_time": "2023-02-27T15:09:52.868Z"
   },
   {
    "duration": 262,
    "start_time": "2023-02-27T15:09:53.146Z"
   },
   {
    "duration": 204,
    "start_time": "2023-02-27T15:09:53.409Z"
   },
   {
    "duration": 322,
    "start_time": "2023-02-27T15:09:53.615Z"
   },
   {
    "duration": 234,
    "start_time": "2023-02-27T15:09:53.939Z"
   },
   {
    "duration": 309,
    "start_time": "2023-02-27T15:09:54.175Z"
   },
   {
    "duration": 9,
    "start_time": "2023-02-27T15:09:54.491Z"
   },
   {
    "duration": 212,
    "start_time": "2023-02-27T15:09:54.502Z"
   },
   {
    "duration": 4,
    "start_time": "2023-02-27T15:09:54.716Z"
   },
   {
    "duration": 157,
    "start_time": "2023-02-27T15:09:54.721Z"
   },
   {
    "duration": 187,
    "start_time": "2023-02-27T15:09:54.880Z"
   },
   {
    "duration": 6,
    "start_time": "2023-02-27T15:09:55.068Z"
   },
   {
    "duration": 231,
    "start_time": "2023-02-27T15:09:55.075Z"
   },
   {
    "duration": 175,
    "start_time": "2023-02-27T15:09:55.307Z"
   },
   {
    "duration": 14,
    "start_time": "2023-02-27T15:09:55.484Z"
   },
   {
    "duration": 14,
    "start_time": "2023-02-27T15:09:55.500Z"
   },
   {
    "duration": 19,
    "start_time": "2023-02-27T15:09:55.517Z"
   },
   {
    "duration": 11,
    "start_time": "2023-02-27T15:09:55.538Z"
   },
   {
    "duration": 32,
    "start_time": "2023-02-27T15:09:55.550Z"
   },
   {
    "duration": 17,
    "start_time": "2023-02-27T15:09:55.583Z"
   },
   {
    "duration": 50,
    "start_time": "2023-02-28T15:53:01.355Z"
   },
   {
    "duration": 1215,
    "start_time": "2023-02-28T15:53:09.564Z"
   },
   {
    "duration": 2244,
    "start_time": "2023-02-28T15:53:10.781Z"
   },
   {
    "duration": 5,
    "start_time": "2023-02-28T15:53:13.027Z"
   },
   {
    "duration": 121,
    "start_time": "2023-02-28T15:53:13.034Z"
   },
   {
    "duration": 94,
    "start_time": "2023-02-28T15:53:13.156Z"
   },
   {
    "duration": 67,
    "start_time": "2023-02-28T15:53:13.252Z"
   },
   {
    "duration": 7,
    "start_time": "2023-02-28T15:53:13.320Z"
   },
   {
    "duration": 575,
    "start_time": "2023-02-28T15:53:13.330Z"
   },
   {
    "duration": 524,
    "start_time": "2023-02-28T15:53:13.907Z"
   },
   {
    "duration": 479,
    "start_time": "2023-02-28T15:53:14.438Z"
   },
   {
    "duration": 18,
    "start_time": "2023-02-28T15:53:14.919Z"
   },
   {
    "duration": 12,
    "start_time": "2023-02-28T15:53:14.939Z"
   },
   {
    "duration": 25,
    "start_time": "2023-02-28T15:53:14.952Z"
   },
   {
    "duration": 50,
    "start_time": "2023-02-28T15:53:14.979Z"
   },
   {
    "duration": 58,
    "start_time": "2023-02-28T15:53:15.031Z"
   },
   {
    "duration": 29,
    "start_time": "2023-02-28T15:53:15.091Z"
   },
   {
    "duration": 37,
    "start_time": "2023-02-28T15:53:15.122Z"
   },
   {
    "duration": 19,
    "start_time": "2023-02-28T15:53:15.160Z"
   },
   {
    "duration": 34,
    "start_time": "2023-02-28T15:53:15.181Z"
   },
   {
    "duration": 35,
    "start_time": "2023-02-28T15:53:15.217Z"
   },
   {
    "duration": 25,
    "start_time": "2023-02-28T15:53:15.254Z"
   },
   {
    "duration": 39,
    "start_time": "2023-02-28T15:53:15.280Z"
   },
   {
    "duration": 27,
    "start_time": "2023-02-28T15:53:15.321Z"
   },
   {
    "duration": 43,
    "start_time": "2023-02-28T15:53:15.349Z"
   },
   {
    "duration": 293,
    "start_time": "2023-02-28T15:53:15.394Z"
   },
   {
    "duration": 297,
    "start_time": "2023-02-28T15:53:15.689Z"
   },
   {
    "duration": 245,
    "start_time": "2023-02-28T15:53:15.987Z"
   },
   {
    "duration": 346,
    "start_time": "2023-02-28T15:53:16.238Z"
   },
   {
    "duration": 261,
    "start_time": "2023-02-28T15:53:16.586Z"
   },
   {
    "duration": 327,
    "start_time": "2023-02-28T15:53:16.849Z"
   },
   {
    "duration": 11,
    "start_time": "2023-02-28T15:53:17.178Z"
   },
   {
    "duration": 269,
    "start_time": "2023-02-28T15:53:17.190Z"
   },
   {
    "duration": 4,
    "start_time": "2023-02-28T15:53:17.461Z"
   },
   {
    "duration": 174,
    "start_time": "2023-02-28T15:53:17.467Z"
   },
   {
    "duration": 163,
    "start_time": "2023-02-28T15:53:17.643Z"
   },
   {
    "duration": 4,
    "start_time": "2023-02-28T15:53:17.809Z"
   },
   {
    "duration": 254,
    "start_time": "2023-02-28T15:53:17.815Z"
   },
   {
    "duration": 181,
    "start_time": "2023-02-28T15:53:18.071Z"
   },
   {
    "duration": 13,
    "start_time": "2023-02-28T15:53:18.254Z"
   },
   {
    "duration": 27,
    "start_time": "2023-02-28T15:53:18.269Z"
   },
   {
    "duration": 62,
    "start_time": "2023-02-28T15:53:18.299Z"
   },
   {
    "duration": 27,
    "start_time": "2023-02-28T15:53:18.363Z"
   },
   {
    "duration": 41,
    "start_time": "2023-02-28T15:53:18.393Z"
   },
   {
    "duration": 21,
    "start_time": "2023-02-28T15:53:18.436Z"
   },
   {
    "duration": 1197,
    "start_time": "2023-04-25T16:12:06.695Z"
   },
   {
    "duration": 3083,
    "start_time": "2023-04-25T16:12:07.893Z"
   },
   {
    "duration": 8,
    "start_time": "2023-04-25T16:12:10.979Z"
   },
   {
    "duration": 102,
    "start_time": "2023-04-25T16:12:10.989Z"
   },
   {
    "duration": 101,
    "start_time": "2023-04-25T16:12:11.093Z"
   },
   {
    "duration": 68,
    "start_time": "2023-04-25T16:12:11.196Z"
   },
   {
    "duration": 7,
    "start_time": "2023-04-25T16:12:11.265Z"
   },
   {
    "duration": 643,
    "start_time": "2023-04-25T16:12:11.274Z"
   },
   {
    "duration": 530,
    "start_time": "2023-04-25T16:12:11.919Z"
   },
   {
    "duration": 556,
    "start_time": "2023-04-25T16:12:12.452Z"
   },
   {
    "duration": 12,
    "start_time": "2023-04-25T16:12:13.010Z"
   },
   {
    "duration": 41,
    "start_time": "2023-04-25T16:12:13.023Z"
   },
   {
    "duration": 58,
    "start_time": "2023-04-25T16:12:13.067Z"
   },
   {
    "duration": 15,
    "start_time": "2023-04-25T16:12:13.128Z"
   },
   {
    "duration": 28,
    "start_time": "2023-04-25T16:12:13.145Z"
   },
   {
    "duration": 32,
    "start_time": "2023-04-25T16:12:13.175Z"
   },
   {
    "duration": 27,
    "start_time": "2023-04-25T16:12:13.209Z"
   },
   {
    "duration": 31,
    "start_time": "2023-04-25T16:12:13.238Z"
   },
   {
    "duration": 9,
    "start_time": "2023-04-25T16:12:13.271Z"
   },
   {
    "duration": 41,
    "start_time": "2023-04-25T16:12:13.281Z"
   },
   {
    "duration": 22,
    "start_time": "2023-04-25T16:12:13.324Z"
   },
   {
    "duration": 31,
    "start_time": "2023-04-25T16:12:13.348Z"
   },
   {
    "duration": 28,
    "start_time": "2023-04-25T16:12:13.381Z"
   },
   {
    "duration": 57,
    "start_time": "2023-04-25T16:12:13.411Z"
   },
   {
    "duration": 304,
    "start_time": "2023-04-25T16:12:13.469Z"
   },
   {
    "duration": 279,
    "start_time": "2023-04-25T16:12:13.774Z"
   },
   {
    "duration": 227,
    "start_time": "2023-04-25T16:12:14.055Z"
   },
   {
    "duration": 348,
    "start_time": "2023-04-25T16:12:14.286Z"
   },
   {
    "duration": 246,
    "start_time": "2023-04-25T16:12:14.636Z"
   },
   {
    "duration": 349,
    "start_time": "2023-04-25T16:12:14.884Z"
   },
   {
    "duration": 10,
    "start_time": "2023-04-25T16:12:15.235Z"
   },
   {
    "duration": 231,
    "start_time": "2023-04-25T16:12:15.246Z"
   },
   {
    "duration": 4,
    "start_time": "2023-04-25T16:12:15.479Z"
   },
   {
    "duration": 173,
    "start_time": "2023-04-25T16:12:15.485Z"
   },
   {
    "duration": 147,
    "start_time": "2023-04-25T16:12:15.660Z"
   },
   {
    "duration": 11,
    "start_time": "2023-04-25T16:12:15.809Z"
   },
   {
    "duration": 236,
    "start_time": "2023-04-25T16:12:15.822Z"
   },
   {
    "duration": 178,
    "start_time": "2023-04-25T16:12:16.060Z"
   },
   {
    "duration": 11,
    "start_time": "2023-04-25T16:12:16.240Z"
   },
   {
    "duration": 10,
    "start_time": "2023-04-25T16:12:16.253Z"
   },
   {
    "duration": 28,
    "start_time": "2023-04-25T16:12:16.264Z"
   },
   {
    "duration": 32,
    "start_time": "2023-04-25T16:12:16.293Z"
   },
   {
    "duration": 36,
    "start_time": "2023-04-25T16:12:16.327Z"
   },
   {
    "duration": 15,
    "start_time": "2023-04-25T16:12:16.365Z"
   },
   {
    "duration": 2509,
    "start_time": "2023-04-30T09:07:19.505Z"
   },
   {
    "duration": 3751,
    "start_time": "2023-04-30T09:07:22.016Z"
   },
   {
    "duration": 9,
    "start_time": "2023-04-30T09:07:25.770Z"
   },
   {
    "duration": 104,
    "start_time": "2023-04-30T09:07:25.781Z"
   },
   {
    "duration": 84,
    "start_time": "2023-04-30T09:07:25.888Z"
   },
   {
    "duration": 90,
    "start_time": "2023-04-30T09:07:25.974Z"
   },
   {
    "duration": 6,
    "start_time": "2023-04-30T09:07:26.072Z"
   },
   {
    "duration": 741,
    "start_time": "2023-04-30T09:07:26.079Z"
   },
   {
    "duration": 857,
    "start_time": "2023-04-30T09:07:26.822Z"
   },
   {
    "duration": 897,
    "start_time": "2023-04-30T09:07:27.683Z"
   },
   {
    "duration": 8,
    "start_time": "2023-04-30T09:07:28.582Z"
   },
   {
    "duration": 78,
    "start_time": "2023-04-30T09:07:28.592Z"
   },
   {
    "duration": 8,
    "start_time": "2023-04-30T09:07:28.674Z"
   },
   {
    "duration": 12,
    "start_time": "2023-04-30T09:07:28.683Z"
   },
   {
    "duration": 62,
    "start_time": "2023-04-30T09:07:28.697Z"
   },
   {
    "duration": 13,
    "start_time": "2023-04-30T09:07:28.761Z"
   },
   {
    "duration": 16,
    "start_time": "2023-04-30T09:07:28.775Z"
   },
   {
    "duration": 74,
    "start_time": "2023-04-30T09:07:28.793Z"
   },
   {
    "duration": 8,
    "start_time": "2023-04-30T09:07:28.868Z"
   },
   {
    "duration": 82,
    "start_time": "2023-04-30T09:07:28.880Z"
   },
   {
    "duration": 9,
    "start_time": "2023-04-30T09:07:28.964Z"
   },
   {
    "duration": 19,
    "start_time": "2023-04-30T09:07:28.978Z"
   },
   {
    "duration": 65,
    "start_time": "2023-04-30T09:07:29.000Z"
   },
   {
    "duration": 17,
    "start_time": "2023-04-30T09:07:29.067Z"
   },
   {
    "duration": 689,
    "start_time": "2023-04-30T09:07:29.086Z"
   },
   {
    "duration": 621,
    "start_time": "2023-04-30T09:07:29.777Z"
   },
   {
    "duration": 496,
    "start_time": "2023-04-30T09:07:30.400Z"
   },
   {
    "duration": 526,
    "start_time": "2023-04-30T09:07:30.959Z"
   },
   {
    "duration": 579,
    "start_time": "2023-04-30T09:07:31.487Z"
   },
   {
    "duration": 496,
    "start_time": "2023-04-30T09:07:32.068Z"
   },
   {
    "duration": 12,
    "start_time": "2023-04-30T09:07:32.566Z"
   },
   {
    "duration": 486,
    "start_time": "2023-04-30T09:07:32.580Z"
   },
   {
    "duration": 8,
    "start_time": "2023-04-30T09:07:33.068Z"
   },
   {
    "duration": 313,
    "start_time": "2023-04-30T09:07:33.078Z"
   },
   {
    "duration": 405,
    "start_time": "2023-04-30T09:07:33.393Z"
   },
   {
    "duration": 5,
    "start_time": "2023-04-30T09:07:33.800Z"
   },
   {
    "duration": 362,
    "start_time": "2023-04-30T09:07:33.807Z"
   },
   {
    "duration": 240,
    "start_time": "2023-04-30T09:07:34.174Z"
   },
   {
    "duration": 44,
    "start_time": "2023-04-30T09:07:34.416Z"
   },
   {
    "duration": 14,
    "start_time": "2023-04-30T09:07:34.462Z"
   },
   {
    "duration": 4,
    "start_time": "2023-04-30T09:07:34.478Z"
   },
   {
    "duration": 8,
    "start_time": "2023-04-30T09:07:34.483Z"
   },
   {
    "duration": 21,
    "start_time": "2023-04-30T09:07:34.493Z"
   },
   {
    "duration": 66,
    "start_time": "2023-04-30T09:07:34.515Z"
   }
  ],
  "kernelspec": {
   "display_name": "Python 3 (ipykernel)",
   "language": "python",
   "name": "python3"
  },
  "language_info": {
   "codemirror_mode": {
    "name": "ipython",
    "version": 3
   },
   "file_extension": ".py",
   "mimetype": "text/x-python",
   "name": "python",
   "nbconvert_exporter": "python",
   "pygments_lexer": "ipython3",
   "version": "3.9.13"
  },
  "toc": {
   "base_numbering": 1,
   "nav_menu": {},
   "number_sections": true,
   "sideBar": true,
   "skip_h1_title": true,
   "title_cell": "Table of Contents",
   "title_sidebar": "Contents",
   "toc_cell": false,
   "toc_position": {},
   "toc_section_display": true,
   "toc_window_display": true
  }
 },
 "nbformat": 4,
 "nbformat_minor": 2
}
